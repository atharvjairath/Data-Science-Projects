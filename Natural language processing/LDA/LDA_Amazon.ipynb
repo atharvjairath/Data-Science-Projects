{
  "nbformat": 4,
  "nbformat_minor": 0,
  "metadata": {
    "kernelspec": {
      "display_name": "Python 3",
      "language": "python",
      "name": "python3"
    },
    "language_info": {
      "codemirror_mode": {
        "name": "ipython",
        "version": 3
      },
      "file_extension": ".py",
      "mimetype": "text/x-python",
      "name": "python",
      "nbconvert_exporter": "python",
      "pygments_lexer": "ipython3",
      "version": "3.7.7"
    },
    "colab": {
      "name": "LDA_Amazon.ipynb",
      "provenance": []
    }
  },
  "cells": [
    {
      "cell_type": "markdown",
      "metadata": {
        "id": "FYjj5m1mkalp"
      },
      "source": [
        "***\n",
        "In this notebook i will be demonstarting Latent Dirichlet Allocation(LDA) for topic modelling. I will be using the Amazon fine food reviews dataset from Kaggle(https://www.kaggle.com/snap/amazon-fine-food-reviews) for performing LDA based topic modelling\n",
        "I will be using the gensim package for LDA topic modelling and pyLDAvis for visualization of LDA topic model\n",
        "***"
      ]
    },
    {
      "cell_type": "code",
      "metadata": {
        "colab": {
          "base_uri": "https://localhost:8080/"
        },
        "id": "nyxtEKjwkalt",
        "outputId": "dc5fb6d4-7a30-41e0-cfe2-860042df8d4f"
      },
      "source": [
        "!pip install pyLDAvis.genism"
      ],
      "execution_count": 3,
      "outputs": [
        {
          "output_type": "stream",
          "name": "stdout",
          "text": [
            "\u001b[31mERROR: Could not find a version that satisfies the requirement pyLDAvis.genism (from versions: none)\u001b[0m\n",
            "\u001b[31mERROR: No matching distribution found for pyLDAvis.genism\u001b[0m\n"
          ]
        }
      ]
    },
    {
      "cell_type": "code",
      "metadata": {
        "id": "dace7cOukalu"
      },
      "source": [
        "import pandas as pd\n",
        "import numpy as np\n",
        "import re\n",
        "import string\n",
        "import spacy\n",
        "import gensim\n",
        "from gensim import corpora\n",
        "# libraries for visualization\n",
        "import pyLDAvis\n",
        "#import pyLDAvis.gensim\n",
        "import matplotlib.pyplot as plt\n",
        "import seaborn as sns\n",
        "%matplotlib inline\n",
        "import warnings\n",
        "warnings.filterwarnings(\"ignore\",category=DeprecationWarning)"
      ],
      "execution_count": 66,
      "outputs": []
    },
    {
      "cell_type": "code",
      "metadata": {
        "id": "eB6MMCR9kalv"
      },
      "source": [
        "review_data= pd.read_csv(\"/content/Reviews.csv\")"
      ],
      "execution_count": 33,
      "outputs": []
    },
    {
      "cell_type": "code",
      "metadata": {
        "colab": {
          "base_uri": "https://localhost:8080/",
          "height": 683
        },
        "id": "PK0hFV_tmfLj",
        "outputId": "91f20cc1-032a-4fca-f062-710ba6fe5072"
      },
      "source": [
        "review_data.head()"
      ],
      "execution_count": 34,
      "outputs": [
        {
          "output_type": "execute_result",
          "data": {
            "text/html": [
              "<div>\n",
              "<style scoped>\n",
              "    .dataframe tbody tr th:only-of-type {\n",
              "        vertical-align: middle;\n",
              "    }\n",
              "\n",
              "    .dataframe tbody tr th {\n",
              "        vertical-align: top;\n",
              "    }\n",
              "\n",
              "    .dataframe thead th {\n",
              "        text-align: right;\n",
              "    }\n",
              "</style>\n",
              "<table border=\"1\" class=\"dataframe\">\n",
              "  <thead>\n",
              "    <tr style=\"text-align: right;\">\n",
              "      <th></th>\n",
              "      <th>Id</th>\n",
              "      <th>ProductId</th>\n",
              "      <th>UserId</th>\n",
              "      <th>ProfileName</th>\n",
              "      <th>HelpfulnessNumerator</th>\n",
              "      <th>HelpfulnessDenominator</th>\n",
              "      <th>Score</th>\n",
              "      <th>Time</th>\n",
              "      <th>Summary</th>\n",
              "      <th>Text</th>\n",
              "    </tr>\n",
              "  </thead>\n",
              "  <tbody>\n",
              "    <tr>\n",
              "      <th>0</th>\n",
              "      <td>1</td>\n",
              "      <td>B001E4KFG0</td>\n",
              "      <td>A3SGXH7AUHU8GW</td>\n",
              "      <td>delmartian</td>\n",
              "      <td>1</td>\n",
              "      <td>1</td>\n",
              "      <td>5</td>\n",
              "      <td>1303862400</td>\n",
              "      <td>Good Quality Dog Food</td>\n",
              "      <td>I have bought several of the Vitality canned d...</td>\n",
              "    </tr>\n",
              "    <tr>\n",
              "      <th>1</th>\n",
              "      <td>2</td>\n",
              "      <td>B00813GRG4</td>\n",
              "      <td>A1D87F6ZCVE5NK</td>\n",
              "      <td>dll pa</td>\n",
              "      <td>0</td>\n",
              "      <td>0</td>\n",
              "      <td>1</td>\n",
              "      <td>1346976000</td>\n",
              "      <td>Not as Advertised</td>\n",
              "      <td>Product arrived labeled as Jumbo Salted Peanut...</td>\n",
              "    </tr>\n",
              "    <tr>\n",
              "      <th>2</th>\n",
              "      <td>3</td>\n",
              "      <td>B000LQOCH0</td>\n",
              "      <td>ABXLMWJIXXAIN</td>\n",
              "      <td>Natalia Corres \"Natalia Corres\"</td>\n",
              "      <td>1</td>\n",
              "      <td>1</td>\n",
              "      <td>4</td>\n",
              "      <td>1219017600</td>\n",
              "      <td>\"Delight\" says it all</td>\n",
              "      <td>This is a confection that has been around a fe...</td>\n",
              "    </tr>\n",
              "    <tr>\n",
              "      <th>3</th>\n",
              "      <td>4</td>\n",
              "      <td>B000UA0QIQ</td>\n",
              "      <td>A395BORC6FGVXV</td>\n",
              "      <td>Karl</td>\n",
              "      <td>3</td>\n",
              "      <td>3</td>\n",
              "      <td>2</td>\n",
              "      <td>1307923200</td>\n",
              "      <td>Cough Medicine</td>\n",
              "      <td>If you are looking for the secret ingredient i...</td>\n",
              "    </tr>\n",
              "    <tr>\n",
              "      <th>4</th>\n",
              "      <td>5</td>\n",
              "      <td>B006K2ZZ7K</td>\n",
              "      <td>A1UQRSCLF8GW1T</td>\n",
              "      <td>Michael D. Bigham \"M. Wassir\"</td>\n",
              "      <td>0</td>\n",
              "      <td>0</td>\n",
              "      <td>5</td>\n",
              "      <td>1350777600</td>\n",
              "      <td>Great taffy</td>\n",
              "      <td>Great taffy at a great price.  There was a wid...</td>\n",
              "    </tr>\n",
              "  </tbody>\n",
              "</table>\n",
              "</div>"
            ],
            "text/plain": [
              "   Id  ...                                               Text\n",
              "0   1  ...  I have bought several of the Vitality canned d...\n",
              "1   2  ...  Product arrived labeled as Jumbo Salted Peanut...\n",
              "2   3  ...  This is a confection that has been around a fe...\n",
              "3   4  ...  If you are looking for the secret ingredient i...\n",
              "4   5  ...  Great taffy at a great price.  There was a wid...\n",
              "\n",
              "[5 rows x 10 columns]"
            ]
          },
          "metadata": {},
          "execution_count": 34
        }
      ]
    },
    {
      "cell_type": "code",
      "metadata": {
        "colab": {
          "base_uri": "https://localhost:8080/"
        },
        "id": "nvxJHTw3mnEn",
        "outputId": "0fadc838-d9c3-42ea-a89c-df215aa2806b"
      },
      "source": [
        "#Lets Check out the data\n",
        "review_data.info()"
      ],
      "execution_count": 36,
      "outputs": [
        {
          "output_type": "stream",
          "name": "stdout",
          "text": [
            "<class 'pandas.core.frame.DataFrame'>\n",
            "RangeIndex: 568454 entries, 0 to 568453\n",
            "Data columns (total 10 columns):\n",
            " #   Column                  Non-Null Count   Dtype \n",
            "---  ------                  --------------   ----- \n",
            " 0   Id                      568454 non-null  int64 \n",
            " 1   ProductId               568454 non-null  object\n",
            " 2   UserId                  568454 non-null  object\n",
            " 3   ProfileName             568438 non-null  object\n",
            " 4   HelpfulnessNumerator    568454 non-null  int64 \n",
            " 5   HelpfulnessDenominator  568454 non-null  int64 \n",
            " 6   Score                   568454 non-null  int64 \n",
            " 7   Time                    568454 non-null  int64 \n",
            " 8   Summary                 568427 non-null  object\n",
            " 9   Text                    568454 non-null  object\n",
            "dtypes: int64(5), object(5)\n",
            "memory usage: 43.4+ MB\n"
          ]
        }
      ]
    },
    {
      "cell_type": "code",
      "metadata": {
        "id": "zgvHggfkkalw"
      },
      "source": [
        "\"\"\"\n",
        "Function to clean text\n",
        "\"\"\"\n",
        "def clean_text(text ): \n",
        "    delete_dict = {sp_character: '' for sp_character in string.punctuation} \n",
        "    delete_dict[' '] = ' ' \n",
        "    table = str.maketrans(delete_dict)\n",
        "    text1 = text.translate(table)\n",
        "    #print('cleaned:'+text1)\n",
        "    textArr= text1.split()\n",
        "    text2 = ' '.join([w for w in textArr if ( not w.isdigit() and  ( not w.isdigit() and len(w)>3))]) \n",
        "    \n",
        "    return text2.lower()"
      ],
      "execution_count": 37,
      "outputs": []
    },
    {
      "cell_type": "code",
      "metadata": {
        "colab": {
          "base_uri": "https://localhost:8080/"
        },
        "id": "b7xH-7sWkalx",
        "outputId": "006f2ed3-f671-49b1-cbb0-0cda2b972c48"
      },
      "source": [
        "import nltk\n",
        "nltk.download('stopwords') # run this one time"
      ],
      "execution_count": 38,
      "outputs": [
        {
          "output_type": "stream",
          "name": "stdout",
          "text": [
            "[nltk_data] Downloading package stopwords to /root/nltk_data...\n",
            "[nltk_data]   Package stopwords is already up-to-date!\n"
          ]
        },
        {
          "output_type": "execute_result",
          "data": {
            "text/plain": [
              "True"
            ]
          },
          "metadata": {},
          "execution_count": 38
        }
      ]
    },
    {
      "cell_type": "code",
      "metadata": {
        "id": "FZ-4xBgQkalx"
      },
      "source": [
        "# we will drop any null values\n",
        "review_data.dropna(axis = 0, how ='any',inplace=True) "
      ],
      "execution_count": 39,
      "outputs": []
    },
    {
      "cell_type": "code",
      "metadata": {
        "colab": {
          "base_uri": "https://localhost:8080/"
        },
        "id": "RlB128EIoWPY",
        "outputId": "6c6aa70e-8c29-4f89-8b65-fef2370f23cc"
      },
      "source": [
        "review_data.info()"
      ],
      "execution_count": 41,
      "outputs": [
        {
          "output_type": "stream",
          "name": "stdout",
          "text": [
            "<class 'pandas.core.frame.DataFrame'>\n",
            "Int64Index: 568411 entries, 0 to 568453\n",
            "Data columns (total 10 columns):\n",
            " #   Column                  Non-Null Count   Dtype \n",
            "---  ------                  --------------   ----- \n",
            " 0   Id                      568411 non-null  int64 \n",
            " 1   ProductId               568411 non-null  object\n",
            " 2   UserId                  568411 non-null  object\n",
            " 3   ProfileName             568411 non-null  object\n",
            " 4   HelpfulnessNumerator    568411 non-null  int64 \n",
            " 5   HelpfulnessDenominator  568411 non-null  int64 \n",
            " 6   Score                   568411 non-null  int64 \n",
            " 7   Time                    568411 non-null  int64 \n",
            " 8   Summary                 568411 non-null  object\n",
            " 9   Text                    568411 non-null  object\n",
            "dtypes: int64(5), object(5)\n",
            "memory usage: 47.7+ MB\n"
          ]
        }
      ]
    },
    {
      "cell_type": "code",
      "metadata": {
        "id": "AaSd1F17oUHR"
      },
      "source": [
        "# Now lets do basic cleaning on our data\n",
        "review_data['Text'] = review_data['Text'].apply(clean_text)\n",
        "#all_sentences = train_data['text'].tolist() + test_data['text'].tolist()\n"
      ],
      "execution_count": 42,
      "outputs": []
    },
    {
      "cell_type": "code",
      "metadata": {
        "colab": {
          "base_uri": "https://localhost:8080/",
          "height": 52
        },
        "id": "35VXZG-w3D_b",
        "outputId": "a2de3014-637f-4019-d9cd-86f7193fd376"
      },
      "source": [
        "# Lets check the clean text\n",
        "review_data['Text'][0]"
      ],
      "execution_count": 43,
      "outputs": [
        {
          "output_type": "execute_result",
          "data": {
            "application/vnd.google.colaboratory.intrinsic+json": {
              "type": "string"
            },
            "text/plain": [
              "'have bought several vitality canned food products have found them good quality product looks more like stew than processed meat smells better labrador finicky appreciates this product better than most'"
            ]
          },
          "metadata": {},
          "execution_count": 43
        }
      ]
    },
    {
      "cell_type": "code",
      "metadata": {
        "id": "mnDziFKd3BdI"
      },
      "source": [
        "# Creating a new column containg number of words in a review\n",
        "review_data['Num_words_text'] = review_data['Text'].apply(lambda x:len(str(x).split())) "
      ],
      "execution_count": 44,
      "outputs": []
    },
    {
      "cell_type": "code",
      "metadata": {
        "colab": {
          "base_uri": "https://localhost:8080/"
        },
        "id": "VsuSp1I03Y6c",
        "outputId": "d5deee36-2db2-4e57-e6a0-7014f65af71d"
      },
      "source": [
        "review_data['Num_words_text']"
      ],
      "execution_count": 45,
      "outputs": [
        {
          "output_type": "execute_result",
          "data": {
            "text/plain": [
              "0         30\n",
              "1         20\n",
              "2         52\n",
              "3         22\n",
              "4         17\n",
              "          ..\n",
              "568449    17\n",
              "568450    26\n",
              "568451    39\n",
              "568452    21\n",
              "568453     9\n",
              "Name: Num_words_text, Length: 568411, dtype: int64"
            ]
          },
          "metadata": {},
          "execution_count": 45
        }
      ]
    },
    {
      "cell_type": "code",
      "metadata": {
        "colab": {
          "base_uri": "https://localhost:8080/"
        },
        "id": "UCJ2XFlS2-eQ",
        "outputId": "2a1d0aed-8a25-436e-fe58-5649356a85fa"
      },
      "source": [
        "print(\"Rating and Freq\")\n",
        "print(review_data['Score'].value_counts())\n",
        "print(len(review_data))\n",
        "max_review_data_sentence_length  = review_data['Num_words_text'].max()"
      ],
      "execution_count": 46,
      "outputs": [
        {
          "output_type": "stream",
          "name": "stdout",
          "text": [
            "Rating and Freq\n",
            "5    363111\n",
            "4     80655\n",
            "1     52264\n",
            "3     42638\n",
            "2     29743\n",
            "Name: Score, dtype: int64\n",
            "568411\n"
          ]
        }
      ]
    },
    {
      "cell_type": "code",
      "metadata": {
        "id": "6A5L1iZp5_6j"
      },
      "source": [
        "# Now we will filter out reviews with more than 20 words and less than 100\n",
        "mask = (review_data['Num_words_text'] < 100) & (review_data['Num_words_text'] >=20)\n",
        "df_short_reviews = review_data[mask]"
      ],
      "execution_count": 47,
      "outputs": []
    },
    {
      "cell_type": "code",
      "metadata": {
        "colab": {
          "base_uri": "https://localhost:8080/"
        },
        "id": "-G3QJQ485831",
        "outputId": "6a8581ec-622b-4656-c66b-b1aa83334f9e"
      },
      "source": [
        "df_sampled = df_short_reviews.groupby('Score').apply(lambda x: x.sample(n=20000)).reset_index(drop = True)\n",
        "print('No of Short reviews')\n",
        "print(len(df_short_reviews))"
      ],
      "execution_count": 48,
      "outputs": [
        {
          "output_type": "stream",
          "name": "stdout",
          "text": [
            "No of Short reviews\n",
            "373281\n"
          ]
        }
      ]
    },
    {
      "cell_type": "markdown",
      "metadata": {
        "id": "GFw16vI-kaly"
      },
      "source": [
        "***\n",
        "Let us pre-process the data\n",
        "***"
      ]
    },
    {
      "cell_type": "code",
      "metadata": {
        "id": "PSww2uw0kalz"
      },
      "source": [
        "from nltk.corpus import stopwords\n",
        "stop_words = stopwords.words('english')\n",
        "# function to remove stopwords\n",
        "def remove_stopwords(text):\n",
        "    textArr = text.split(' ')\n",
        "    rem_text = \" \".join([i for i in textArr if i not in stop_words])\n",
        "    return rem_text\n",
        "\n",
        "# remove stopwords from the text\n",
        "df_sampled['Text']=df_sampled['Text'].apply(remove_stopwords)"
      ],
      "execution_count": 49,
      "outputs": []
    },
    {
      "cell_type": "code",
      "metadata": {
        "colab": {
          "base_uri": "https://localhost:8080/"
        },
        "id": "TS3OINS6AXtO",
        "outputId": "89cbdefe-1812-41fb-802b-1dcd1cf10360"
      },
      "source": [
        "!python -m spacy download en_core_web_md"
      ],
      "execution_count": 54,
      "outputs": [
        {
          "output_type": "stream",
          "name": "stdout",
          "text": [
            "Collecting en_core_web_md==2.2.5\n",
            "  Downloading https://github.com/explosion/spacy-models/releases/download/en_core_web_md-2.2.5/en_core_web_md-2.2.5.tar.gz (96.4 MB)\n",
            "\u001b[K     |████████████████████████████████| 96.4 MB 1.2 MB/s \n",
            "\u001b[?25hRequirement already satisfied: spacy>=2.2.2 in /usr/local/lib/python3.7/dist-packages (from en_core_web_md==2.2.5) (2.2.4)\n",
            "Requirement already satisfied: catalogue<1.1.0,>=0.0.7 in /usr/local/lib/python3.7/dist-packages (from spacy>=2.2.2->en_core_web_md==2.2.5) (1.0.0)\n",
            "Requirement already satisfied: tqdm<5.0.0,>=4.38.0 in /usr/local/lib/python3.7/dist-packages (from spacy>=2.2.2->en_core_web_md==2.2.5) (4.62.0)\n",
            "Requirement already satisfied: preshed<3.1.0,>=3.0.2 in /usr/local/lib/python3.7/dist-packages (from spacy>=2.2.2->en_core_web_md==2.2.5) (3.0.5)\n",
            "Requirement already satisfied: thinc==7.4.0 in /usr/local/lib/python3.7/dist-packages (from spacy>=2.2.2->en_core_web_md==2.2.5) (7.4.0)\n",
            "Requirement already satisfied: setuptools in /usr/local/lib/python3.7/dist-packages (from spacy>=2.2.2->en_core_web_md==2.2.5) (57.4.0)\n",
            "Requirement already satisfied: numpy>=1.15.0 in /usr/local/lib/python3.7/dist-packages (from spacy>=2.2.2->en_core_web_md==2.2.5) (1.21.2)\n",
            "Requirement already satisfied: blis<0.5.0,>=0.4.0 in /usr/local/lib/python3.7/dist-packages (from spacy>=2.2.2->en_core_web_md==2.2.5) (0.4.1)\n",
            "Requirement already satisfied: plac<1.2.0,>=0.9.6 in /usr/local/lib/python3.7/dist-packages (from spacy>=2.2.2->en_core_web_md==2.2.5) (1.1.3)\n",
            "Requirement already satisfied: wasabi<1.1.0,>=0.4.0 in /usr/local/lib/python3.7/dist-packages (from spacy>=2.2.2->en_core_web_md==2.2.5) (0.8.2)\n",
            "Requirement already satisfied: cymem<2.1.0,>=2.0.2 in /usr/local/lib/python3.7/dist-packages (from spacy>=2.2.2->en_core_web_md==2.2.5) (2.0.5)\n",
            "Requirement already satisfied: requests<3.0.0,>=2.13.0 in /usr/local/lib/python3.7/dist-packages (from spacy>=2.2.2->en_core_web_md==2.2.5) (2.23.0)\n",
            "Requirement already satisfied: srsly<1.1.0,>=1.0.2 in /usr/local/lib/python3.7/dist-packages (from spacy>=2.2.2->en_core_web_md==2.2.5) (1.0.5)\n",
            "Requirement already satisfied: murmurhash<1.1.0,>=0.28.0 in /usr/local/lib/python3.7/dist-packages (from spacy>=2.2.2->en_core_web_md==2.2.5) (1.0.5)\n",
            "Requirement already satisfied: importlib-metadata>=0.20 in /usr/local/lib/python3.7/dist-packages (from catalogue<1.1.0,>=0.0.7->spacy>=2.2.2->en_core_web_md==2.2.5) (4.6.4)\n",
            "Requirement already satisfied: typing-extensions>=3.6.4 in /usr/local/lib/python3.7/dist-packages (from importlib-metadata>=0.20->catalogue<1.1.0,>=0.0.7->spacy>=2.2.2->en_core_web_md==2.2.5) (3.7.4.3)\n",
            "Requirement already satisfied: zipp>=0.5 in /usr/local/lib/python3.7/dist-packages (from importlib-metadata>=0.20->catalogue<1.1.0,>=0.0.7->spacy>=2.2.2->en_core_web_md==2.2.5) (3.5.0)\n",
            "Requirement already satisfied: idna<3,>=2.5 in /usr/local/lib/python3.7/dist-packages (from requests<3.0.0,>=2.13.0->spacy>=2.2.2->en_core_web_md==2.2.5) (2.10)\n",
            "Requirement already satisfied: urllib3!=1.25.0,!=1.25.1,<1.26,>=1.21.1 in /usr/local/lib/python3.7/dist-packages (from requests<3.0.0,>=2.13.0->spacy>=2.2.2->en_core_web_md==2.2.5) (1.24.3)\n",
            "Requirement already satisfied: certifi>=2017.4.17 in /usr/local/lib/python3.7/dist-packages (from requests<3.0.0,>=2.13.0->spacy>=2.2.2->en_core_web_md==2.2.5) (2021.5.30)\n",
            "Requirement already satisfied: chardet<4,>=3.0.2 in /usr/local/lib/python3.7/dist-packages (from requests<3.0.0,>=2.13.0->spacy>=2.2.2->en_core_web_md==2.2.5) (3.0.4)\n",
            "Building wheels for collected packages: en-core-web-md\n",
            "  Building wheel for en-core-web-md (setup.py) ... \u001b[?25l\u001b[?25hdone\n",
            "  Created wheel for en-core-web-md: filename=en_core_web_md-2.2.5-py3-none-any.whl size=98051302 sha256=67420c9eae18548a0545b8e2bcd2a8ff2af3f950d7522158f5e29f4cfd9aa0e0\n",
            "  Stored in directory: /tmp/pip-ephem-wheel-cache-qu4580xc/wheels/69/c5/b8/4f1c029d89238734311b3269762ab2ee325a42da2ce8edb997\n",
            "Successfully built en-core-web-md\n",
            "Installing collected packages: en-core-web-md\n",
            "Successfully installed en-core-web-md-2.2.5\n",
            "\u001b[38;5;2m✔ Download and installation successful\u001b[0m\n",
            "You can now load the model via spacy.load('en_core_web_md')\n"
          ]
        }
      ]
    },
    {
      "cell_type": "code",
      "metadata": {
        "colab": {
          "base_uri": "https://localhost:8080/"
        },
        "id": "rhiH_ZIZBtfX",
        "outputId": "232fe738-63ab-4765-c9a9-836ca8fa1f8e"
      },
      "source": [
        "!pip3 install spacy\n",
        "!python3 -m spacy download en_core_web_md"
      ],
      "execution_count": 57,
      "outputs": [
        {
          "output_type": "stream",
          "name": "stdout",
          "text": [
            "Requirement already satisfied: spacy in /usr/local/lib/python3.7/dist-packages (2.2.4)\n",
            "Requirement already satisfied: catalogue<1.1.0,>=0.0.7 in /usr/local/lib/python3.7/dist-packages (from spacy) (1.0.0)\n",
            "Requirement already satisfied: numpy>=1.15.0 in /usr/local/lib/python3.7/dist-packages (from spacy) (1.21.2)\n",
            "Requirement already satisfied: plac<1.2.0,>=0.9.6 in /usr/local/lib/python3.7/dist-packages (from spacy) (1.1.3)\n",
            "Requirement already satisfied: wasabi<1.1.0,>=0.4.0 in /usr/local/lib/python3.7/dist-packages (from spacy) (0.8.2)\n",
            "Requirement already satisfied: preshed<3.1.0,>=3.0.2 in /usr/local/lib/python3.7/dist-packages (from spacy) (3.0.5)\n",
            "Requirement already satisfied: setuptools in /usr/local/lib/python3.7/dist-packages (from spacy) (57.4.0)\n",
            "Requirement already satisfied: murmurhash<1.1.0,>=0.28.0 in /usr/local/lib/python3.7/dist-packages (from spacy) (1.0.5)\n",
            "Requirement already satisfied: tqdm<5.0.0,>=4.38.0 in /usr/local/lib/python3.7/dist-packages (from spacy) (4.62.0)\n",
            "Requirement already satisfied: thinc==7.4.0 in /usr/local/lib/python3.7/dist-packages (from spacy) (7.4.0)\n",
            "Requirement already satisfied: blis<0.5.0,>=0.4.0 in /usr/local/lib/python3.7/dist-packages (from spacy) (0.4.1)\n",
            "Requirement already satisfied: cymem<2.1.0,>=2.0.2 in /usr/local/lib/python3.7/dist-packages (from spacy) (2.0.5)\n",
            "Requirement already satisfied: srsly<1.1.0,>=1.0.2 in /usr/local/lib/python3.7/dist-packages (from spacy) (1.0.5)\n",
            "Requirement already satisfied: requests<3.0.0,>=2.13.0 in /usr/local/lib/python3.7/dist-packages (from spacy) (2.23.0)\n",
            "Requirement already satisfied: importlib-metadata>=0.20 in /usr/local/lib/python3.7/dist-packages (from catalogue<1.1.0,>=0.0.7->spacy) (4.6.4)\n",
            "Requirement already satisfied: typing-extensions>=3.6.4 in /usr/local/lib/python3.7/dist-packages (from importlib-metadata>=0.20->catalogue<1.1.0,>=0.0.7->spacy) (3.7.4.3)\n",
            "Requirement already satisfied: zipp>=0.5 in /usr/local/lib/python3.7/dist-packages (from importlib-metadata>=0.20->catalogue<1.1.0,>=0.0.7->spacy) (3.5.0)\n",
            "Requirement already satisfied: urllib3!=1.25.0,!=1.25.1,<1.26,>=1.21.1 in /usr/local/lib/python3.7/dist-packages (from requests<3.0.0,>=2.13.0->spacy) (1.24.3)\n",
            "Requirement already satisfied: idna<3,>=2.5 in /usr/local/lib/python3.7/dist-packages (from requests<3.0.0,>=2.13.0->spacy) (2.10)\n",
            "Requirement already satisfied: chardet<4,>=3.0.2 in /usr/local/lib/python3.7/dist-packages (from requests<3.0.0,>=2.13.0->spacy) (3.0.4)\n",
            "Requirement already satisfied: certifi>=2017.4.17 in /usr/local/lib/python3.7/dist-packages (from requests<3.0.0,>=2.13.0->spacy) (2021.5.30)\n",
            "Collecting en_core_web_md==2.2.5\n",
            "  Downloading https://github.com/explosion/spacy-models/releases/download/en_core_web_md-2.2.5/en_core_web_md-2.2.5.tar.gz (96.4 MB)\n",
            "\u001b[K     |████████████████████████████████| 96.4 MB 1.3 MB/s \n",
            "\u001b[?25hRequirement already satisfied: spacy>=2.2.2 in /usr/local/lib/python3.7/dist-packages (from en_core_web_md==2.2.5) (2.2.4)\n",
            "Requirement already satisfied: catalogue<1.1.0,>=0.0.7 in /usr/local/lib/python3.7/dist-packages (from spacy>=2.2.2->en_core_web_md==2.2.5) (1.0.0)\n",
            "Requirement already satisfied: plac<1.2.0,>=0.9.6 in /usr/local/lib/python3.7/dist-packages (from spacy>=2.2.2->en_core_web_md==2.2.5) (1.1.3)\n",
            "Requirement already satisfied: blis<0.5.0,>=0.4.0 in /usr/local/lib/python3.7/dist-packages (from spacy>=2.2.2->en_core_web_md==2.2.5) (0.4.1)\n",
            "Requirement already satisfied: numpy>=1.15.0 in /usr/local/lib/python3.7/dist-packages (from spacy>=2.2.2->en_core_web_md==2.2.5) (1.21.2)\n",
            "Requirement already satisfied: preshed<3.1.0,>=3.0.2 in /usr/local/lib/python3.7/dist-packages (from spacy>=2.2.2->en_core_web_md==2.2.5) (3.0.5)\n",
            "Requirement already satisfied: srsly<1.1.0,>=1.0.2 in /usr/local/lib/python3.7/dist-packages (from spacy>=2.2.2->en_core_web_md==2.2.5) (1.0.5)\n",
            "Requirement already satisfied: thinc==7.4.0 in /usr/local/lib/python3.7/dist-packages (from spacy>=2.2.2->en_core_web_md==2.2.5) (7.4.0)\n",
            "Requirement already satisfied: murmurhash<1.1.0,>=0.28.0 in /usr/local/lib/python3.7/dist-packages (from spacy>=2.2.2->en_core_web_md==2.2.5) (1.0.5)\n",
            "Requirement already satisfied: setuptools in /usr/local/lib/python3.7/dist-packages (from spacy>=2.2.2->en_core_web_md==2.2.5) (57.4.0)\n",
            "Requirement already satisfied: cymem<2.1.0,>=2.0.2 in /usr/local/lib/python3.7/dist-packages (from spacy>=2.2.2->en_core_web_md==2.2.5) (2.0.5)\n",
            "Requirement already satisfied: wasabi<1.1.0,>=0.4.0 in /usr/local/lib/python3.7/dist-packages (from spacy>=2.2.2->en_core_web_md==2.2.5) (0.8.2)\n",
            "Requirement already satisfied: tqdm<5.0.0,>=4.38.0 in /usr/local/lib/python3.7/dist-packages (from spacy>=2.2.2->en_core_web_md==2.2.5) (4.62.0)\n",
            "Requirement already satisfied: requests<3.0.0,>=2.13.0 in /usr/local/lib/python3.7/dist-packages (from spacy>=2.2.2->en_core_web_md==2.2.5) (2.23.0)\n",
            "Requirement already satisfied: importlib-metadata>=0.20 in /usr/local/lib/python3.7/dist-packages (from catalogue<1.1.0,>=0.0.7->spacy>=2.2.2->en_core_web_md==2.2.5) (4.6.4)\n",
            "Requirement already satisfied: zipp>=0.5 in /usr/local/lib/python3.7/dist-packages (from importlib-metadata>=0.20->catalogue<1.1.0,>=0.0.7->spacy>=2.2.2->en_core_web_md==2.2.5) (3.5.0)\n",
            "Requirement already satisfied: typing-extensions>=3.6.4 in /usr/local/lib/python3.7/dist-packages (from importlib-metadata>=0.20->catalogue<1.1.0,>=0.0.7->spacy>=2.2.2->en_core_web_md==2.2.5) (3.7.4.3)\n",
            "Requirement already satisfied: urllib3!=1.25.0,!=1.25.1,<1.26,>=1.21.1 in /usr/local/lib/python3.7/dist-packages (from requests<3.0.0,>=2.13.0->spacy>=2.2.2->en_core_web_md==2.2.5) (1.24.3)\n",
            "Requirement already satisfied: certifi>=2017.4.17 in /usr/local/lib/python3.7/dist-packages (from requests<3.0.0,>=2.13.0->spacy>=2.2.2->en_core_web_md==2.2.5) (2021.5.30)\n",
            "Requirement already satisfied: chardet<4,>=3.0.2 in /usr/local/lib/python3.7/dist-packages (from requests<3.0.0,>=2.13.0->spacy>=2.2.2->en_core_web_md==2.2.5) (3.0.4)\n",
            "Requirement already satisfied: idna<3,>=2.5 in /usr/local/lib/python3.7/dist-packages (from requests<3.0.0,>=2.13.0->spacy>=2.2.2->en_core_web_md==2.2.5) (2.10)\n",
            "\u001b[38;5;2m✔ Download and installation successful\u001b[0m\n",
            "You can now load the model via spacy.load('en_core_web_md')\n"
          ]
        }
      ]
    },
    {
      "cell_type": "code",
      "metadata": {
        "id": "PwcrGI8ECFi5"
      },
      "source": [
        "def lemmatization(texts,allowed_postags=['NOUN', 'ADJ']):\n",
        "  \n",
        "  for sent in texts:\n",
        "    doc = nlp(\" \".join(sent)) \n",
        "    texts_out.append([token.lemma_ for token in doc if token.pos_ in allowed_postags])"
      ],
      "execution_count": null,
      "outputs": []
    },
    {
      "cell_type": "code",
      "metadata": {
        "id": "2WbE-153kalz"
      },
      "source": [
        "nlp = spacy.load('en', disable=['parser', 'ner'])\n",
        "\n",
        "def lemmatization(texts,allowed_postags=['NOUN', 'ADJ']): \n",
        "       output = []\n",
        "       for sent in texts:\n",
        "             doc = nlp(sent) \n",
        "             output.append([token.lemma_ for token in doc if token.pos_ in allowed_postags ])\n",
        "       return output"
      ],
      "execution_count": null,
      "outputs": []
    },
    {
      "cell_type": "code",
      "metadata": {
        "id": "jbhV8N11kal0"
      },
      "source": [
        "\n",
        "text_list=df_sampled['Text'].tolist()\n",
        "print(text_list[1])\n",
        "tokenized_reviews = lemmatization(text_list)\n",
        "print(tokenized_reviews[1])"
      ],
      "execution_count": null,
      "outputs": []
    },
    {
      "cell_type": "markdown",
      "metadata": {
        "id": "8kvv9fX5kal0"
      },
      "source": [
        "***\n",
        "Create vocabulary dictionary and document term matrix\n",
        "***"
      ]
    },
    {
      "cell_type": "code",
      "metadata": {
        "id": "ikzdi6Q8kal0"
      },
      "source": [
        "dictionary = corpora.Dictionary(tokenized_reviews)\n",
        "doc_term_matrix = [dictionary.doc2bow(rev) for rev in tokenized_reviews]"
      ],
      "execution_count": 63,
      "outputs": []
    },
    {
      "cell_type": "code",
      "metadata": {
        "id": "GZMx-T87kal1"
      },
      "source": [
        "# Creating the object for LDA model using gensim library\n",
        "LDA = gensim.models.ldamodel.LdaModel\n",
        "\n",
        "# Build LDA model\n",
        "lda_model = LDA(corpus=doc_term_matrix, id2word=dictionary, num_topics=10, random_state=100,\n",
        "                chunksize=1000, passes=50,iterations=100)"
      ],
      "execution_count": null,
      "outputs": []
    },
    {
      "cell_type": "code",
      "metadata": {
        "colab": {
          "base_uri": "https://localhost:8080/"
        },
        "id": "895H1no_kal1",
        "outputId": "a501d0c8-bec8-49c1-f351-9bfaba467bab"
      },
      "source": [
        "lda_model.print_topics()"
      ],
      "execution_count": 65,
      "outputs": [
        {
          "output_type": "execute_result",
          "data": {
            "text/plain": [
              "[(0,\n",
              "  '0.031*\"sauce\" + 0.025*\"good\" + 0.024*\"flavor\" + 0.022*\"bread\" + 0.018*\"chicken\" + 0.016*\"meat\" + 0.012*\"taste\" + 0.012*\"recipe\" + 0.012*\"flavorful\" + 0.012*\"cheese\"'),\n",
              " (1,\n",
              "  '0.033*\"product\" + 0.022*\"weight\" + 0.016*\"pasta\" + 0.015*\"thank\" + 0.014*\"hair\" + 0.013*\"benefit\" + 0.010*\"time\" + 0.010*\"coconut\" + 0.009*\"home\" + 0.008*\"color\"'),\n",
              " (2,\n",
              "  '0.069*\"food\" + 0.035*\"treat\" + 0.020*\"time\" + 0.020*\"dog\" + 0.017*\"love\" + 0.015*\"year\" + 0.015*\"good\" + 0.014*\"product\" + 0.014*\"cat\" + 0.013*\"great\"'),\n",
              " (3,\n",
              "  '0.153*\"coffee\" + 0.029*\"good\" + 0.028*\"strong\" + 0.027*\"flavor\" + 0.019*\"blend\" + 0.019*\"bean\" + 0.016*\"morning\" + 0.014*\"great\" + 0.014*\"taste\" + 0.013*\"kcup\"'),\n",
              " (4,\n",
              "  '0.028*\"cereal\" + 0.027*\"candy\" + 0.027*\"time\" + 0.012*\"ginger\" + 0.012*\"lunch\" + 0.012*\"pepper\" + 0.011*\"year\" + 0.011*\"great\" + 0.010*\"easy\" + 0.010*\"long\"'),\n",
              " (5,\n",
              "  '0.067*\"store\" + 0.056*\"product\" + 0.054*\"price\" + 0.034*\"order\" + 0.030*\"great\" + 0.029*\"local\" + 0.025*\"good\" + 0.023*\"grocery\" + 0.019*\"shipping\" + 0.017*\"item\"'),\n",
              " (6,\n",
              "  '0.037*\"chocolate\" + 0.035*\"taste\" + 0.031*\"water\" + 0.027*\"sugar\" + 0.027*\"flavor\" + 0.027*\"good\" + 0.023*\"milk\" + 0.019*\"drink\" + 0.019*\"sweet\" + 0.014*\"product\"'),\n",
              " (7,\n",
              "  '0.035*\"butter\" + 0.032*\"bag\" + 0.026*\"size\" + 0.026*\"peanut\" + 0.026*\"small\" + 0.021*\"popcorn\" + 0.021*\"package\" + 0.020*\"large\" + 0.019*\"time\" + 0.019*\"cracker\"'),\n",
              " (8,\n",
              "  '0.033*\"cookie\" + 0.032*\"snack\" + 0.030*\"good\" + 0.027*\"healthy\" + 0.027*\"ingredient\" + 0.024*\"great\" + 0.023*\"product\" + 0.019*\"food\" + 0.018*\"organic\" + 0.018*\"bar\"'),\n",
              " (9,\n",
              "  '0.050*\"flavor\" + 0.041*\"good\" + 0.032*\"taste\" + 0.025*\"chip\" + 0.023*\"great\" + 0.018*\"salt\" + 0.017*\"love\" + 0.015*\"brand\" + 0.014*\"little\" + 0.013*\"favorite\"')]"
            ]
          },
          "metadata": {},
          "execution_count": 65
        }
      ]
    },
    {
      "cell_type": "code",
      "metadata": {
        "colab": {
          "base_uri": "https://localhost:8080/",
          "height": 915
        },
        "id": "qyOVjO1Okal1",
        "outputId": "83ddb743-2652-4688-dadc-c4a1c9f92b10"
      },
      "source": [
        "# Visualize the topics\n",
        "#https://github.com/bmabey/pyLDAvis\n",
        "#https://speakerdeck.com/bmabey/visualizing-topic-models\n",
        "import pyLDAvis.gensim_models\n",
        "pyLDAvis.enable_notebook()\n",
        "vis = pyLDAvis.gensim_models.prepare(lda_model, doc_term_matrix, dictionary)\n",
        "vis"
      ],
      "execution_count": 71,
      "outputs": [
        {
          "output_type": "stream",
          "name": "stderr",
          "text": [
            "/usr/local/lib/python3.7/dist-packages/pyLDAvis/_prepare.py:247: FutureWarning: In a future version of pandas all arguments of DataFrame.drop except for the argument 'labels' will be keyword-only\n",
            "  by='saliency', ascending=False).head(R).drop('saliency', 1)\n"
          ]
        },
        {
          "output_type": "execute_result",
          "data": {
            "text/html": [
              "\n",
              "<link rel=\"stylesheet\" type=\"text/css\" href=\"https://cdn.jsdelivr.net/gh/bmabey/pyLDAvis@3.3.1/pyLDAvis/js/ldavis.v1.0.0.css\">\n",
              "\n",
              "\n",
              "<div id=\"ldavis_el1471399217671227686253042044\"></div>\n",
              "<script type=\"text/javascript\">\n",
              "\n",
              "var ldavis_el1471399217671227686253042044_data = {\"mdsDat\": {\"x\": [-0.13711265665711167, 0.045314387488174325, -0.17040515355055172, -0.016074759010668585, -0.14067265386399416, -0.10530346885994808, -0.10165319151153182, 0.18863093386313823, 0.27494281044739294, 0.16233375165510053], \"y\": [0.026503652363581657, -0.1115055589250547, 0.0496732984665257, -0.2350498982597001, 0.04075746462718786, -0.1388837010967541, 0.2689760241910032, 0.0025480775922348663, 0.13853172210345802, -0.04155108106248267], \"topics\": [1, 2, 3, 4, 5, 6, 7, 8, 9, 10], \"cluster\": [1, 1, 1, 1, 1, 1, 1, 1, 1, 1], \"Freq\": [16.29043098029038, 14.441102495298717, 14.008810532846377, 10.306822262499372, 10.030376026713054, 9.57580437371858, 6.8447615649729805, 6.567444865802624, 6.255842557590831, 5.67860434026708]}, \"tinfo\": {\"Term\": [\"coffee\", \"food\", \"store\", \"flavor\", \"product\", \"price\", \"chocolate\", \"treat\", \"taste\", \"order\", \"snack\", \"cookie\", \"chip\", \"water\", \"sugar\", \"local\", \"milk\", \"bag\", \"time\", \"strong\", \"ingredient\", \"healthy\", \"butter\", \"small\", \"sauce\", \"dog\", \"size\", \"grocery\", \"salt\", \"cereal\", \"chip\", \"salt\", \"tea\", \"potato\", \"spicy\", \"cold\", \"enjoy\", \"salad\", \"salty\", \"subscribe\", \"vinegar\", \"sweetness\", \"blue\", \"pleased\", \"pretzel\", \"mint\", \"crunch\", \"stash\", \"pumpkin\", \"wine\", \"onion\", \"kick\", \"super\", \"hint\", \"style\", \"tomato\", \"herbal\", \"garlic\", \"subtle\", \"personal\", \"green\", \"spice\", \"flavor\", \"taste\", \"favorite\", \"variety\", \"brand\", \"combination\", \"good\", \"love\", \"great\", \"nice\", \"little\", \"sweet\", \"many\", \"different\", \"family\", \"light\", \"well\", \"time\", \"much\", \"thing\", \"snack\", \"price\", \"right\", \"treat\", \"dog\", \"cat\", \"baby\", \"can\", \"chew\", \"formula\", \"bone\", \"picky\", \"coat\", \"feed\", \"heavy\", \"eater\", \"greenie\", \"biscuit\", \"control\", \"movie\", \"travel\", \"adult\", \"slice\", \"german\", \"girl\", \"busy\", \"boost\", \"early\", \"bill\", \"discount\", \"filler\", \"worry\", \"charge\", \"food\", \"tooth\", \"allergy\", \"old\", \"stomach\", \"month\", \"crazy\", \"problem\", \"hour\", \"small\", \"year\", \"time\", \"expensive\", \"week\", \"happy\", \"love\", \"issue\", \"little\", \"last\", \"day\", \"product\", \"size\", \"great\", \"good\", \"brand\", \"large\", \"stuff\", \"easy\", \"thing\", \"long\", \"perfect\", \"healthy\", \"chocolate\", \"milk\", \"dark\", \"packet\", \"honey\", \"syrup\", \"juice\", \"sweetener\", \"cocoa\", \"drinker\", \"soda\", \"cinnamon\", \"pure\", \"warm\", \"decaf\", \"summer\", \"pricey\", \"breath\", \"beverage\", \"berry\", \"granola\", \"blood\", \"blueberry\", \"cool\", \"creamer\", \"bitterness\", \"break\", \"sized\", \"fruity\", \"outstanding\", \"apple\", \"water\", \"drink\", \"sugar\", \"powder\", \"artificial\", \"sweet\", \"amazing\", \"energy\", \"taste\", \"perfect\", \"bottle\", \"flavor\", \"fruit\", \"good\", \"little\", \"product\", \"great\", \"love\", \"stuff\", \"nice\", \"natural\", \"much\", \"thing\", \"well\", \"store\", \"local\", \"grocery\", \"shipping\", \"item\", \"amazon\", \"olive\", \"bulk\", \"service\", \"seller\", \"supermarket\", \"customer\", \"shipment\", \"door\", \"pizza\", \"ship\", \"diamond\", \"crust\", \"affordable\", \"waffle\", \"lovely\", \"tasting\", \"yeast\", \"sausage\", \"delightful\", \"vendor\", \"dozen\", \"auto\", \"sampler\", \"broth\", \"order\", \"price\", \"stock\", \"cheap\", \"product\", \"excellent\", \"available\", \"gift\", \"company\", \"great\", \"quality\", \"free\", \"case\", \"year\", \"good\", \"happy\", \"pack\", \"month\", \"package\", \"well\", \"fresh\", \"last\", \"love\", \"coffee\", \"blend\", \"bean\", \"kcup\", \"bold\", \"smooth\", \"cup\", \"machine\", \"roast\", \"french\", \"maker\", \"awesome\", \"instant\", \"weak\", \"ground\", \"pod\", \"cherry\", \"training\", \"starbuck\", \"espresso\", \"brew\", \"brewer\", \"lover\", \"gravy\", \"mountain\", \"program\", \"filter\", \"cappuccino\", \"brewing\", \"grind\", \"strong\", \"morning\", \"vanilla\", \"rich\", \"bitter\", \"medium\", \"black\", \"aroma\", \"flavor\", \"good\", \"taste\", \"great\", \"full\", \"brand\", \"favorite\", \"time\", \"cookie\", \"ingredient\", \"bar\", \"protein\", \"meal\", \"corn\", \"rice\", \"soup\", \"wheat\", \"dish\", \"grain\", \"yummy\", \"flour\", \"oatmeal\", \"skin\", \"cake\", \"sodium\", \"crunchy\", \"vegetable\", \"plan\", \"homemade\", \"list\", \"drop\", \"egg\", \"sandwich\", \"nutritious\", \"supplement\", \"pantry\", \"peach\", \"raisin\", \"organic\", \"snack\", \"healthy\", \"free\", \"tasty\", \"high\", \"natural\", \"whole\", \"delicious\", \"diet\", \"good\", \"product\", \"great\", \"food\", \"calorie\", \"kid\", \"texture\", \"sugar\", \"sauce\", \"bread\", \"meat\", \"flavorful\", \"beef\", \"noodle\", \"fish\", \"chewy\", \"wellness\", \"restaurant\", \"shape\", \"pleasant\", \"consistency\", \"pancake\", \"sour\", \"licorice\", \"salmon\", \"traditional\", \"pork\", \"ball\", \"carb\", \"tuna\", \"school\", \"smoothie\", \"town\", \"peppermint\", \"bargain\", \"vegetarian\", \"steak\", \"strawberry\", \"chicken\", \"heat\", \"original\", \"cheese\", \"recipe\", \"version\", \"creamy\", \"texture\", \"flavor\", \"good\", \"easy\", \"stuff\", \"taste\", \"perfect\", \"nice\", \"product\", \"wonderful\", \"cereal\", \"candy\", \"ginger\", \"lunch\", \"pepper\", \"veggie\", \"seasoning\", \"banana\", \"beautiful\", \"spoon\", \"dessert\", \"handy\", \"tree\", \"digestive\", \"way\", \"muffin\", \"sleep\", \"pick\", \"liver\", \"messy\", \"frozen\", \"spot\", \"period\", \"flower\", \"microwave\", \"impossible\", \"additive\", \"toobr\", \"mixture\", \"pink\", \"fiber\", \"guest\", \"breakfast\", \"time\", \"minute\", \"long\", \"kid\", \"able\", \"easy\", \"gift\", \"night\", \"year\", \"find\", \"friend\", \"hard\", \"great\", \"little\", \"nice\", \"thing\", \"fresh\", \"first\", \"fruit\", \"one\", \"family\", \"butter\", \"peanut\", \"popcorn\", \"cracker\", \"delivery\", \"pill\", \"seed\", \"date\", \"pocket\", \"supply\", \"subscription\", \"share\", \"fabulous\", \"empty\", \"bit\", \"expiration\", \"gold\", \"stale\", \"superior\", \"middle\", \"mail\", \"mean\", \"kernel\", \"flavour\", \"garden\", \"jasmine\", \"duck\", \"buttery\", \"inch\", \"reward\", \"bag\", \"size\", \"box\", \"large\", \"package\", \"small\", \"ounce\", \"afternoon\", \"packaging\", \"pound\", \"time\", \"fresh\", \"home\", \"purchase\", \"pack\", \"great\", \"amount\", \"one\", \"first\", \"weight\", \"pasta\", \"hair\", \"benefit\", \"coconut\", \"plant\", \"careful\", \"table\", \"alot\", \"purse\", \"gluten\", \"litter\", \"bonus\", \"dairy\", \"science\", \"cranberry\", \"earth\", \"trap\", \"baking\", \"enjoyable\", \"prime\", \"ordering\", \"season\", \"indian\", \"book\", \"mineral\", \"conditioner\", \"flax\", \"wait\", \"temperature\", \"thank\", \"scent\", \"area\", \"color\", \"line\", \"product\", \"clean\", \"home\", \"instruction\", \"result\", \"mother\", \"cook\", \"day\", \"time\", \"week\", \"nice\", \"work\", \"several\", \"great\", \"water\", \"health\", \"light\"], \"Freq\": [28457.0, 21843.0, 12846.0, 29925.0, 26614.0, 14015.0, 9540.0, 9277.0, 22908.0, 6758.0, 7603.0, 5857.0, 7548.0, 9161.0, 8320.0, 5497.0, 6047.0, 5345.0, 16424.0, 6858.0, 4766.0, 6795.0, 3999.0, 7464.0, 3937.0, 5219.0, 5072.0, 4324.0, 5358.0, 3404.0, 7547.391413765386, 5357.95940356546, 2664.4978281328363, 2477.772594796077, 2134.8587214428067, 1976.071948876327, 1677.6316526533428, 1661.733880365948, 1418.553113740169, 1176.152798536639, 1124.7228834392267, 1106.3349589633715, 999.2315075866662, 869.2373436338096, 860.1015868152116, 845.277014269132, 833.1688117150633, 802.7555141231473, 740.3076679292124, 728.8100426828007, 719.6245460490122, 657.1637028694695, 621.8993682169471, 614.41043485581, 612.5366910550362, 606.4778476346044, 601.2313509416424, 581.4742818494856, 546.7978675972772, 533.6263359855574, 2717.342026026296, 1824.7694729085515, 15019.289590739487, 9644.058949650791, 3856.4900179026, 2345.83478433607, 4405.865152618898, 867.5355113129388, 12405.00649467673, 5234.628267228853, 7053.921302180151, 2915.6822087498176, 4291.57963724935, 2979.119020167535, 2684.2307649841487, 2158.538667188239, 1750.7716622558928, 1643.7755589549097, 2379.792184268267, 2760.817153646005, 1883.0214003704848, 1905.632783137035, 1894.2059738986914, 1802.1823980177867, 1665.7968083208934, 9276.957149224214, 5218.108286791865, 3835.8292756293476, 2218.987966069841, 1522.9087728184163, 1439.0155428052358, 1268.958779506795, 1229.4446411886581, 1146.8587630789036, 1045.1436461520414, 848.03107577904, 763.4801839851724, 758.2720756450474, 743.439685018916, 739.2977236507206, 666.1520323512423, 599.0785023791286, 592.2525211470827, 575.3478108474327, 529.371771862581, 524.2266271645274, 503.33116788337793, 488.72257532627094, 471.15761868495883, 439.4345927177414, 434.0913087246825, 425.0334189637194, 411.75914493418975, 411.55209980257104, 401.9860791260185, 18415.962764748652, 2059.044122778171, 1243.4183347852336, 669.4721656078899, 1197.498969306104, 3376.9789003584247, 764.7034598086811, 2700.256636404239, 1434.469829417704, 3286.8570652306557, 4088.124776245351, 5448.253041114263, 1925.5815044030487, 1947.305393324984, 2264.3835687103747, 4488.33040425232, 1094.8161678386818, 3276.1219822324965, 1713.4676439011487, 1476.617728787474, 3859.0053764264776, 1757.5076910191035, 3595.3584840072326, 3982.5957192191263, 2144.102958651895, 1685.6147955889714, 1798.152808308573, 1806.2811591578277, 1797.4757156116386, 1531.8999310833563, 1581.7682566183375, 1514.868732992364, 9539.361492463358, 6046.620629965108, 3149.214639085674, 2257.577694363266, 2187.5826773208396, 2017.2343472006073, 1695.1218441575968, 1463.9028655551094, 1258.9993802646377, 1199.3853487859683, 1192.2819586875255, 1109.2914677425347, 1049.083201415439, 1005.6177254755908, 965.433832343472, 817.4636157287796, 775.8491124695016, 760.2022371036505, 742.3582756527319, 676.1525026046277, 665.6211459003932, 628.1409729971917, 594.4806137134959, 580.8723577788468, 545.9779764319181, 544.3443139129776, 538.759980446177, 525.5768597929813, 523.1987121136951, 497.76765363937153, 1293.586434174199, 8008.54099241047, 5051.585854988033, 7052.6880189194335, 1237.2835884999784, 1087.0146689829091, 5044.84072156417, 1789.2656568093178, 1737.8979327595644, 9072.72063469562, 3305.641465234546, 2395.720018138616, 6973.284323719774, 1964.066035978985, 6938.2280925193545, 3074.847803156349, 3606.783688715986, 3491.324268483824, 2789.380426851946, 1902.4325968098417, 2003.2651159488223, 1629.1705964669977, 1650.0202891276472, 1488.211759003803, 1460.3306900653006, 12845.909562088338, 5496.1356080957175, 4323.713736998704, 3638.4705279366913, 3297.9511887675417, 2064.594203168065, 1365.4459773361398, 1315.626786510604, 1196.658551351773, 1104.3275153738787, 1076.468410010655, 1067.0740894713174, 985.0868960358895, 783.4665086752786, 635.6857790770553, 631.9937466538784, 533.1886525691704, 530.1938489701241, 480.7796340349782, 468.42566914687427, 463.9090611839516, 460.94714993029993, 426.1403366865831, 392.54107256087997, 337.4148129287437, 319.7119303918922, 312.98562355519584, 304.5555821252995, 300.62432456305123, 294.8573407594291, 6535.596662506654, 10263.69900943959, 993.2221509324672, 2301.9752373397155, 10634.177052386896, 2396.771154562883, 1701.8741310258397, 1260.5505988069635, 1285.5071769347069, 5804.349330193703, 2040.5890139062976, 2242.3479936087188, 1511.4073601920134, 2662.625403076094, 4711.077109903349, 1550.104937853851, 1540.2139428990579, 1544.0088305752654, 1429.0634181564023, 1609.9850081532306, 1356.5144609863248, 1235.9270334517807, 1271.8667212996427, 28456.40902092817, 3569.0056088322094, 3489.9700330624837, 2485.387168922999, 2333.371120439858, 2310.466410561813, 2241.2709179700378, 2193.5893389034964, 1856.8129679642066, 1441.3296873004963, 1420.6463065562398, 1389.5429404224815, 1340.8616075208388, 1161.4549339764008, 1158.771101900206, 1142.0400190274238, 1109.1269565694492, 1070.5850447022344, 1044.6796025837534, 978.6065671931265, 936.2541536240226, 664.2641843754964, 529.21267633904, 518.4104295857105, 516.6939951716914, 480.74702241895716, 467.30298931147, 449.62964104452004, 448.4684524001165, 448.1452367261863, 5176.989398366735, 3006.1701538197008, 2170.4740543599414, 2031.4113757897758, 1875.5513447520125, 919.0407561414544, 1828.8695195205719, 882.5022450668524, 4951.057143570279, 5334.709649806225, 2613.037981027215, 2674.7245921406447, 1221.577807588147, 1331.6502203553214, 1253.4341901099908, 1322.7225120428066, 5856.324885537795, 4765.9758081054515, 3220.754000864846, 3023.310647694034, 2664.5068703278657, 2162.100343473996, 2057.418916320898, 2003.6685042675426, 1562.122000721039, 1483.9612075556608, 1314.469743640003, 1296.3371789987757, 1168.8963235607505, 1148.9721500984033, 1106.082313461477, 1051.405207190301, 1030.110484365163, 1009.5086347836342, 952.3002161784328, 757.7119401664105, 736.2246103077645, 718.3769917495571, 573.3082566095197, 569.2979915115542, 549.6265115393517, 541.3687327569063, 506.10843073416737, 471.9972873566734, 451.8078249613816, 412.94390480871994, 3261.2024690183002, 5708.696054379694, 4836.058999265228, 3117.6854511347074, 2178.8052869427606, 2309.539540949021, 1827.4507435243358, 1912.0253839427517, 2000.262696534383, 1428.931263699946, 5363.6902748770835, 4114.692138470652, 4312.983226886715, 3426.7850508264005, 1538.4245629680381, 1351.2131693765925, 1258.0651207681196, 1266.947014065446, 3936.7855626542537, 2795.7346210248825, 1984.0233848470589, 1503.9887875080012, 1465.8254089805057, 1380.2225896865693, 1222.6956626509598, 1147.5327673783966, 938.847638610783, 894.6655230946034, 887.8142417792584, 883.932419728017, 880.2486088575741, 815.3072585492063, 810.176442896005, 799.6999747717952, 775.7598090250978, 708.2395313431994, 697.4903107874782, 658.072802410936, 624.4574230855854, 612.4279191468004, 579.236191650135, 549.5316217015394, 493.91365204637174, 471.45130856495405, 466.4334313103418, 447.10437566390306, 435.13461749582996, 434.7451482770679, 2319.8749070076337, 1023.2621546706371, 989.3878966846421, 1495.759693152264, 1543.4710598276965, 1121.6584798982046, 707.4640761077228, 1255.983620983851, 2981.215720424265, 3170.5134646704755, 1474.961670838971, 1332.4122764580602, 1578.2277486781506, 1105.241499238071, 879.27661837437, 893.2966837272825, 811.7807231068036, 3403.1317160118138, 3319.1020940239023, 1473.454769836501, 1426.981624771162, 1422.0807767139877, 970.1835911385014, 917.1601401623986, 707.5464424842903, 629.8551026169721, 616.3779687186972, 600.7101866672622, 589.120817885534, 572.2943538602959, 516.0016127293143, 477.7289678187298, 435.96891958093073, 419.85817038038107, 419.07637867852605, 417.48399108104053, 416.4007041552517, 411.854031558415, 406.61971194026404, 402.00435677714836, 397.3937315062259, 396.9643592568283, 367.22211740079945, 356.69909856562924, 355.38846526478005, 347.2581771025226, 344.3808449001116, 865.265179153644, 446.4110770854921, 1106.5484789497539, 3250.177991693294, 975.4706476384715, 1221.760269255394, 1081.410149882912, 968.8075607054716, 1245.1764644005752, 807.9344674292638, 724.9572039702851, 1364.7153979953289, 628.45964280643, 769.9860608769316, 699.1851826403814, 1286.2235451163372, 1050.529901629733, 813.0694876340646, 815.5537289756979, 749.6940869775648, 720.3660363995828, 693.0547891946287, 678.6677033419577, 672.6565484958069, 3998.191405268313, 3029.764140117451, 2441.141647261815, 2219.526218430512, 1731.462697647272, 1680.7337432330635, 1446.9897906235558, 1174.306012888526, 1070.1181637099212, 1014.74991864249, 811.7176600781228, 678.3050855892169, 586.8966529912104, 558.804339787669, 544.9011443464672, 540.1376968219599, 486.3620698392056, 474.25016505985167, 442.0413312367438, 412.52536876314014, 402.343534077596, 378.4610614887914, 367.9821891776833, 356.2349041539603, 349.723844797377, 340.21451300851163, 325.7214510236831, 313.2872024159696, 302.9309761580689, 299.322791863741, 3684.9957961982823, 3045.481180576084, 1571.5564173540224, 2335.665825672272, 2434.2143305460286, 2955.3964944027753, 999.853144484279, 639.7408066714924, 974.9313369738372, 809.959553456188, 2253.733082182016, 1265.0347392250922, 833.5506000294303, 891.6655663192653, 1012.8944182123548, 1090.9303302188273, 738.5164738347353, 711.5528496505484, 697.708899861094, 2325.2787585042406, 1720.548133969705, 1483.1900076113047, 1346.0017791718883, 1018.4521492319831, 717.37944183474, 658.1128399807114, 610.2314073903433, 584.211507925329, 583.1770713804871, 564.2470785258919, 560.2759589149689, 506.7133048214828, 500.14071444149084, 477.40843259955545, 471.1312835660828, 450.6852436294567, 434.221049705426, 418.5471319959325, 387.60036114358553, 381.50240179284503, 372.9763573439041, 371.8704604335828, 369.29274448100296, 365.8792263305322, 352.6806584572019, 349.1899493978926, 345.0960884052757, 341.030659723941, 339.1689188382409, 1566.3364693492026, 459.87189238230656, 730.5048840564866, 889.704766265667, 787.8777127568071, 3504.2047338152593, 776.2661625409564, 922.1094706129022, 462.0225604071176, 634.5552129580407, 512.6196338227112, 537.4063399484247, 706.9181635059921, 1058.69006554023, 606.2683203359237, 666.1159601033737, 618.8118920011967, 601.7673948487907, 693.5310264708417, 624.3569518757796, 545.7072034307506, 548.5329000758747], \"Total\": [28457.0, 21843.0, 12846.0, 29925.0, 26614.0, 14015.0, 9540.0, 9277.0, 22908.0, 6758.0, 7603.0, 5857.0, 7548.0, 9161.0, 8320.0, 5497.0, 6047.0, 5345.0, 16424.0, 6858.0, 4766.0, 6795.0, 3999.0, 7464.0, 3937.0, 5219.0, 5072.0, 4324.0, 5358.0, 3404.0, 7548.298095113942, 5358.866122645028, 2665.4045566107798, 2478.6793153138956, 2135.7654622456635, 1976.9787994207227, 1678.5385185653975, 1662.6406434795938, 1419.4598249135627, 1177.0596747869818, 1125.6295609526658, 1107.2417440236575, 1000.1383114455225, 870.1442652254891, 861.0082961218391, 846.1837513092797, 834.0755489510453, 803.6622459894797, 741.2144185767609, 729.7167562291755, 720.5313307863635, 658.0704751912114, 622.8063073861299, 615.3171715279875, 613.4435930396397, 607.3845824082251, 602.1380935503937, 582.3810221773626, 547.7046224259473, 534.5331358424797, 3357.0941101028748, 2181.0067328846594, 29925.445291738633, 22908.64384518584, 7356.896747312215, 3830.5231976858677, 9424.358396237421, 987.9434207690248, 42626.40821177639, 16543.77434783123, 30003.44769332116, 7277.910927452986, 14210.806288033446, 8577.435187708566, 7529.57184543498, 5522.118392768358, 3757.6192555759453, 3488.8484148447396, 8319.706256239833, 16424.088484208238, 6764.859944300265, 7472.608444116931, 7603.719132479675, 14015.847143695672, 4456.999447979523, 9277.867280428696, 5219.018355272639, 3836.7393456164764, 2219.898084901897, 1523.818943900232, 1439.9256359643766, 1269.8688630905915, 1230.3547109122865, 1147.768905275836, 1046.0537566830938, 848.9411622390464, 764.3904413080514, 759.1822351932482, 744.3497651019202, 740.20792271482, 667.0622722373129, 599.9888085799092, 593.1628571704732, 576.2580723487791, 530.282152026753, 525.13693688717, 504.2413359594243, 489.6327240040914, 472.067881244145, 440.34490794491626, 435.00161941470935, 425.9437029959808, 412.6693109225806, 412.46233116412776, 402.89636359568357, 21843.56833269796, 2315.465473876816, 1398.3860696833867, 716.7434578082716, 1449.2978916211453, 5700.319188050106, 881.379114993478, 4623.296951039503, 2102.832795806213, 7464.238817079616, 10604.707880388287, 16424.088484208238, 3536.1628614680963, 3638.006400451679, 4747.661267025443, 16543.77434783123, 1622.2967060923293, 14210.806288033446, 4056.011001447989, 3090.3913105788065, 26614.37430277089, 5072.453017410479, 30003.44769332116, 42626.40821177639, 9424.358396237421, 4617.038490385564, 6115.103072631921, 6493.632794778707, 7472.608444116931, 4024.6873890037155, 5993.357771673715, 6795.973392888376, 9540.265035146844, 6047.524193710951, 3150.118246609843, 2258.481278674052, 2188.486239283771, 2018.13790593902, 1696.025351816334, 1464.8063828938489, 1259.90289085814, 1200.28896039008, 1193.1854598198315, 1110.1950255155612, 1049.9868441951558, 1006.5213281102789, 966.3374213513001, 818.3673218022238, 776.7528041607757, 761.106019622586, 743.2617955889405, 677.0560393609843, 666.5247095701747, 629.0445713726956, 595.3841887338658, 581.776015402205, 546.88153296887, 545.2479600905384, 539.663782413485, 526.4805679614796, 524.1022970539191, 498.6714218464654, 1321.6305982483286, 9161.080669480829, 5810.139444675129, 8320.448957354703, 1435.153124888056, 1248.6023656487282, 8577.435187708566, 2360.3657243072053, 2399.8588280011722, 22908.64384518584, 5993.357771673715, 3834.792161106973, 29925.445291738633, 3671.5580657794685, 42626.40821177639, 14210.806288033446, 26614.37430277089, 30003.44769332116, 16543.77434783123, 6115.103072631921, 7277.910927452986, 4024.7292535053602, 6764.859944300265, 7472.608444116931, 8319.706256239833, 12846.815184654604, 5497.041221612717, 4324.619319568499, 3639.376101443097, 3298.8568098550713, 2065.4998120552746, 1366.3516199860596, 1316.5324025389436, 1197.5641208417358, 1105.2331042713213, 1077.3740602958112, 1067.9796787053078, 985.9924719194364, 784.3722072638166, 636.5914635272135, 632.8993128413277, 534.0943452302005, 531.0995040233606, 481.68535332119626, 469.33132487015376, 464.8148691624253, 461.8528632087949, 427.04594969793396, 393.4467291150298, 338.32060133941127, 320.6175116447119, 313.89135302916605, 305.46119960580506, 301.529994530835, 295.76306998409615, 6758.083054608676, 14015.847143695672, 1281.167156417392, 3684.067047299613, 26614.37430277089, 4408.587609802666, 2928.331945181529, 2227.158027132499, 2384.6569819253946, 30003.44769332116, 5346.458215154148, 6443.084989676926, 3393.33351863053, 10604.707880388287, 42626.40821177639, 4747.661267025443, 4756.192902308546, 5700.319188050106, 4924.627368353046, 8319.706256239833, 5383.196871661465, 4056.011001447989, 16543.77434783123, 28457.31030922164, 3569.906999410559, 3490.8713843623636, 2486.2884540359764, 2334.2724117709813, 2311.3677934893403, 2242.1723129447764, 2194.490723343989, 1857.7142498759317, 1442.2310460347642, 1421.547672554484, 1390.4445955100266, 1341.7630029526752, 1162.3562452680198, 1159.6724941222913, 1142.9412995170428, 1110.028407198833, 1071.4866290320097, 1045.5809003751017, 979.5078455237455, 937.1554611796312, 665.1654801949106, 530.1141930714346, 519.3120121074278, 517.5952950851201, 481.64856668901086, 468.2042944361625, 450.53092508130726, 449.3697915812877, 449.0465703370598, 6858.99180263243, 3993.6214224434975, 3027.8715189953277, 2882.987378919065, 2620.57506612956, 1110.5387148665488, 2885.4895997668623, 1216.2040132131829, 29925.445291738633, 42626.40821177639, 22908.64384518584, 30003.44769332116, 3500.1425301475074, 9424.358396237421, 7356.896747312215, 16424.088484208238, 5857.241020684441, 4766.891971839991, 3221.6701358940954, 3024.2267895403284, 2665.423072965966, 2163.016513713991, 2058.3350856376396, 2004.5846690457397, 1563.0381539932584, 1484.8774701720654, 1315.3859097747572, 1297.253440367018, 1169.8124674839232, 1149.8882978411696, 1106.9985715514506, 1052.3214096265879, 1031.0266036523064, 1010.4248141181663, 953.2164085506821, 758.6282529579864, 737.1408759549907, 719.2931646687155, 574.2246376700762, 570.2142201715216, 550.5427928357677, 542.2849422436553, 507.0246729629174, 472.91354452956455, 452.7240077951665, 413.86006938873527, 3881.1627294802647, 7603.719132479675, 6795.973392888376, 6443.084989676926, 4541.268976505725, 5140.986450570728, 4024.7292535053602, 4483.772031216959, 4978.9687016473845, 2787.400381249993, 42626.40821177639, 26614.37430277089, 30003.44769332116, 21843.56833269796, 3349.7127469595666, 3207.744712889639, 3616.7836827239794, 8320.448957354703, 3937.6897466844857, 2796.6388478154886, 1984.927601977567, 1504.893113471828, 1466.7295983753202, 1381.1267616637167, 1223.5998717143418, 1148.437035622813, 939.7519272518144, 895.5697987262585, 888.7185881345316, 884.8367149636912, 881.1528736269179, 816.2114995423627, 811.0806473874308, 800.6041701796612, 776.6640172553572, 709.1438186335188, 698.3944879297319, 658.9770266944386, 625.3616828503694, 613.3321210609342, 580.1405435983428, 550.4359149023734, 494.81801396647654, 472.35556191867096, 467.33781526066747, 448.0086154834848, 436.03880648336525, 435.6493923714865, 3165.5449882720122, 1268.2843917506905, 1230.9498551384015, 2187.4483885905765, 2479.984862643589, 1995.2546569767726, 929.327479257598, 3616.7836827239794, 29925.445291738633, 42626.40821177639, 6493.632794778707, 6115.103072631921, 22908.64384518584, 5993.357771673715, 7277.910927452986, 26614.37430277089, 4976.21411251692, 3404.039984776136, 3320.010392886678, 1474.3630436031124, 1427.8899830300938, 1422.9891070297933, 971.0919348249441, 918.0685011552958, 708.4547777991831, 630.7635234127547, 617.2863282282742, 601.6185148618068, 590.0291838132474, 573.2026713968124, 516.910032789532, 478.63739055844115, 436.87731712534423, 420.766467376644, 419.9847564095838, 418.39241007369367, 417.30903165576905, 412.76246187737837, 407.52808151587936, 402.9127093629798, 398.30203261552134, 397.87267148720633, 368.130473882175, 357.6074901075964, 356.2968693100043, 348.16654585032984, 345.2892189802334, 1357.59380407373, 523.6350470100241, 2490.9414079275575, 16424.088484208238, 2502.2308404114533, 4024.6873890037155, 3207.744712889639, 3318.8000615862184, 6493.632794778707, 2227.158027132499, 1843.033027355413, 10604.707880388287, 1556.4390406978816, 3734.623919694291, 2629.6730812789738, 30003.44769332116, 14210.806288033446, 7277.910927452986, 7472.608444116931, 5383.196871661465, 5374.480908705209, 3671.5580657794685, 3171.642535065444, 3757.6192555759453, 3999.0856627041053, 3030.6583697906326, 2442.0358545746967, 2220.4204510802997, 1732.3570141535201, 1681.62798317932, 1447.8840512913391, 1175.2002595204804, 1071.0124090800398, 1015.6442947505057, 812.611966457377, 679.1994546684755, 587.7910805359805, 559.6986573340141, 545.7954164973805, 541.0319212086969, 487.25640511728477, 475.1444022980392, 442.93568473929395, 413.4196735729573, 403.2378964991958, 379.35535968163583, 368.87639215310713, 357.12920819199877, 350.61819534192017, 341.10879647779007, 326.615849071583, 314.1815219045727, 303.8252425283663, 300.21711999695157, 5345.147656481182, 5072.453017410479, 2360.51066538983, 4617.038490385564, 4924.627368353046, 7464.238817079616, 1662.753565733646, 879.7656010121125, 1962.416886957511, 1708.1090363975966, 16424.088484208238, 5383.196871661465, 2362.557344425585, 3041.3899827512732, 4756.192902308546, 30003.44769332116, 3677.4305915860546, 3171.642535065444, 5374.480908705209, 2326.1806022783167, 1721.4499516717374, 1484.0917453044929, 1346.9036105043856, 1019.3539761772395, 718.2812143581903, 659.014689168352, 611.1332647237188, 585.1133974772907, 584.0790010979866, 565.1489973880397, 561.1777377842574, 507.6152148055994, 501.0425987791207, 478.31033050374504, 472.03316247668045, 451.5870942330794, 435.1228021905759, 419.4490357049009, 388.502230866746, 382.40429014886297, 373.8782489031509, 372.77234651758056, 370.1946157481143, 366.7810952089383, 353.5825126510416, 350.09166035055307, 345.99797941047154, 341.9325413377279, 340.0707358101716, 2324.828477525806, 506.32607450532504, 1170.9224208377595, 1720.6445090069499, 1465.9227595904902, 26614.37430277089, 1587.8258525847682, 2362.557344425585, 583.7905765174546, 1154.7657183394917, 759.4344657706955, 1043.2215582856234, 3090.3913105788065, 16424.088484208238, 3638.006400451679, 7277.910927452986, 4265.694766641324, 3734.680623763309, 30003.44769332116, 9161.080669480829, 2384.7201305648205, 3488.8484148447396], \"Category\": [\"Default\", \"Default\", \"Default\", \"Default\", \"Default\", \"Default\", \"Default\", \"Default\", \"Default\", \"Default\", \"Default\", \"Default\", \"Default\", \"Default\", \"Default\", \"Default\", \"Default\", \"Default\", \"Default\", \"Default\", \"Default\", \"Default\", \"Default\", \"Default\", \"Default\", \"Default\", \"Default\", \"Default\", \"Default\", \"Default\", \"Topic1\", \"Topic1\", \"Topic1\", \"Topic1\", \"Topic1\", \"Topic1\", \"Topic1\", \"Topic1\", \"Topic1\", \"Topic1\", \"Topic1\", \"Topic1\", \"Topic1\", \"Topic1\", \"Topic1\", \"Topic1\", \"Topic1\", \"Topic1\", \"Topic1\", \"Topic1\", \"Topic1\", \"Topic1\", \"Topic1\", \"Topic1\", \"Topic1\", \"Topic1\", \"Topic1\", \"Topic1\", \"Topic1\", \"Topic1\", \"Topic1\", \"Topic1\", \"Topic1\", \"Topic1\", \"Topic1\", \"Topic1\", \"Topic1\", \"Topic1\", \"Topic1\", \"Topic1\", \"Topic1\", \"Topic1\", \"Topic1\", \"Topic1\", \"Topic1\", \"Topic1\", \"Topic1\", \"Topic1\", \"Topic1\", \"Topic1\", \"Topic1\", \"Topic1\", \"Topic1\", \"Topic1\", \"Topic1\", \"Topic2\", \"Topic2\", \"Topic2\", \"Topic2\", \"Topic2\", \"Topic2\", \"Topic2\", \"Topic2\", \"Topic2\", \"Topic2\", \"Topic2\", \"Topic2\", \"Topic2\", \"Topic2\", \"Topic2\", \"Topic2\", \"Topic2\", \"Topic2\", \"Topic2\", \"Topic2\", \"Topic2\", \"Topic2\", \"Topic2\", \"Topic2\", \"Topic2\", \"Topic2\", \"Topic2\", \"Topic2\", \"Topic2\", \"Topic2\", \"Topic2\", \"Topic2\", \"Topic2\", \"Topic2\", \"Topic2\", \"Topic2\", \"Topic2\", \"Topic2\", \"Topic2\", \"Topic2\", \"Topic2\", \"Topic2\", \"Topic2\", \"Topic2\", \"Topic2\", \"Topic2\", \"Topic2\", \"Topic2\", \"Topic2\", \"Topic2\", \"Topic2\", \"Topic2\", \"Topic2\", \"Topic2\", \"Topic2\", \"Topic2\", \"Topic2\", \"Topic2\", \"Topic2\", \"Topic2\", \"Topic2\", \"Topic2\", \"Topic3\", \"Topic3\", \"Topic3\", \"Topic3\", \"Topic3\", \"Topic3\", \"Topic3\", \"Topic3\", \"Topic3\", \"Topic3\", \"Topic3\", \"Topic3\", \"Topic3\", \"Topic3\", \"Topic3\", \"Topic3\", \"Topic3\", \"Topic3\", \"Topic3\", \"Topic3\", \"Topic3\", \"Topic3\", \"Topic3\", \"Topic3\", \"Topic3\", \"Topic3\", \"Topic3\", \"Topic3\", \"Topic3\", \"Topic3\", \"Topic3\", \"Topic3\", \"Topic3\", \"Topic3\", \"Topic3\", \"Topic3\", \"Topic3\", \"Topic3\", \"Topic3\", \"Topic3\", \"Topic3\", \"Topic3\", \"Topic3\", \"Topic3\", \"Topic3\", \"Topic3\", \"Topic3\", \"Topic3\", \"Topic3\", \"Topic3\", \"Topic3\", \"Topic3\", \"Topic3\", \"Topic3\", \"Topic3\", \"Topic4\", \"Topic4\", \"Topic4\", \"Topic4\", \"Topic4\", \"Topic4\", \"Topic4\", \"Topic4\", \"Topic4\", \"Topic4\", \"Topic4\", \"Topic4\", \"Topic4\", \"Topic4\", \"Topic4\", \"Topic4\", \"Topic4\", \"Topic4\", \"Topic4\", \"Topic4\", \"Topic4\", \"Topic4\", \"Topic4\", \"Topic4\", \"Topic4\", \"Topic4\", \"Topic4\", \"Topic4\", \"Topic4\", \"Topic4\", \"Topic4\", \"Topic4\", \"Topic4\", \"Topic4\", \"Topic4\", \"Topic4\", \"Topic4\", \"Topic4\", \"Topic4\", \"Topic4\", \"Topic4\", \"Topic4\", \"Topic4\", \"Topic4\", \"Topic4\", \"Topic4\", \"Topic4\", \"Topic4\", \"Topic4\", \"Topic4\", \"Topic4\", \"Topic4\", \"Topic4\", \"Topic5\", \"Topic5\", \"Topic5\", \"Topic5\", \"Topic5\", \"Topic5\", \"Topic5\", \"Topic5\", \"Topic5\", \"Topic5\", \"Topic5\", \"Topic5\", \"Topic5\", \"Topic5\", \"Topic5\", \"Topic5\", \"Topic5\", \"Topic5\", \"Topic5\", \"Topic5\", \"Topic5\", \"Topic5\", \"Topic5\", \"Topic5\", \"Topic5\", \"Topic5\", \"Topic5\", \"Topic5\", \"Topic5\", \"Topic5\", \"Topic5\", \"Topic5\", \"Topic5\", \"Topic5\", \"Topic5\", \"Topic5\", \"Topic5\", \"Topic5\", \"Topic5\", \"Topic5\", \"Topic5\", \"Topic5\", \"Topic5\", \"Topic5\", \"Topic5\", \"Topic5\", \"Topic6\", \"Topic6\", \"Topic6\", \"Topic6\", \"Topic6\", \"Topic6\", \"Topic6\", \"Topic6\", \"Topic6\", \"Topic6\", \"Topic6\", \"Topic6\", \"Topic6\", \"Topic6\", \"Topic6\", \"Topic6\", \"Topic6\", \"Topic6\", \"Topic6\", \"Topic6\", \"Topic6\", \"Topic6\", \"Topic6\", \"Topic6\", \"Topic6\", \"Topic6\", \"Topic6\", \"Topic6\", \"Topic6\", \"Topic6\", \"Topic6\", \"Topic6\", \"Topic6\", \"Topic6\", \"Topic6\", \"Topic6\", \"Topic6\", \"Topic6\", \"Topic6\", \"Topic6\", \"Topic6\", \"Topic6\", \"Topic6\", \"Topic6\", \"Topic6\", \"Topic6\", \"Topic6\", \"Topic6\", \"Topic7\", \"Topic7\", \"Topic7\", \"Topic7\", \"Topic7\", \"Topic7\", \"Topic7\", \"Topic7\", \"Topic7\", \"Topic7\", \"Topic7\", \"Topic7\", \"Topic7\", \"Topic7\", \"Topic7\", \"Topic7\", \"Topic7\", \"Topic7\", \"Topic7\", \"Topic7\", \"Topic7\", \"Topic7\", \"Topic7\", \"Topic7\", \"Topic7\", \"Topic7\", \"Topic7\", \"Topic7\", \"Topic7\", \"Topic7\", \"Topic7\", \"Topic7\", \"Topic7\", \"Topic7\", \"Topic7\", \"Topic7\", \"Topic7\", \"Topic7\", \"Topic7\", \"Topic7\", \"Topic7\", \"Topic7\", \"Topic7\", \"Topic7\", \"Topic7\", \"Topic7\", \"Topic7\", \"Topic8\", \"Topic8\", \"Topic8\", \"Topic8\", \"Topic8\", \"Topic8\", \"Topic8\", \"Topic8\", \"Topic8\", \"Topic8\", \"Topic8\", \"Topic8\", \"Topic8\", \"Topic8\", \"Topic8\", \"Topic8\", \"Topic8\", \"Topic8\", \"Topic8\", \"Topic8\", \"Topic8\", \"Topic8\", \"Topic8\", \"Topic8\", \"Topic8\", \"Topic8\", \"Topic8\", \"Topic8\", \"Topic8\", \"Topic8\", \"Topic8\", \"Topic8\", \"Topic8\", \"Topic8\", \"Topic8\", \"Topic8\", \"Topic8\", \"Topic8\", \"Topic8\", \"Topic8\", \"Topic8\", \"Topic8\", \"Topic8\", \"Topic8\", \"Topic8\", \"Topic8\", \"Topic8\", \"Topic8\", \"Topic8\", \"Topic8\", \"Topic8\", \"Topic8\", \"Topic8\", \"Topic8\", \"Topic9\", \"Topic9\", \"Topic9\", \"Topic9\", \"Topic9\", \"Topic9\", \"Topic9\", \"Topic9\", \"Topic9\", \"Topic9\", \"Topic9\", \"Topic9\", \"Topic9\", \"Topic9\", \"Topic9\", \"Topic9\", \"Topic9\", \"Topic9\", \"Topic9\", \"Topic9\", \"Topic9\", \"Topic9\", \"Topic9\", \"Topic9\", \"Topic9\", \"Topic9\", \"Topic9\", \"Topic9\", \"Topic9\", \"Topic9\", \"Topic9\", \"Topic9\", \"Topic9\", \"Topic9\", \"Topic9\", \"Topic9\", \"Topic9\", \"Topic9\", \"Topic9\", \"Topic9\", \"Topic9\", \"Topic9\", \"Topic9\", \"Topic9\", \"Topic9\", \"Topic9\", \"Topic9\", \"Topic9\", \"Topic9\", \"Topic10\", \"Topic10\", \"Topic10\", \"Topic10\", \"Topic10\", \"Topic10\", \"Topic10\", \"Topic10\", \"Topic10\", \"Topic10\", \"Topic10\", \"Topic10\", \"Topic10\", \"Topic10\", \"Topic10\", \"Topic10\", \"Topic10\", \"Topic10\", \"Topic10\", \"Topic10\", \"Topic10\", \"Topic10\", \"Topic10\", \"Topic10\", \"Topic10\", \"Topic10\", \"Topic10\", \"Topic10\", \"Topic10\", \"Topic10\", \"Topic10\", \"Topic10\", \"Topic10\", \"Topic10\", \"Topic10\", \"Topic10\", \"Topic10\", \"Topic10\", \"Topic10\", \"Topic10\", \"Topic10\", \"Topic10\", \"Topic10\", \"Topic10\", \"Topic10\", \"Topic10\", \"Topic10\", \"Topic10\", \"Topic10\", \"Topic10\", \"Topic10\", \"Topic10\"], \"logprob\": [30.0, 29.0, 28.0, 27.0, 26.0, 25.0, 24.0, 23.0, 22.0, 21.0, 20.0, 19.0, 18.0, 17.0, 16.0, 15.0, 14.0, 13.0, 12.0, 11.0, 10.0, 9.0, 8.0, 7.0, 6.0, 5.0, 4.0, 3.0, 2.0, 1.0, -3.6884, -4.031, -4.7295, -4.8022, -4.9512, -5.0284, -5.1922, -5.2017, -5.3599, -5.5473, -5.592, -5.6085, -5.7103, -5.8497, -5.8603, -5.8777, -5.8921, -5.9293, -6.0103, -6.0259, -6.0386, -6.1294, -6.1845, -6.1967, -6.1997, -6.2096, -6.2183, -6.2517, -6.3132, -6.3376, -4.7099, -5.1081, -3.0002, -3.4432, -4.3598, -4.8569, -4.2266, -5.8517, -3.1915, -4.0543, -3.756, -4.6395, -4.2529, -4.6179, -4.7222, -4.9401, -5.1495, -5.2126, -4.8425, -4.694, -5.0767, -5.0647, -5.0708, -5.1206, -5.1993, -3.3615, -3.9369, -4.2447, -4.792, -5.1684, -5.2251, -5.3509, -5.3825, -5.452, -5.5449, -5.7539, -5.8589, -5.8658, -5.8855, -5.8911, -5.9953, -6.1014, -6.1129, -6.1418, -6.2251, -6.2349, -6.2756, -6.305, -6.3416, -6.4113, -6.4236, -6.4446, -6.4764, -6.4769, -6.5004, -2.6758, -4.8668, -5.3712, -5.9903, -5.4088, -4.3721, -5.8573, -4.5957, -5.2283, -4.3991, -4.181, -3.8938, -4.9338, -4.9226, -4.7718, -4.0876, -5.4985, -4.4024, -5.0505, -5.1993, -4.2387, -5.0252, -4.3094, -4.2071, -4.8263, -5.0669, -5.0023, -4.9978, -5.0027, -5.1626, -5.1305, -5.1737, -3.3032, -3.7592, -4.4115, -4.7444, -4.7759, -4.8569, -5.0309, -5.1776, -5.3284, -5.3769, -5.3828, -5.4549, -5.5108, -5.5531, -5.5938, -5.7602, -5.8125, -5.8328, -5.8566, -5.95, -5.9657, -6.0237, -6.0787, -6.1019, -6.1638, -6.1668, -6.1772, -6.2019, -6.2065, -6.2563, -5.3013, -3.4782, -3.939, -3.6053, -5.3458, -5.4752, -3.9403, -4.9769, -5.006, -3.3534, -4.363, -4.685, -3.6166, -4.8837, -3.6216, -4.4354, -4.2759, -4.3084, -4.5328, -4.9155, -4.8639, -5.0706, -5.0579, -5.1611, -5.18, -2.6988, -3.5477, -3.7877, -3.9602, -4.0585, -4.5269, -4.9403, -4.9775, -5.0723, -5.1526, -5.1781, -5.1869, -5.2668, -5.4958, -5.7048, -5.7107, -5.8807, -5.8863, -5.9841, -6.0102, -6.0199, -6.0263, -6.1048, -6.1869, -6.3382, -6.3921, -6.4134, -6.4407, -6.4537, -6.4731, -3.3745, -2.9232, -5.2586, -4.418, -2.8877, -4.3777, -4.7201, -5.0202, -5.0006, -3.4932, -4.5386, -4.4443, -4.8387, -4.2725, -3.7019, -4.8135, -4.8199, -4.8174, -4.8948, -4.7756, -4.9469, -5.04, -5.0113, -1.8762, -3.9523, -3.9747, -4.3142, -4.3773, -4.3872, -4.4176, -4.4391, -4.6057, -4.859, -4.8735, -4.8956, -4.9313, -5.0749, -5.0772, -5.0918, -5.121, -5.1564, -5.1809, -5.2462, -5.2905, -5.6337, -5.861, -5.8816, -5.8849, -5.957, -5.9854, -6.0239, -6.0265, -6.0272, -3.5804, -4.1239, -4.4497, -4.5159, -4.5957, -5.309, -4.6209, -5.3496, -3.625, -3.5504, -4.2641, -4.2408, -5.0245, -4.9382, -4.9987, -4.9449, -3.4107, -3.6167, -4.0086, -4.0719, -4.1982, -4.4071, -4.4568, -4.4832, -4.7322, -4.7835, -4.9048, -4.9187, -5.0222, -5.0394, -5.0774, -5.1281, -5.1486, -5.1688, -5.2271, -5.4557, -5.4844, -5.509, -5.7346, -5.7416, -5.7767, -5.7919, -5.8592, -5.929, -5.9727, -6.0627, -3.9961, -3.4362, -3.6021, -4.0411, -4.3994, -4.3412, -4.5753, -4.5301, -4.4849, -4.8213, -3.4986, -3.7637, -3.7166, -3.9466, -4.7475, -4.8772, -4.9486, -4.9416, -3.4721, -3.8144, -4.1573, -4.4343, -4.46, -4.5202, -4.6414, -4.7049, -4.9056, -4.9538, -4.9615, -4.9658, -4.97, -5.0467, -5.053, -5.066, -5.0964, -5.1874, -5.2027, -5.2609, -5.3133, -5.3328, -5.3885, -5.4412, -5.5479, -5.5944, -5.6051, -5.6474, -5.6746, -5.6755, -4.001, -4.8195, -4.8531, -4.4398, -4.4084, -4.7277, -5.1885, -4.6145, -3.7501, -3.6886, -4.4538, -4.5555, -4.3862, -4.7424, -4.9711, -4.9553, -5.051, -3.5764, -3.6014, -4.4135, -4.4455, -4.449, -4.8314, -4.8876, -5.1471, -5.2634, -5.285, -5.3108, -5.3302, -5.3592, -5.4628, -5.5398, -5.6313, -5.6689, -5.6708, -5.6746, -5.6772, -5.6882, -5.701, -5.7124, -5.7239, -5.725, -5.8029, -5.832, -5.8357, -5.8588, -5.8671, -4.9458, -5.6076, -4.6999, -3.6224, -4.8259, -4.6008, -4.7228, -4.8328, -4.5818, -5.0144, -5.1228, -4.4902, -5.2656, -5.0625, -5.1589, -4.5494, -4.7518, -5.008, -5.005, -5.0892, -5.1291, -5.1678, -5.1887, -5.1976, -3.3667, -3.644, -3.86, -3.9552, -4.2035, -4.2333, -4.383, -4.5918, -4.6847, -4.7379, -4.9611, -5.1407, -5.2854, -5.3345, -5.3596, -5.3684, -5.4733, -5.4985, -5.5689, -5.638, -5.6629, -5.7241, -5.7522, -5.7847, -5.8031, -5.8307, -5.8742, -5.9131, -5.9467, -5.9587, -3.4482, -3.6388, -4.3004, -3.9042, -3.8629, -3.6689, -4.7526, -5.1992, -4.7779, -4.9633, -3.9399, -4.5174, -4.9346, -4.8672, -4.7397, -4.6655, -5.0556, -5.0928, -5.1125, -3.8118, -4.113, -4.2615, -4.3585, -4.6374, -4.9878, -5.0741, -5.1496, -5.1932, -5.195, -5.228, -5.235, -5.3355, -5.3486, -5.3951, -5.4083, -5.4527, -5.4899, -5.5267, -5.6035, -5.6193, -5.6419, -5.6449, -5.6519, -5.6611, -5.6979, -5.7078, -5.7196, -5.7315, -5.7369, -4.2069, -5.4325, -4.9697, -4.7726, -4.8941, -3.4017, -4.9089, -4.7368, -5.4278, -5.1105, -5.3239, -5.2767, -5.0025, -4.5987, -5.1561, -5.062, -5.1356, -5.1636, -5.0216, -5.1267, -5.2614, -5.2562], \"loglift\": [30.0, 29.0, 28.0, 27.0, 26.0, 25.0, 24.0, 23.0, 22.0, 21.0, 20.0, 19.0, 18.0, 17.0, 16.0, 15.0, 14.0, 13.0, 12.0, 11.0, 10.0, 9.0, 8.0, 7.0, 6.0, 5.0, 4.0, 3.0, 2.0, 1.0, 1.8145, 1.8144, 1.8143, 1.8142, 1.8142, 1.8141, 1.8141, 1.814, 1.814, 1.8138, 1.8138, 1.8138, 1.8137, 1.8135, 1.8135, 1.8135, 1.8135, 1.8135, 1.8134, 1.8133, 1.8133, 1.8132, 1.8131, 1.8131, 1.8131, 1.8131, 1.8131, 1.813, 1.8129, 1.8129, 1.6032, 1.6363, 1.1252, 0.9494, 1.1687, 1.3242, 1.0542, 1.6846, 0.5802, 0.6639, 0.3669, 0.8999, 0.6172, 0.7571, 0.7831, 0.8753, 1.0509, 1.062, 0.563, 0.0314, 0.5357, 0.4482, 0.4248, -0.2366, 0.8304, 1.935, 1.9349, 1.9349, 1.9347, 1.9345, 1.9345, 1.9344, 1.9344, 1.9343, 1.9342, 1.934, 1.9339, 1.9339, 1.9339, 1.9339, 1.9337, 1.9336, 1.9336, 1.9335, 1.9334, 1.9334, 1.9333, 1.9332, 1.9332, 1.933, 1.933, 1.933, 1.9329, 1.9329, 1.9328, 1.7644, 1.8177, 1.8176, 1.8669, 1.7442, 1.4116, 1.7931, 1.3973, 1.5526, 1.1149, 0.9819, 0.8316, 1.3273, 1.3101, 1.1947, 0.6306, 1.5418, 0.4677, 1.0734, 1.1965, 0.004, 0.8752, -0.1866, -0.4354, 0.4545, 0.9275, 0.7111, 0.6555, 0.5102, 0.9692, 0.603, 0.4341, 1.9654, 1.9653, 1.9652, 1.9651, 1.9651, 1.965, 1.965, 1.9649, 1.9648, 1.9647, 1.9647, 1.9647, 1.9646, 1.9646, 1.9645, 1.9644, 1.9643, 1.9643, 1.9643, 1.9641, 1.9641, 1.964, 1.964, 1.9639, 1.9638, 1.9638, 1.9638, 1.9638, 1.9638, 1.9637, 1.944, 1.831, 1.8256, 1.8002, 1.8171, 1.8269, 1.4347, 1.6885, 1.6428, 1.0392, 1.3705, 1.4951, 0.5089, 1.3399, 0.1501, 0.4347, -0.0332, -0.1855, 0.1853, 0.7979, 0.6754, 1.0611, 0.5545, 0.3518, 0.2255, 2.2723, 2.2722, 2.2722, 2.2721, 2.2721, 2.2719, 2.2717, 2.2717, 2.2716, 2.2715, 2.2715, 2.2715, 2.2714, 2.2712, 2.2709, 2.2709, 2.2707, 2.2707, 2.2705, 2.2704, 2.2704, 2.2704, 2.2702, 2.2701, 2.2697, 2.2695, 2.2695, 2.2694, 2.2694, 2.2693, 2.2389, 1.9608, 2.0178, 1.8021, 1.355, 1.6629, 1.7297, 1.7032, 1.6545, 0.6297, 1.3092, 1.2169, 1.4636, 0.8904, 0.0698, 1.153, 1.1448, 0.9662, 1.0351, 0.63, 0.894, 1.084, -0.2932, 2.2995, 2.2993, 2.2993, 2.2992, 2.2992, 2.2992, 2.2992, 2.2991, 2.2991, 2.2989, 2.2989, 2.2989, 2.2989, 2.2988, 2.2988, 2.2988, 2.2987, 2.2987, 2.2987, 2.2986, 2.2986, 2.2982, 2.2979, 2.2978, 2.2978, 2.2977, 2.2976, 2.2975, 2.2975, 2.2975, 2.0182, 2.0155, 1.9666, 1.9495, 1.9651, 2.1103, 1.8436, 1.9788, 0.5004, 0.2213, 0.1286, -0.1179, 1.2469, 0.3427, 0.5298, -0.2195, 2.3458, 2.3457, 2.3456, 2.3456, 2.3456, 2.3455, 2.3455, 2.3455, 2.3453, 2.3453, 2.3452, 2.3452, 2.3451, 2.3451, 2.3451, 2.3451, 2.345, 2.345, 2.345, 2.3447, 2.3447, 2.3447, 2.3443, 2.3443, 2.3443, 2.3442, 2.3441, 2.344, 2.3439, 2.3437, 2.1719, 2.0593, 2.0057, 1.62, 1.6115, 1.5457, 1.5564, 1.4936, 1.434, 1.6777, 0.2731, 0.479, 0.4062, 0.4936, 1.5678, 1.4814, 1.2899, 0.4638, 2.6815, 2.6814, 2.6812, 2.6811, 2.6811, 2.681, 2.6809, 2.6809, 2.6807, 2.6807, 2.6807, 2.6807, 2.6807, 2.6806, 2.6806, 2.6806, 2.6805, 2.6804, 2.6804, 2.6803, 2.6802, 2.6802, 2.6801, 2.68, 2.6799, 2.6798, 2.6797, 2.6797, 2.6796, 2.6796, 2.3709, 2.467, 2.4632, 2.3016, 2.2075, 2.1057, 2.4089, 1.624, 0.3753, 0.0831, 1.1995, 1.1579, 0.0065, 0.9911, 0.5682, -0.7126, 0.8685, 2.7228, 2.7228, 2.7224, 2.7224, 2.7224, 2.7221, 2.7221, 2.7218, 2.7216, 2.7216, 2.7215, 2.7215, 2.7215, 2.7213, 2.7211, 2.721, 2.7209, 2.7209, 2.7209, 2.7209, 2.7208, 2.7208, 2.7208, 2.7208, 2.7208, 2.7206, 2.7205, 2.7205, 2.7204, 2.7204, 2.2726, 2.5635, 1.9116, 1.103, 1.781, 1.5309, 1.6357, 1.4918, 1.0715, 1.709, 1.79, 0.6727, 1.8162, 1.144, 1.3983, -0.4266, 0.1183, 0.5313, 0.5079, 0.7517, 0.7134, 1.0558, 1.1812, 1.0027, 2.7714, 2.7714, 2.7713, 2.7713, 2.7711, 2.7711, 2.771, 2.7709, 2.7708, 2.7708, 2.7706, 2.7703, 2.7701, 2.7701, 2.77, 2.77, 2.7698, 2.7698, 2.7696, 2.7695, 2.7694, 2.7693, 2.7692, 2.7691, 2.7691, 2.769, 2.7689, 2.7688, 2.7687, 2.7687, 2.3997, 2.2615, 2.3648, 2.0902, 2.067, 1.8452, 2.263, 2.4531, 2.0721, 2.0255, 0.7855, 1.3235, 1.7298, 1.5447, 1.225, -0.5426, 1.1663, 1.2771, 0.73, 2.8681, 2.8679, 2.8679, 2.8678, 2.8676, 2.8672, 2.8671, 2.867, 2.8669, 2.8669, 2.8669, 2.8669, 2.8667, 2.8667, 2.8666, 2.8666, 2.8665, 2.8664, 2.8663, 2.8661, 2.8661, 2.866, 2.866, 2.866, 2.866, 2.8659, 2.8659, 2.8659, 2.8658, 2.8658, 2.4736, 2.7722, 2.3967, 2.2089, 2.2476, 0.841, 2.1528, 1.9276, 2.6345, 2.2697, 2.4754, 2.2052, 1.3933, 0.1267, 1.0766, 0.4773, 0.9379, 1.0429, -0.8988, 0.1825, 1.3937, 1.0184]}, \"token.table\": {\"Topic\": [1, 3, 4, 5, 8, 10, 8, 2, 4, 2, 9, 2, 10, 10, 3, 8, 4, 1, 2, 3, 6, 9, 3, 8, 2, 10, 1, 5, 3, 6, 4, 1, 2, 3, 4, 5, 7, 5, 2, 1, 9, 10, 7, 8, 6, 7, 5, 8, 7, 10, 3, 3, 2, 2, 9, 1, 3, 5, 3, 1, 5, 8, 5, 3, 1, 3, 5, 2, 10, 10, 2, 2, 3, 4, 10, 5, 8, 9, 1, 2, 3, 4, 5, 7, 3, 3, 5, 8, 3, 5, 5, 5, 4, 4, 2, 9, 9, 6, 1, 3, 6, 2, 8, 5, 7, 10, 1, 2, 4, 9, 2, 8, 2, 1, 2, 3, 4, 7, 1, 7, 5, 2, 7, 2, 6, 7, 1, 3, 3, 2, 10, 2, 3, 10, 5, 1, 1, 3, 8, 10, 1, 8, 1, 2, 4, 5, 6, 10, 10, 7, 2, 7, 10, 6, 3, 6, 9, 10, 2, 5, 7, 3, 6, 7, 1, 6, 4, 5, 4, 10, 3, 9, 2, 4, 10, 3, 3, 5, 6, 7, 8, 4, 9, 8, 4, 2, 3, 6, 7, 1, 2, 3, 4, 5, 7, 10, 8, 2, 6, 2, 4, 4, 3, 5, 3, 6, 9, 2, 10, 2, 3, 5, 7, 8, 9, 2, 6, 9, 2, 3, 1, 10, 5, 4, 5, 6, 1, 2, 3, 5, 9, 9, 1, 3, 6, 8, 1, 2, 3, 5, 7, 9, 2, 1, 8, 2, 5, 2, 3, 6, 8, 1, 2, 3, 4, 5, 6, 7, 8, 9, 7, 1, 3, 5, 7, 7, 9, 10, 6, 8, 2, 6, 2, 3, 4, 6, 5, 1, 3, 4, 5, 8, 9, 10, 1, 2, 3, 7, 8, 9, 8, 3, 6, 8, 3, 1, 2, 3, 4, 5, 6, 8, 10, 9, 1, 2, 4, 8, 9, 8, 2, 10, 9, 1, 2, 3, 4, 5, 6, 7, 9, 10, 6, 3, 5, 1, 2, 3, 4, 5, 6, 8, 9, 10, 1, 5, 2, 5, 4, 5, 8, 9, 10, 8, 2, 3, 4, 5, 8, 10, 1, 2, 6, 7, 8, 9, 2, 3, 6, 10, 1, 2, 6, 7, 10, 2, 1, 1, 2, 3, 4, 5, 6, 1, 7, 9, 10, 6, 3, 2, 3, 8, 10, 8, 9, 10, 6, 5, 3, 10, 2, 4, 5, 6, 8, 4, 9, 3, 5, 9, 1, 1, 3, 6, 8, 2, 4, 5, 9, 1, 2, 4, 5, 8, 7, 1, 3, 5, 10, 6, 7, 10, 6, 10, 1, 2, 3, 5, 6, 8, 9, 10, 8, 4, 1, 2, 5, 8, 10, 1, 2, 3, 4, 5, 6, 7, 8, 4, 5, 8, 5, 9, 5, 1, 2, 3, 5, 6, 9, 10, 6, 9, 7, 2, 5, 8, 8, 9, 3, 10, 1, 2, 7, 8, 10, 8, 2, 4, 8, 10, 2, 5, 10, 2, 10, 5, 2, 1, 2, 3, 4, 5, 6, 7, 8, 10, 8, 2, 3, 6, 1, 3, 7, 8, 10, 2, 5, 8, 10, 7, 6, 6, 2, 8, 4, 2, 4, 5, 7, 8, 9, 1, 4, 5, 10, 5, 6, 7, 8, 3, 9, 3, 1, 3, 4, 5, 9, 4, 6, 7, 9, 2, 3, 8, 9, 10, 3, 7, 6, 10, 6, 9, 8, 7, 2, 3, 7, 8, 1, 8, 2, 9, 8, 4, 6, 10, 7, 1, 9, 5, 9, 7, 1, 2, 9, 1, 3, 1, 1, 2, 4, 5, 3, 10, 2, 4, 5, 6, 8, 9, 10, 2, 3, 4, 6, 7, 9, 10, 5, 6, 1, 1, 2, 3, 8, 9, 10, 3, 10, 1, 2, 4, 5, 6, 6, 3, 6, 7, 7, 2, 3, 9, 10, 9, 6, 1, 5, 1, 2, 3, 4, 5, 6, 8, 10, 5, 1, 7, 1, 1, 4, 6, 7, 4, 7, 10, 7, 10, 10, 8, 9, 4, 4, 1, 4, 5, 6, 7, 8, 9, 10, 7, 9, 4, 4, 4, 2, 3, 9, 3, 6, 8, 2, 2, 3, 8, 9, 5, 7, 1, 6, 3, 6, 6, 7, 1, 7, 1, 8, 8, 9, 5, 1, 7, 1, 4, 2, 5, 8, 4, 7, 1, 3, 5, 1, 2, 3, 5, 7, 1, 1, 9, 1, 3, 6, 3, 1, 9, 4, 6, 9, 1, 3, 6, 3, 1, 3, 10, 1, 3, 5, 7, 4, 1, 3, 6, 7, 9, 1, 10, 1, 6, 7, 2, 5, 10, 1, 2, 3, 6, 7, 8, 10, 1, 2, 3, 5, 8, 9, 10, 1, 8, 1, 2, 7, 7, 5, 10, 2, 2, 8, 7, 3, 5, 1, 3, 4, 7, 6, 7, 8, 4, 3, 7, 1, 4, 10, 3, 3, 5, 10, 8, 5, 2, 4, 8, 10, 10, 1, 2, 3, 4, 5, 6, 7, 8, 10, 7, 6, 1, 2, 3, 5, 6, 8, 9, 1, 3, 4, 5, 6, 7, 8, 9, 10, 1, 2, 3, 5, 8, 9, 10, 2, 1, 2, 3, 4, 5, 7, 8, 4, 6], \"Freq\": [0.17958297846817026, 0.08195733245527234, 0.3383753101002604, 0.01446305866857747, 0.2919729968719077, 0.09370856762349153, 0.998301237741375, 0.9978168247714928, 0.9985771763320791, 0.2716632699949239, 0.7274664970575367, 0.8888818524067762, 0.1101269551654413, 0.9980971253058106, 0.757933392091216, 0.24148800083398161, 0.9997580188328474, 0.27709564453275276, 0.07994712413408175, 0.33719195213014075, 0.10469266255653563, 0.20095552630981775, 0.9790935543676502, 0.02042930909422454, 0.3757721196295766, 0.6242941351118647, 0.2738027472218429, 0.7260295068975594, 0.8705733946253053, 0.12894417344496242, 0.99849015322928, 0.13625504467024, 0.04063746946305403, 0.11644854694875147, 0.5812182607236803, 0.08229941294618505, 0.04302790884323368, 0.9996802493882444, 0.9995954386789172, 0.310374961856929, 0.6894103281752761, 0.9989294630177269, 0.9985173584892033, 0.9993580708135021, 0.9997919911518472, 0.9971373699773872, 0.999750381991652, 0.9987895251002727, 0.9995025679060896, 0.9993291201409378, 0.998440248222317, 0.9983023537649468, 0.9976974352048229, 0.9983681305242049, 0.9985426471653334, 0.09997805572765334, 0.18392909488827827, 0.7158734066606017, 0.997711206310004, 0.3243816924779856, 0.6338612345536705, 0.041587396471536614, 0.9997459319218376, 0.9983394318618534, 0.998861845974206, 0.9976751335355254, 0.9994549000516971, 0.9988989265451083, 0.9987880292243899, 0.9978704049386914, 0.9977378650686198, 0.17054379286391694, 0.6248056998500688, 0.18853694532203663, 0.01616776017975971, 0.07286558901084007, 0.26138411871911815, 0.6659575925874454, 0.46751193182116785, 0.22749559278814885, 0.06610529585215333, 0.09751326948335298, 0.14133588134039846, 0.9997715658509186, 0.9987700074840737, 0.23003351189891344, 0.32517826289375196, 0.44441029262146103, 0.9985468258112917, 0.9987670549578009, 0.9982478342162778, 0.9969517497460888, 0.9974199957278738, 0.9995956024037715, 0.998707757931461, 0.9997285222684199, 0.9962393653916681, 0.998744290846409, 0.14120613787833833, 0.3991387026286223, 0.45914384790038976, 0.9994625713878212, 0.9996956657458534, 0.9988215568527035, 0.9978225675033958, 0.9984602935487941, 0.35009821270956265, 0.1479371235523573, 0.4452848479832906, 0.05658152932679801, 0.9998072984506177, 0.9996944851468293, 0.997775200580904, 0.09663233470762828, 0.17697832086902707, 0.10124680012905996, 0.6248529058903378, 0.00027143914243715804, 0.31589316740187284, 0.6839018501204078, 0.9990735307383455, 0.9993571640498249, 0.9996194518208166, 0.23787373194498268, 0.0290629260809275, 0.7328911794320848, 0.9998280281067885, 0.9998674004189418, 0.9989235895603061, 0.5107613021162242, 0.4887185825427743, 0.998992636204056, 0.9992833647222407, 0.9986717311072675, 0.9999539552681753, 0.999504901407638, 0.1824897579693678, 0.17493444951840673, 0.12495317822743338, 0.5172480401042591, 0.878592823994253, 0.1214644457134912, 0.07883733443633768, 0.11532056898932375, 0.5392809153464375, 0.05954734835085081, 0.17067444210419913, 0.0369025820765836, 0.9968817870455412, 0.9986916304066824, 0.998407536625104, 0.4840774195942528, 0.5147516323210174, 0.9997881219707269, 0.9986661268569683, 0.9995300481029404, 0.9998106434841676, 0.9978112502281415, 0.8679579388554729, 0.053325520426414676, 0.0782864023281407, 0.9983880732558578, 0.23780637604361804, 0.760765193949493, 0.9987104897723018, 0.999579568798954, 0.9979297588963437, 0.9994771530546478, 0.9990826803872378, 0.9979191414429409, 0.9996450144019049, 0.9989786766036198, 0.47793300315854476, 0.2931667575231155, 0.22877361762565412, 0.9986159892789519, 0.27575991782107756, 0.10042240270250458, 0.4016896108100183, 0.11729336635652535, 0.10464014361600976, 0.9960965979187109, 0.9992166659975783, 0.9989719151812525, 0.9979510263683304, 0.2550763804090305, 0.2037740985546123, 0.5126640613284172, 0.028341820045447837, 0.3909731458904209, 0.1379905220789721, 0.12169242892003838, 0.09978054811747195, 0.13292000420730382, 0.06682218195162822, 0.0497997290967419, 0.998239475475798, 0.9977844419594819, 0.9994090622359811, 0.9998048760890809, 0.9982505661838742, 0.9971603135270718, 0.8695144149474849, 0.13046158482387046, 0.9989261249310656, 0.9978673195301317, 0.9981144544169134, 0.9969457851773672, 0.9986999313297993, 0.2781185904833022, 0.09979005904384264, 0.09902007402035619, 0.22714558192849982, 0.19172627084812358, 0.10410197517536669, 0.9984427517683587, 0.9978705894581928, 0.9987517259066835, 0.27543286808688777, 0.7242092658623464, 0.9996791741390256, 0.998707263879475, 0.9994815299070179, 0.5437115494019394, 0.19189819390656684, 0.26425696915029595, 0.21661898221565012, 0.5446581719939192, 0.15242510628490263, 0.08653447592426754, 0.9980926796215803, 0.9986541467501358, 0.46598654118606736, 0.111240647753156, 0.24377137163131793, 0.1791027654016124, 0.5241340380927271, 0.07421607489591, 0.14082024467429077, 0.17031637700471655, 0.06239043658831995, 0.02800093668233967, 0.9988913692951769, 0.36240589675914564, 0.6371567087330507, 0.9983780937790496, 0.9974278441046492, 0.17475788828712474, 0.24543203428559432, 0.1760428727598242, 0.40348512442762624, 0.20876434748938502, 0.21174137918263827, 0.10531249614883416, 0.030886703817502595, 0.09842811035818598, 0.05284231255524541, 0.028281801085905993, 0.13396642619639682, 0.12987300761817355, 0.9995097484658106, 0.501880585354104, 0.2330124057310185, 0.16544448885333038, 0.09961422364608721, 0.9994065269726914, 0.9968380962237295, 0.9971156495995382, 0.9993054720252121, 0.996731042001038, 0.8430856955011704, 0.15688828619040568, 0.9993157851839308, 0.16793197695414142, 0.34796995594379393, 0.4839296711118419, 0.9991464293892793, 0.2100982050190056, 0.026192614418815024, 0.252080693378241, 0.06576018088128027, 0.1393224171213565, 0.2349904768780213, 0.07170460401179148, 0.37326382253614176, 0.1877029695823783, 0.10094724612347593, 0.07791949236586604, 0.2061787255041816, 0.054088444872525565, 0.998152782901065, 0.5349227670686572, 0.2761770294336142, 0.188748206506405, 0.9978967902638182, 0.14456554144344388, 0.08885352448401393, 0.09771030666730791, 0.051997882495467954, 0.34912863961242774, 0.13685156986444588, 0.09285336159904992, 0.03799845259284197, 0.9982368418121674, 0.9976286621219226, 0.9978349706384979, 0.5661924230960644, 0.3627941933874862, 0.07094242890497873, 0.9990755034121167, 0.9975382106326877, 0.9979669124543261, 0.9974214702893801, 0.2910167785746694, 0.0934397282598072, 0.162762951209275, 0.11051834291537829, 0.12515715547729636, 0.1258374849072573, 0.07439050422090099, 0.011448302131756443, 0.005442635439687489, 0.9989463854185616, 0.9992127680149877, 0.9974735571740321, 0.23510631418436082, 0.11981956329639597, 0.11635329498406628, 0.19344443543039838, 0.08915642053347961, 0.14375014645267198, 0.04286174086207655, 0.03636248777645841, 0.023130675084199942, 0.8093309007404443, 0.19034318939018915, 0.9981866520751366, 0.9976693501160153, 0.9998567921190897, 0.9994200999629639, 0.8517382527137495, 0.14513925382566134, 0.9992643680500568, 0.9982557069353825, 0.4768663711803657, 0.08720082935895379, 0.3264765350395613, 0.03159450339092529, 0.048234275176812606, 0.029698833187469773, 0.16313814939739604, 0.3833176097729026, 0.06502709451504597, 0.04829497662813356, 0.2658125091579949, 0.0745339796780644, 0.2843100921194538, 0.12831694423090392, 0.3585326382922316, 0.2289576848041619, 0.06533280434332223, 0.2229261229282279, 0.7115978419015908, 0.8066014268202817, 0.192385873063684, 0.9981809802518303, 0.9981099127217095, 0.14510833809281534, 0.0970630840594033, 0.09920275124307752, 0.20151774566240846, 0.007780607940633531, 0.4493301085715864, 0.9978593616610493, 0.25650171050021153, 0.35300730454979606, 0.390255077691741, 0.9984522959013599, 0.9997778193552042, 0.6819372433509214, 0.09225650293589871, 0.06039472099411926, 0.16501549751936523, 0.9969291488687327, 0.9972838249992041, 0.9967730061505619, 0.9998128818850395, 0.9994313429786065, 0.20726610683203148, 0.791379680631393, 0.6749690089906899, 0.13869226212137464, 0.018492301616183284, 0.08136612711120646, 0.08568099748831588, 0.9997402706742191, 0.9967494345228289, 0.9993954383905665, 0.999481776125419, 0.9976241576534847, 0.998373312233921, 0.09165317888877617, 0.1499495885901406, 0.4211681791793762, 0.3369968924447858, 0.3651691454405016, 0.068875319246785, 0.05999516802314291, 0.505952030693364, 0.10675513450171109, 0.42233613256681546, 0.30473290125661645, 0.03353048104441734, 0.13239609059450083, 0.9992453571912752, 0.47121565758057193, 0.1685369870178688, 0.2026456629619613, 0.1573585133891326, 0.24216828456853368, 0.2196568665663883, 0.5375453753239564, 0.9982021730050624, 0.9979013105742442, 0.3020236792344557, 0.2305287915125995, 0.21638462573298028, 0.07184673264174728, 0.0651616791638178, 0.07395780216109342, 0.03652150268468838, 0.0036591871668666585, 0.9966719996821921, 0.9998105850819122, 0.1552915641864832, 0.3806506821339076, 0.02857364781031291, 0.30362606629741196, 0.13193571293283612, 0.31643323282430236, 0.2712802958768804, 0.16858305374345353, 0.07688692877793936, 0.06479778903298035, 0.06649026859727461, 0.027805021413405746, 0.0076766037380489776, 0.9982468952340238, 0.9978982017723784, 0.9993767145643776, 0.999776383951516, 0.9969301087275206, 0.999614735006741, 0.35646117137819094, 0.1925740307371002, 0.0697250800944673, 0.1115601281511477, 0.16083251808457125, 0.08367009611336076, 0.025233838510378644, 0.9998412736160885, 0.9964272030246962, 0.9995326771733927, 0.17198860106642214, 0.8275263056546699, 0.9968631600169899, 0.9978066563759095, 0.9989848727581581, 0.9999133209402459, 0.9983525411178451, 0.9986010706215427, 0.3512865343212947, 0.18743274698144163, 0.3896522991618456, 0.07113652230852156, 0.9966494602533371, 0.5924229659067849, 0.27086202527689546, 0.07332922705035123, 0.06315435822518288, 0.16125714780595515, 0.7527002892930144, 0.0858869591575196, 0.3239252510752883, 0.6755026577301745, 0.9988498831214796, 0.9983519549602107, 0.27835018248774274, 0.1977867998771109, 0.2439074886376928, 0.041538184428601015, 0.06785062865739454, 0.04360770251401174, 0.07686781460096985, 0.03621656649468772, 0.013895335716329166, 0.997991845557199, 0.14087904161656792, 0.4047477227396634, 0.4539435785422744, 0.40066442541919073, 0.2752163388596156, 0.12077641630434453, 0.11170787992654392, 0.091509776175988, 0.29136754036933715, 0.06728040038323614, 0.39337330869230813, 0.24796083044466868, 0.9991841721592887, 0.9976305035534658, 0.9992274920591528, 0.9333883591288489, 0.0641791696859896, 0.9990107817297619, 0.1734117240260341, 0.14314349583239908, 0.08134586327039418, 0.16395290271552315, 0.2140846556612312, 0.22448935910279325, 0.9992625847570242, 0.9671381584372174, 0.03284955189306338, 0.9976509762048811, 0.15948828821276753, 0.840212129017504, 0.8034445886415106, 0.19578376730293634, 0.39813476491202715, 0.6014120315891649, 0.9986535786551006, 0.289937777614248, 0.06181414548121024, 0.3237883810920536, 0.11122341142707556, 0.2129854740560067, 0.29017423920906804, 0.13889375760601996, 0.07655401552261627, 0.4942505935863342, 0.21351222708321094, 0.09681938698284029, 0.1360567174969387, 0.4968363279382594, 0.0560533293058549, 0.999786901632262, 0.9985157039038999, 0.9980682631315343, 0.9997386205324759, 0.9984007744614816, 0.9997827634426911, 0.9993049089238231, 0.9971302086225792, 0.2639588791907225, 0.5516106539851634, 0.1843707721275274, 0.9977347218348539, 0.9990026140444231, 0.9976552567812166, 0.9993300870303232, 0.9996265623636135, 0.9962662634412944, 0.9990708899488907, 0.999171856629994, 0.9982162775072225, 0.9990543848943638, 0.9986849706753023, 0.9990547176937853, 0.999176423568349, 0.9995758233554367, 0.9980032947655907, 0.9997259365865933, 0.5251421196692301, 0.4742086030457931, 0.13726758252041313, 0.8619289318667566, 0.9988289356486103, 0.1285687537488977, 0.07234667941253178, 0.7323139225741876, 0.06671020241688089, 0.9990308317437115, 0.9989427677479623, 0.5839988278046755, 0.14708118626191827, 0.055804332434668986, 0.07959687727115577, 0.035039929668280526, 0.04304287656782608, 0.05558803657251911, 0.1449968335193298, 0.13552826600264903, 0.39955851973168, 0.15461569575849757, 0.033553296795221954, 7.514736124349821e-05, 0.13165817689860887, 0.9986534441626822, 0.9995943460508414, 0.9983615826320639, 0.284738229859167, 0.19859340743064305, 0.10883181764824974, 0.049977148889830694, 0.2932869526955854, 0.064444218305308, 0.9990601366097, 0.9981526452826446, 0.20424736452719394, 0.24913689519251128, 0.381748050366303, 0.07930483750872731, 0.08566418768631394, 0.9979218352956699, 0.1008070669163309, 0.2762113633507467, 0.6221812170075943, 0.9993637584395221, 0.17925713996572218, 0.1844529990951634, 0.08659765215735371, 0.5498950911991961, 0.9959458674543147, 0.9993513759509055, 0.29517992559477324, 0.7044775897567385, 0.37379407815615556, 0.18398027856425422, 0.07718197051963836, 0.09625309695617691, 0.12272830777395984, 0.06977788613839399, 0.05182859066871064, 0.024231548884072508, 0.9996155222063999, 0.9996146831354651, 0.9991450392439916, 0.9998383757636028, 0.9996760564085774, 0.9982423157216593, 0.9990140769385575, 0.9998248346800135, 0.9988645753491594, 0.09085054536237638, 0.9085054536237639, 0.9980340219091248, 0.9972605013519883, 0.9979281013605333, 0.9988361422334485, 0.9993894184478718, 0.9988843038933997, 0.9995289431004837, 0.18903892223281682, 0.20376575045208725, 0.12638296217264808, 0.06238819954709111, 0.08032815392329326, 0.09826810829949544, 0.07818606981867211, 0.16119182887274183, 0.9991914334367193, 0.9982340170325064, 0.9985790585910255, 0.9989934285020409, 0.9996218853438776, 0.3465778774028883, 0.05303154096779122, 0.6003012722933987, 0.9990872066497339, 0.9990979468473468, 0.998178401949607, 0.997582132414126, 0.44036640313258885, 0.09739774112485308, 0.06631620613040203, 0.3958876547784606, 0.999408232003062, 0.9992080551239999, 0.2490886324180074, 0.7508167911691681, 0.9990064748023241, 0.9990042898518139, 0.9997083340730037, 0.9986676449611865, 0.8367695397190291, 0.16276886937000293, 0.9996415981720864, 0.9979161562965987, 0.9987041837364555, 0.9975914642106604, 0.9994444233106273, 0.9991759647877145, 0.9976176283672016, 0.22401448441946956, 0.7750745053258999, 0.8259171609371958, 0.08969860561556847, 0.08348870214987526, 0.9999365457786318, 0.9985093692706617, 0.18574158369908653, 0.05933816684892325, 0.7547756505574341, 0.1511012960902249, 0.29402611511929044, 0.3110331874065019, 0.02567413797204038, 0.21782134890928526, 0.9992768804749567, 0.9990997272188655, 0.999246914292876, 0.9987134992163728, 0.8476706048134138, 0.15227543687772513, 0.9983292077215244, 0.9987053641291561, 0.9978875381425981, 0.9987246209590066, 0.9979790471399952, 0.9993656295281372, 0.34730661728215634, 0.5881711595127488, 0.06447148686036672, 0.9994494952348202, 0.9988785249198201, 0.9994361604647178, 0.9981456340390322, 0.4209764691953447, 0.39605137961523873, 0.11406174968969678, 0.06888229659791102, 0.998153387633305, 0.29551211499315344, 0.13476409416975402, 0.4798218320194347, 0.039636498285221776, 0.050206231161280916, 0.9994730418662727, 0.996851432077445, 0.3046906026655233, 0.3478228476889549, 0.34726987018865446, 0.21377921201693606, 0.1122663467533608, 0.6735980805201648, 0.2550648832002651, 0.2404782765534504, 0.19912725404092052, 0.09835922830650308, 0.08430790997700263, 0.1091988167321177, 0.013516030012186138, 0.16810674167121675, 0.3317079060575113, 0.02003155306404575, 0.08055241551286481, 0.1978800834594185, 0.13723744865154747, 0.06447846411800744, 0.9977204189103132, 0.9963601439650149, 0.11056092301448817, 0.8892380487766841, 0.9983468387500299, 0.9983870427923593, 0.9995458375132041, 0.9974195740031934, 0.9980395650934377, 0.9999065215741417, 0.9979018391629584, 0.9978280591946987, 0.2830371086169335, 0.7166750591583964, 0.6124489733980173, 0.08745541606493426, 0.16472945533424932, 0.13522956872130135, 0.9987238904620499, 0.9977486694482509, 0.9988755597840064, 0.9980739927724341, 0.4375381342664185, 0.5623342344180087, 0.9994407032522024, 0.9971633581659565, 0.9972727329955798, 0.9994820496141322, 0.8742418377213003, 0.05752596434999691, 0.06811423482807984, 0.9986683226780559, 0.9988331931165327, 0.5351832255595452, 0.2561842661640966, 0.041781124953801166, 0.1665747481710757, 0.9994924717895247, 0.28606779214289985, 0.10060451345529713, 0.17548696492799737, 0.1935164476260793, 0.09591684795379583, 0.07896913421759882, 0.038823486076536406, 0.02127478958373667, 0.0093753310030026, 0.9991998662306409, 0.999335810203605, 0.2236955833206738, 0.16013302973503868, 0.03523818760186088, 0.06512373911229985, 0.4264266752832785, 0.04906583083803413, 0.03992174418185505, 0.9990177610380233, 0.16860206997315919, 0.2242668773421283, 0.15674566695955205, 0.09083210444322759, 0.1631762584245593, 0.09063114845994612, 0.04059310862285835, 0.06490878259991706, 0.13034219052615834, 0.29209778668272174, 0.16996059016450502, 0.09752221449439184, 0.11885519891504007, 0.046182394844699985, 0.14511117974045326, 0.9988790948186156, 0.12211557495090418, 0.38548916633150293, 0.04554580903574264, 0.2511148850148709, 0.04856333675653718, 0.01838805954859175, 0.12871641684014223, 0.9975507326584556, 0.9990337737191406], \"Term\": [\"able\", \"able\", \"able\", \"able\", \"able\", \"able\", \"additive\", \"adult\", \"affordable\", \"afternoon\", \"afternoon\", \"allergy\", \"allergy\", \"alot\", \"amazing\", \"amazing\", \"amazon\", \"amount\", \"amount\", \"amount\", \"amount\", \"amount\", \"apple\", \"apple\", \"area\", \"area\", \"aroma\", \"aroma\", \"artificial\", \"artificial\", \"auto\", \"available\", \"available\", \"available\", \"available\", \"available\", \"available\", \"awesome\", \"baby\", \"bag\", \"bag\", \"baking\", \"ball\", \"banana\", \"bar\", \"bargain\", \"bean\", \"beautiful\", \"beef\", \"benefit\", \"berry\", \"beverage\", \"bill\", \"biscuit\", \"bit\", \"bitter\", \"bitter\", \"bitter\", \"bitterness\", \"black\", \"black\", \"black\", \"blend\", \"blood\", \"blue\", \"blueberry\", \"bold\", \"bone\", \"bonus\", \"book\", \"boost\", \"bottle\", \"bottle\", \"bottle\", \"bottle\", \"box\", \"box\", \"box\", \"brand\", \"brand\", \"brand\", \"brand\", \"brand\", \"bread\", \"break\", \"breakfast\", \"breakfast\", \"breakfast\", \"breath\", \"brew\", \"brewer\", \"brewing\", \"broth\", \"bulk\", \"busy\", \"butter\", \"buttery\", \"cake\", \"calorie\", \"calorie\", \"calorie\", \"can\", \"candy\", \"cappuccino\", \"carb\", \"careful\", \"case\", \"case\", \"case\", \"case\", \"cat\", \"cereal\", \"charge\", \"cheap\", \"cheap\", \"cheap\", \"cheap\", \"cheap\", \"cheese\", \"cheese\", \"cherry\", \"chew\", \"chewy\", \"chicken\", \"chicken\", \"chicken\", \"chip\", \"chocolate\", \"cinnamon\", \"clean\", \"clean\", \"coat\", \"cocoa\", \"coconut\", \"coffee\", \"cold\", \"color\", \"color\", \"color\", \"color\", \"combination\", \"combination\", \"company\", \"company\", \"company\", \"company\", \"company\", \"company\", \"conditioner\", \"consistency\", \"control\", \"cook\", \"cook\", \"cookie\", \"cool\", \"corn\", \"cracker\", \"cranberry\", \"crazy\", \"crazy\", \"crazy\", \"creamer\", \"creamy\", \"creamy\", \"crunch\", \"crunchy\", \"crust\", \"cup\", \"customer\", \"dairy\", \"dark\", \"date\", \"day\", \"day\", \"day\", \"decaf\", \"delicious\", \"delicious\", \"delicious\", \"delicious\", \"delicious\", \"delightful\", \"delivery\", \"dessert\", \"diamond\", \"diet\", \"diet\", \"diet\", \"diet\", \"different\", \"different\", \"different\", \"different\", \"different\", \"different\", \"different\", \"digestive\", \"discount\", \"dish\", \"dog\", \"door\", \"dozen\", \"drink\", \"drink\", \"drinker\", \"drop\", \"duck\", \"early\", \"earth\", \"easy\", \"easy\", \"easy\", \"easy\", \"easy\", \"easy\", \"eater\", \"egg\", \"empty\", \"energy\", \"energy\", \"enjoy\", \"enjoyable\", \"espresso\", \"excellent\", \"excellent\", \"excellent\", \"expensive\", \"expensive\", \"expensive\", \"expensive\", \"expiration\", \"fabulous\", \"family\", \"family\", \"family\", \"family\", \"favorite\", \"favorite\", \"favorite\", \"favorite\", \"favorite\", \"favorite\", \"feed\", \"fiber\", \"fiber\", \"filler\", \"filter\", \"find\", \"find\", \"find\", \"find\", \"first\", \"first\", \"first\", \"first\", \"first\", \"first\", \"first\", \"first\", \"first\", \"fish\", \"flavor\", \"flavor\", \"flavor\", \"flavor\", \"flavorful\", \"flavour\", \"flax\", \"flour\", \"flower\", \"food\", \"food\", \"formula\", \"free\", \"free\", \"free\", \"french\", \"fresh\", \"fresh\", \"fresh\", \"fresh\", \"fresh\", \"fresh\", \"fresh\", \"friend\", \"friend\", \"friend\", \"friend\", \"friend\", \"friend\", \"frozen\", \"fruit\", \"fruit\", \"fruit\", \"fruity\", \"full\", \"full\", \"full\", \"full\", \"full\", \"full\", \"full\", \"full\", \"garden\", \"garlic\", \"german\", \"gift\", \"gift\", \"gift\", \"ginger\", \"girl\", \"gluten\", \"gold\", \"good\", \"good\", \"good\", \"good\", \"good\", \"good\", \"good\", \"good\", \"good\", \"grain\", \"granola\", \"gravy\", \"great\", \"great\", \"great\", \"great\", \"great\", \"great\", \"great\", \"great\", \"great\", \"green\", \"green\", \"greenie\", \"grind\", \"grocery\", \"ground\", \"guest\", \"guest\", \"hair\", \"handy\", \"happy\", \"happy\", \"happy\", \"happy\", \"happy\", \"happy\", \"hard\", \"hard\", \"hard\", \"hard\", \"hard\", \"hard\", \"health\", \"health\", \"health\", \"health\", \"healthy\", \"healthy\", \"healthy\", \"heat\", \"heat\", \"heavy\", \"herbal\", \"high\", \"high\", \"high\", \"high\", \"high\", \"high\", \"hint\", \"home\", \"home\", \"home\", \"homemade\", \"honey\", \"hour\", \"hour\", \"hour\", \"hour\", \"impossible\", \"inch\", \"indian\", \"ingredient\", \"instant\", \"instruction\", \"instruction\", \"issue\", \"issue\", \"issue\", \"issue\", \"issue\", \"item\", \"jasmine\", \"juice\", \"kcup\", \"kernel\", \"kick\", \"kid\", \"kid\", \"kid\", \"kid\", \"large\", \"large\", \"large\", \"large\", \"last\", \"last\", \"last\", \"last\", \"last\", \"licorice\", \"light\", \"light\", \"light\", \"light\", \"line\", \"line\", \"line\", \"list\", \"litter\", \"little\", \"little\", \"little\", \"little\", \"little\", \"little\", \"little\", \"little\", \"liver\", \"local\", \"long\", \"long\", \"long\", \"long\", \"long\", \"love\", \"love\", \"love\", \"love\", \"love\", \"love\", \"love\", \"love\", \"lovely\", \"lover\", \"lunch\", \"machine\", \"mail\", \"maker\", \"many\", \"many\", \"many\", \"many\", \"many\", \"many\", \"many\", \"meal\", \"mean\", \"meat\", \"medium\", \"medium\", \"messy\", \"microwave\", \"middle\", \"milk\", \"mineral\", \"mint\", \"minute\", \"minute\", \"minute\", \"minute\", \"mixture\", \"month\", \"month\", \"month\", \"month\", \"morning\", \"morning\", \"morning\", \"mother\", \"mother\", \"mountain\", \"movie\", \"much\", \"much\", \"much\", \"much\", \"much\", \"much\", \"much\", \"much\", \"much\", \"muffin\", \"natural\", \"natural\", \"natural\", \"nice\", \"nice\", \"nice\", \"nice\", \"nice\", \"night\", \"night\", \"night\", \"night\", \"noodle\", \"nutritious\", \"oatmeal\", \"old\", \"old\", \"olive\", \"one\", \"one\", \"one\", \"one\", \"one\", \"one\", \"onion\", \"order\", \"order\", \"ordering\", \"organic\", \"organic\", \"original\", \"original\", \"ounce\", \"ounce\", \"outstanding\", \"pack\", \"pack\", \"pack\", \"pack\", \"pack\", \"package\", \"package\", \"package\", \"package\", \"packaging\", \"packaging\", \"packaging\", \"packaging\", \"packaging\", \"packet\", \"pancake\", \"pantry\", \"pasta\", \"peach\", \"peanut\", \"pepper\", \"peppermint\", \"perfect\", \"perfect\", \"perfect\", \"period\", \"personal\", \"pick\", \"picky\", \"pill\", \"pink\", \"pizza\", \"plan\", \"plant\", \"pleasant\", \"pleased\", \"pocket\", \"pod\", \"popcorn\", \"pork\", \"potato\", \"pound\", \"pound\", \"powder\", \"powder\", \"pretzel\", \"price\", \"price\", \"price\", \"price\", \"pricey\", \"prime\", \"problem\", \"problem\", \"problem\", \"problem\", \"problem\", \"problem\", \"problem\", \"product\", \"product\", \"product\", \"product\", \"product\", \"product\", \"product\", \"program\", \"protein\", \"pumpkin\", \"purchase\", \"purchase\", \"purchase\", \"purchase\", \"purchase\", \"purchase\", \"pure\", \"purse\", \"quality\", \"quality\", \"quality\", \"quality\", \"quality\", \"raisin\", \"recipe\", \"recipe\", \"recipe\", \"restaurant\", \"result\", \"result\", \"result\", \"result\", \"reward\", \"rice\", \"rich\", \"rich\", \"right\", \"right\", \"right\", \"right\", \"right\", \"right\", \"right\", \"right\", \"roast\", \"salad\", \"salmon\", \"salt\", \"salty\", \"sampler\", \"sandwich\", \"sauce\", \"sausage\", \"scent\", \"scent\", \"school\", \"science\", \"season\", \"seasoning\", \"seed\", \"seller\", \"service\", \"several\", \"several\", \"several\", \"several\", \"several\", \"several\", \"several\", \"several\", \"shape\", \"share\", \"ship\", \"shipment\", \"shipping\", \"size\", \"size\", \"size\", \"sized\", \"skin\", \"sleep\", \"slice\", \"small\", \"small\", \"small\", \"small\", \"smooth\", \"smoothie\", \"snack\", \"snack\", \"soda\", \"sodium\", \"soup\", \"sour\", \"spice\", \"spice\", \"spicy\", \"spoon\", \"spot\", \"stale\", \"starbuck\", \"stash\", \"steak\", \"stock\", \"stock\", \"stomach\", \"stomach\", \"stomach\", \"store\", \"strawberry\", \"strong\", \"strong\", \"strong\", \"stuff\", \"stuff\", \"stuff\", \"stuff\", \"stuff\", \"style\", \"subscribe\", \"subscription\", \"subtle\", \"sugar\", \"sugar\", \"summer\", \"super\", \"superior\", \"supermarket\", \"supplement\", \"supply\", \"sweet\", \"sweet\", \"sweet\", \"sweetener\", \"sweetness\", \"syrup\", \"table\", \"taste\", \"taste\", \"taste\", \"taste\", \"tasting\", \"tasty\", \"tasty\", \"tasty\", \"tasty\", \"tasty\", \"tea\", \"temperature\", \"texture\", \"texture\", \"texture\", \"thank\", \"thank\", \"thank\", \"thing\", \"thing\", \"thing\", \"thing\", \"thing\", \"thing\", \"thing\", \"time\", \"time\", \"time\", \"time\", \"time\", \"time\", \"time\", \"tomato\", \"toobr\", \"tooth\", \"tooth\", \"town\", \"traditional\", \"training\", \"trap\", \"travel\", \"treat\", \"tree\", \"tuna\", \"vanilla\", \"vanilla\", \"variety\", \"variety\", \"variety\", \"variety\", \"vegetable\", \"vegetarian\", \"veggie\", \"vendor\", \"version\", \"version\", \"vinegar\", \"waffle\", \"wait\", \"warm\", \"water\", \"water\", \"water\", \"way\", \"weak\", \"week\", \"week\", \"week\", \"week\", \"weight\", \"well\", \"well\", \"well\", \"well\", \"well\", \"well\", \"well\", \"well\", \"well\", \"wellness\", \"wheat\", \"whole\", \"whole\", \"whole\", \"whole\", \"whole\", \"whole\", \"whole\", \"wine\", \"wonderful\", \"wonderful\", \"wonderful\", \"wonderful\", \"wonderful\", \"wonderful\", \"wonderful\", \"wonderful\", \"work\", \"work\", \"work\", \"work\", \"work\", \"work\", \"work\", \"worry\", \"year\", \"year\", \"year\", \"year\", \"year\", \"year\", \"year\", \"yeast\", \"yummy\"]}, \"R\": 30, \"lambda.step\": 0.01, \"plot.opts\": {\"xlab\": \"PC1\", \"ylab\": \"PC2\"}, \"topic.order\": [10, 3, 7, 6, 4, 9, 1, 5, 8, 2]};\n",
              "\n",
              "function LDAvis_load_lib(url, callback){\n",
              "  var s = document.createElement('script');\n",
              "  s.src = url;\n",
              "  s.async = true;\n",
              "  s.onreadystatechange = s.onload = callback;\n",
              "  s.onerror = function(){console.warn(\"failed to load library \" + url);};\n",
              "  document.getElementsByTagName(\"head\")[0].appendChild(s);\n",
              "}\n",
              "\n",
              "if(typeof(LDAvis) !== \"undefined\"){\n",
              "   // already loaded: just create the visualization\n",
              "   !function(LDAvis){\n",
              "       new LDAvis(\"#\" + \"ldavis_el1471399217671227686253042044\", ldavis_el1471399217671227686253042044_data);\n",
              "   }(LDAvis);\n",
              "}else if(typeof define === \"function\" && define.amd){\n",
              "   // require.js is available: use it to load d3/LDAvis\n",
              "   require.config({paths: {d3: \"https://d3js.org/d3.v5\"}});\n",
              "   require([\"d3\"], function(d3){\n",
              "      window.d3 = d3;\n",
              "      LDAvis_load_lib(\"https://cdn.jsdelivr.net/gh/bmabey/pyLDAvis@3.3.1/pyLDAvis/js/ldavis.v3.0.0.js\", function(){\n",
              "        new LDAvis(\"#\" + \"ldavis_el1471399217671227686253042044\", ldavis_el1471399217671227686253042044_data);\n",
              "      });\n",
              "    });\n",
              "}else{\n",
              "    // require.js not available: dynamically load d3 & LDAvis\n",
              "    LDAvis_load_lib(\"https://d3js.org/d3.v5.js\", function(){\n",
              "         LDAvis_load_lib(\"https://cdn.jsdelivr.net/gh/bmabey/pyLDAvis@3.3.1/pyLDAvis/js/ldavis.v3.0.0.js\", function(){\n",
              "                 new LDAvis(\"#\" + \"ldavis_el1471399217671227686253042044\", ldavis_el1471399217671227686253042044_data);\n",
              "            })\n",
              "         });\n",
              "}\n",
              "</script>"
            ],
            "text/plain": [
              "PreparedData(topic_coordinates=              x         y  topics  cluster       Freq\n",
              "topic                                                \n",
              "9     -0.137113  0.026504       1        1  16.290431\n",
              "2      0.045314 -0.111506       2        1  14.441102\n",
              "6     -0.170405  0.049673       3        1  14.008811\n",
              "5     -0.016075 -0.235050       4        1  10.306822\n",
              "3     -0.140673  0.040757       5        1  10.030376\n",
              "8     -0.105303 -0.138884       6        1   9.575804\n",
              "0     -0.101653  0.268976       7        1   6.844762\n",
              "4      0.188631  0.002548       8        1   6.567445\n",
              "7      0.274943  0.138532       9        1   6.255843\n",
              "1      0.162334 -0.041551      10        1   5.678604, topic_info=        Term          Freq         Total Category  logprob  loglift\n",
              "3     coffee  28457.000000  28457.000000  Default  30.0000  30.0000\n",
              "30      food  21843.000000  21843.000000  Default  29.0000  29.0000\n",
              "136    store  12846.000000  12846.000000  Default  28.0000  28.0000\n",
              "84    flavor  29925.000000  29925.000000  Default  27.0000  27.0000\n",
              "90   product  26614.000000  26614.000000  Default  26.0000  26.0000\n",
              "..       ...           ...           ...      ...      ...      ...\n",
              "213  several    601.767395   3734.680624  Topic10  -5.1636   1.0429\n",
              "219    great    693.531026  30003.447693  Topic10  -5.0216  -0.8988\n",
              "21     water    624.356952   9161.080669  Topic10  -5.1267   0.1825\n",
              "352   health    545.707203   2384.720131  Topic10  -5.2614   1.3937\n",
              "667    light    548.532900   3488.848415  Topic10  -5.2562   1.0184\n",
              "\n",
              "[551 rows x 6 columns], token_table=      Topic      Freq   Term\n",
              "term                        \n",
              "490       1  0.179583   able\n",
              "490       3  0.081957   able\n",
              "490       4  0.338375   able\n",
              "490       5  0.014463   able\n",
              "490       8  0.291973   able\n",
              "...     ...       ...    ...\n",
              "340       5  0.048563   year\n",
              "340       7  0.018388   year\n",
              "340       8  0.128716   year\n",
              "1527      4  0.997551  yeast\n",
              "980       6  0.999034  yummy\n",
              "\n",
              "[842 rows x 3 columns], R=30, lambda_step=0.01, plot_opts={'xlab': 'PC1', 'ylab': 'PC2'}, topic_order=[10, 3, 7, 6, 4, 9, 1, 5, 8, 2])"
            ]
          },
          "metadata": {},
          "execution_count": 71
        }
      ]
    },
    {
      "cell_type": "code",
      "metadata": {
        "id": "V5ELffk-Q5Zr"
      },
      "source": [
        "# Now to check our LDA's perfromance we will use Perplexity and Coherence score"
      ],
      "execution_count": null,
      "outputs": []
    },
    {
      "cell_type": "code",
      "metadata": {
        "colab": {
          "base_uri": "https://localhost:8080/"
        },
        "id": "uZwe_Slhkal2",
        "outputId": "622c4ea6-3309-4605-a6f4-6609f9f9dc94"
      },
      "source": [
        "# Perplexity (lower = Better)\n",
        "print('Perplexity: ', lda_model.log_perplexity(doc_term_matrix,total_docs=10000)) \n",
        "# Compute Coherence Score\n",
        "from gensim.models.coherencemodel import CoherenceModel\n",
        "coherence_model_lda = CoherenceModel(model=lda_model, texts=tokenized_reviews, dictionary=dictionary , coherence='c_v')\n",
        "coherence_lda = coherence_model_lda.get_coherence()\n",
        "print('\\nCoherence Score: ', coherence_lda)\n"
      ],
      "execution_count": 72,
      "outputs": [
        {
          "output_type": "stream",
          "name": "stdout",
          "text": [
            "Perplexity:  -8.68064946799338\n",
            "\n",
            "Coherence Score:  0.4114099442951563\n"
          ]
        }
      ]
    },
    {
      "cell_type": "markdown",
      "metadata": {
        "id": "Vyd2LK2-kal2"
      },
      "source": [
        "\n",
        "Method to find optimal number of topics\n",
        "Code from:https://www.machinelearningplus.com/nlp/topic-modeling-gensim-python/#14computemodelperplexityandcoherencescore"
      ]
    },
    {
      "cell_type": "code",
      "metadata": {
        "id": "dmcam-iQkal2"
      },
      "source": [
        "\n",
        "\n",
        "def compute_coherence_values(dictionary, corpus, texts, limit, start=2, step=3):\n",
        "    \"\"\"\n",
        "    Compute c_v coherence for various number of topics\n",
        "\n",
        "    Parameters:\n",
        "    ----------\n",
        "    dictionary : Gensim dictionary\n",
        "    corpus : Gensim corpus\n",
        "    texts : List of input texts\n",
        "    limit : Max num of topics\n",
        "\n",
        "    Returns:\n",
        "    -------\n",
        "    model_list : List of LDA topic models\n",
        "    coherence_values : Coherence values corresponding to the LDA model with respective number of topics\n",
        "    \"\"\"\n",
        "    coherence_values = []\n",
        "    model_list = []\n",
        "    for num_topics in range(start, limit, step):\n",
        "        model = gensim.models.ldamodel.LdaModel(corpus=corpus, num_topics=num_topics, id2word=dictionary)\n",
        "        model_list.append(model)\n",
        "        coherencemodel = CoherenceModel(model=model, texts=texts, dictionary=dictionary, coherence='c_v')\n",
        "        coherence_values.append(coherencemodel.get_coherence())\n",
        "\n",
        "    return model_list, coherence_values"
      ],
      "execution_count": 73,
      "outputs": []
    },
    {
      "cell_type": "code",
      "metadata": {
        "id": "fsDhI_fFkal3"
      },
      "source": [
        "model_list, coherence_values = compute_coherence_values(dictionary=dictionary, corpus=doc_term_matrix, texts=tokenized_reviews, start=2, limit=50, step=1)"
      ],
      "execution_count": 74,
      "outputs": []
    },
    {
      "cell_type": "code",
      "metadata": {
        "colab": {
          "base_uri": "https://localhost:8080/",
          "height": 283
        },
        "id": "_KdyGik2kal3",
        "outputId": "29300a34-4f17-48ca-a2b5-f4c6471c7a4e"
      },
      "source": [
        "# Show graph\n",
        "limit=50; start=2; step=1;\n",
        "x = range(start, limit, step)\n",
        "plt.plot(x, coherence_values)\n",
        "plt.xlabel(\"Num Topics\")\n",
        "plt.ylabel(\"Coherence score\")\n",
        "plt.legend((\"coherence_values\"), loc='best')\n",
        "plt.show()# Print the coherence scores\n"
      ],
      "execution_count": 75,
      "outputs": [
        {
          "output_type": "display_data",
          "data": {
            "image/png": "[encoded data removed]",
            "text/plain": [
              "<Figure size 432x288 with 1 Axes>"
            ]
          },
          "metadata": {
            "needs_background": "light"
          }
        }
      ]
    },
    {
      "cell_type": "code",
      "metadata": {
        "colab": {
          "base_uri": "https://localhost:8080/"
        },
        "id": "Nu4LJz2ekal4",
        "outputId": "0ed65c8f-6ab5-401f-8b67-24fc7196ac33"
      },
      "source": [
        "# Print the coherence scores\n",
        "for m, cv in zip(x, coherence_values):\n",
        "    print(\"Num Topics =\", m, \" has Coherence Value of\", round(cv, 4))"
      ],
      "execution_count": 76,
      "outputs": [
        {
          "output_type": "stream",
          "name": "stdout",
          "text": [
            "Num Topics = 2  has Coherence Value of 0.2927\n",
            "Num Topics = 3  has Coherence Value of 0.3367\n",
            "Num Topics = 4  has Coherence Value of 0.3574\n",
            "Num Topics = 5  has Coherence Value of 0.4004\n",
            "Num Topics = 6  has Coherence Value of 0.3998\n",
            "Num Topics = 7  has Coherence Value of 0.4253\n",
            "Num Topics = 8  has Coherence Value of 0.3861\n",
            "Num Topics = 9  has Coherence Value of 0.424\n",
            "Num Topics = 10  has Coherence Value of 0.4006\n",
            "Num Topics = 11  has Coherence Value of 0.4332\n",
            "Num Topics = 12  has Coherence Value of 0.4151\n",
            "Num Topics = 13  has Coherence Value of 0.414\n",
            "Num Topics = 14  has Coherence Value of 0.4216\n",
            "Num Topics = 15  has Coherence Value of 0.4098\n",
            "Num Topics = 16  has Coherence Value of 0.4122\n",
            "Num Topics = 17  has Coherence Value of 0.3963\n",
            "Num Topics = 18  has Coherence Value of 0.4098\n",
            "Num Topics = 19  has Coherence Value of 0.3822\n",
            "Num Topics = 20  has Coherence Value of 0.3932\n",
            "Num Topics = 21  has Coherence Value of 0.3996\n",
            "Num Topics = 22  has Coherence Value of 0.3885\n",
            "Num Topics = 23  has Coherence Value of 0.3832\n",
            "Num Topics = 24  has Coherence Value of 0.3729\n",
            "Num Topics = 25  has Coherence Value of 0.3493\n",
            "Num Topics = 26  has Coherence Value of 0.4052\n",
            "Num Topics = 27  has Coherence Value of 0.3551\n",
            "Num Topics = 28  has Coherence Value of 0.3756\n",
            "Num Topics = 29  has Coherence Value of 0.3736\n",
            "Num Topics = 30  has Coherence Value of 0.3762\n",
            "Num Topics = 31  has Coherence Value of 0.3617\n",
            "Num Topics = 32  has Coherence Value of 0.3458\n",
            "Num Topics = 33  has Coherence Value of 0.3744\n",
            "Num Topics = 34  has Coherence Value of 0.3552\n",
            "Num Topics = 35  has Coherence Value of 0.3465\n",
            "Num Topics = 36  has Coherence Value of 0.3515\n",
            "Num Topics = 37  has Coherence Value of 0.3465\n",
            "Num Topics = 38  has Coherence Value of 0.3233\n",
            "Num Topics = 39  has Coherence Value of 0.3324\n",
            "Num Topics = 40  has Coherence Value of 0.3515\n",
            "Num Topics = 41  has Coherence Value of 0.3181\n",
            "Num Topics = 42  has Coherence Value of 0.3344\n",
            "Num Topics = 43  has Coherence Value of 0.3311\n",
            "Num Topics = 44  has Coherence Value of 0.338\n",
            "Num Topics = 45  has Coherence Value of 0.3273\n",
            "Num Topics = 46  has Coherence Value of 0.3316\n",
            "Num Topics = 47  has Coherence Value of 0.3251\n",
            "Num Topics = 48  has Coherence Value of 0.32\n",
            "Num Topics = 49  has Coherence Value of 0.3235\n"
          ]
        }
      ]
    },
    {
      "cell_type": "code",
      "metadata": {
        "colab": {
          "base_uri": "https://localhost:8080/"
        },
        "id": "8Dbl28u-kal4",
        "outputId": "bbd7fb69-154a-4bed-da54-7ff4c0086db5"
      },
      "source": [
        "# Select the model and print the topics\n",
        "optimal_model = model_list[7]\n",
        "model_topics = optimal_model.show_topics(formatted=False)\n",
        "optimal_model.print_topics(num_words=10)"
      ],
      "execution_count": 77,
      "outputs": [
        {
          "output_type": "execute_result",
          "data": {
            "text/plain": [
              "[(0,\n",
              "  '0.066*\"chip\" + 0.022*\"good\" + 0.019*\"potato\" + 0.018*\"bag\" + 0.015*\"snack\" + 0.014*\"great\" + 0.012*\"month\" + 0.011*\"fresh\" + 0.010*\"time\" + 0.010*\"year\"'),\n",
              " (1,\n",
              "  '0.044*\"store\" + 0.041*\"price\" + 0.031*\"product\" + 0.026*\"great\" + 0.025*\"good\" + 0.022*\"cookie\" + 0.019*\"local\" + 0.018*\"order\" + 0.016*\"grocery\" + 0.013*\"time\"'),\n",
              " (2,\n",
              "  '0.133*\"coffee\" + 0.027*\"good\" + 0.019*\"strong\" + 0.018*\"flavor\" + 0.016*\"blend\" + 0.016*\"taste\" + 0.016*\"bean\" + 0.015*\"great\" + 0.011*\"bold\" + 0.011*\"kcup\"'),\n",
              " (3,\n",
              "  '0.039*\"product\" + 0.039*\"sugar\" + 0.022*\"free\" + 0.020*\"shipping\" + 0.016*\"good\" + 0.013*\"ingredient\" + 0.011*\"great\" + 0.011*\"natural\" + 0.011*\"syrup\" + 0.011*\"bottle\"'),\n",
              " (4,\n",
              "  '0.103*\"food\" + 0.023*\"good\" + 0.018*\"cat\" + 0.018*\"sauce\" + 0.014*\"meal\" + 0.013*\"chicken\" + 0.011*\"healthy\" + 0.011*\"ingredient\" + 0.010*\"baby\" + 0.010*\"rice\"'),\n",
              " (5,\n",
              "  '0.023*\"salt\" + 0.022*\"good\" + 0.019*\"flavor\" + 0.019*\"butter\" + 0.018*\"great\" + 0.016*\"snack\" + 0.016*\"little\" + 0.015*\"cereal\" + 0.015*\"taste\" + 0.014*\"peanut\"'),\n",
              " (6,\n",
              "  '0.066*\"flavor\" + 0.026*\"good\" + 0.024*\"taste\" + 0.016*\"green\" + 0.013*\"brand\" + 0.013*\"tea\" + 0.012*\"strong\" + 0.011*\"smooth\" + 0.011*\"love\" + 0.010*\"favorite\"'),\n",
              " (7,\n",
              "  '0.036*\"taste\" + 0.032*\"good\" + 0.031*\"chocolate\" + 0.029*\"water\" + 0.026*\"flavor\" + 0.023*\"great\" + 0.019*\"sweet\" + 0.016*\"milk\" + 0.013*\"bar\" + 0.013*\"love\"'),\n",
              " (8,\n",
              "  '0.048*\"treat\" + 0.027*\"dog\" + 0.023*\"product\" + 0.019*\"time\" + 0.016*\"small\" + 0.016*\"great\" + 0.014*\"love\" + 0.012*\"tooth\" + 0.011*\"year\" + 0.010*\"good\"')]"
            ]
          },
          "metadata": {},
          "execution_count": 77
        }
      ]
    },
    {
      "cell_type": "code",
      "metadata": {
        "colab": {
          "base_uri": "https://localhost:8080/",
          "height": 915
        },
        "id": "P-wuNA8jkal4",
        "outputId": "dbe91b47-5485-4e4b-da0e-4226ce268d5f"
      },
      "source": [
        "# Visualize the topics\n",
        "pyLDAvis.enable_notebook()\n",
        "vis = pyLDAvis.gensim_models.prepare(lda_model, doc_term_matrix, dictionary)\n",
        "vis"
      ],
      "execution_count": 79,
      "outputs": [
        {
          "output_type": "stream",
          "name": "stderr",
          "text": [
            "/usr/local/lib/python3.7/dist-packages/pyLDAvis/_prepare.py:247: FutureWarning: In a future version of pandas all arguments of DataFrame.drop except for the argument 'labels' will be keyword-only\n",
            "  by='saliency', ascending=False).head(R).drop('saliency', 1)\n"
          ]
        },
        {
          "output_type": "execute_result",
          "data": {
            "text/html": [
              "\n",
              "<link rel=\"stylesheet\" type=\"text/css\" href=\"https://cdn.jsdelivr.net/gh/bmabey/pyLDAvis@3.3.1/pyLDAvis/js/ldavis.v1.0.0.css\">\n",
              "\n",
              "\n",
              "<div id=\"ldavis_el1471399217097827367129921597\"></div>\n",
              "<script type=\"text/javascript\">\n",
              "\n",
              "var ldavis_el1471399217097827367129921597_data = {\"mdsDat\": {\"x\": [-0.13711265665711167, 0.045314387488174325, -0.17040515355055172, -0.016074759010668585, -0.14067265386399416, -0.10530346885994808, -0.10165319151153182, 0.18863093386313823, 0.27494281044739294, 0.16233375165510053], \"y\": [0.026503652363581657, -0.1115055589250547, 0.0496732984665257, -0.2350498982597001, 0.04075746462718786, -0.1388837010967541, 0.2689760241910032, 0.0025480775922348663, 0.13853172210345802, -0.04155108106248267], \"topics\": [1, 2, 3, 4, 5, 6, 7, 8, 9, 10], \"cluster\": [1, 1, 1, 1, 1, 1, 1, 1, 1, 1], \"Freq\": [16.287058865331456, 14.447667558807318, 14.009822190595656, 10.308228163260466, 10.030490079318193, 9.573751791868798, 6.844515513702378, 6.564897184839438, 6.255491684993543, 5.678076967282754]}, \"tinfo\": {\"Term\": [\"coffee\", \"food\", \"store\", \"flavor\", \"product\", \"price\", \"chocolate\", \"treat\", \"taste\", \"order\", \"snack\", \"cookie\", \"chip\", \"water\", \"sugar\", \"local\", \"milk\", \"bag\", \"time\", \"strong\", \"ingredient\", \"healthy\", \"butter\", \"small\", \"sauce\", \"dog\", \"size\", \"grocery\", \"salt\", \"cereal\", \"chip\", \"salt\", \"tea\", \"potato\", \"spicy\", \"cold\", \"enjoy\", \"salad\", \"salty\", \"subscribe\", \"vinegar\", \"sweetness\", \"blue\", \"pleased\", \"pretzel\", \"mint\", \"crunch\", \"stash\", \"pumpkin\", \"wine\", \"onion\", \"kick\", \"super\", \"hint\", \"style\", \"tomato\", \"herbal\", \"garlic\", \"subtle\", \"personal\", \"green\", \"spice\", \"flavor\", \"taste\", \"favorite\", \"variety\", \"brand\", \"combination\", \"good\", \"love\", \"great\", \"nice\", \"little\", \"sweet\", \"many\", \"different\", \"family\", \"light\", \"well\", \"time\", \"much\", \"thing\", \"snack\", \"price\", \"right\", \"treat\", \"dog\", \"cat\", \"baby\", \"can\", \"chew\", \"formula\", \"bone\", \"picky\", \"coat\", \"feed\", \"heavy\", \"eater\", \"greenie\", \"biscuit\", \"control\", \"movie\", \"travel\", \"adult\", \"slice\", \"german\", \"girl\", \"busy\", \"boost\", \"early\", \"bill\", \"discount\", \"filler\", \"worry\", \"charge\", \"food\", \"tooth\", \"allergy\", \"old\", \"stomach\", \"month\", \"crazy\", \"problem\", \"hour\", \"small\", \"year\", \"time\", \"expensive\", \"week\", \"happy\", \"love\", \"issue\", \"little\", \"last\", \"day\", \"product\", \"size\", \"great\", \"good\", \"brand\", \"large\", \"stuff\", \"easy\", \"thing\", \"long\", \"perfect\", \"healthy\", \"chocolate\", \"milk\", \"dark\", \"packet\", \"honey\", \"syrup\", \"juice\", \"sweetener\", \"cocoa\", \"drinker\", \"soda\", \"cinnamon\", \"pure\", \"warm\", \"decaf\", \"summer\", \"pricey\", \"breath\", \"beverage\", \"berry\", \"granola\", \"blood\", \"blueberry\", \"cool\", \"creamer\", \"bitterness\", \"break\", \"sized\", \"fruity\", \"outstanding\", \"apple\", \"water\", \"drink\", \"sugar\", \"powder\", \"artificial\", \"sweet\", \"amazing\", \"energy\", \"taste\", \"perfect\", \"bottle\", \"flavor\", \"fruit\", \"good\", \"little\", \"product\", \"great\", \"love\", \"stuff\", \"nice\", \"natural\", \"much\", \"thing\", \"well\", \"store\", \"local\", \"grocery\", \"shipping\", \"item\", \"amazon\", \"olive\", \"bulk\", \"service\", \"seller\", \"supermarket\", \"customer\", \"shipment\", \"door\", \"pizza\", \"ship\", \"diamond\", \"crust\", \"affordable\", \"waffle\", \"lovely\", \"tasting\", \"yeast\", \"sausage\", \"delightful\", \"vendor\", \"dozen\", \"auto\", \"sampler\", \"broth\", \"order\", \"price\", \"stock\", \"cheap\", \"product\", \"excellent\", \"available\", \"gift\", \"company\", \"great\", \"quality\", \"free\", \"case\", \"year\", \"good\", \"happy\", \"pack\", \"month\", \"package\", \"well\", \"fresh\", \"last\", \"love\", \"coffee\", \"blend\", \"bean\", \"kcup\", \"bold\", \"smooth\", \"cup\", \"machine\", \"roast\", \"french\", \"maker\", \"awesome\", \"instant\", \"weak\", \"ground\", \"pod\", \"cherry\", \"training\", \"starbuck\", \"espresso\", \"brew\", \"brewer\", \"lover\", \"gravy\", \"mountain\", \"program\", \"filter\", \"cappuccino\", \"brewing\", \"grind\", \"strong\", \"morning\", \"vanilla\", \"rich\", \"bitter\", \"medium\", \"black\", \"aroma\", \"flavor\", \"good\", \"taste\", \"great\", \"full\", \"brand\", \"favorite\", \"time\", \"cookie\", \"ingredient\", \"bar\", \"protein\", \"meal\", \"corn\", \"rice\", \"soup\", \"wheat\", \"dish\", \"grain\", \"yummy\", \"flour\", \"oatmeal\", \"skin\", \"cake\", \"sodium\", \"crunchy\", \"vegetable\", \"plan\", \"homemade\", \"list\", \"drop\", \"egg\", \"sandwich\", \"nutritious\", \"supplement\", \"pantry\", \"peach\", \"raisin\", \"organic\", \"snack\", \"healthy\", \"free\", \"tasty\", \"high\", \"natural\", \"whole\", \"delicious\", \"diet\", \"good\", \"product\", \"great\", \"food\", \"calorie\", \"kid\", \"texture\", \"sugar\", \"sauce\", \"bread\", \"meat\", \"flavorful\", \"beef\", \"noodle\", \"fish\", \"chewy\", \"wellness\", \"restaurant\", \"shape\", \"pleasant\", \"consistency\", \"pancake\", \"sour\", \"licorice\", \"salmon\", \"traditional\", \"pork\", \"ball\", \"carb\", \"tuna\", \"school\", \"smoothie\", \"town\", \"peppermint\", \"bargain\", \"vegetarian\", \"steak\", \"strawberry\", \"chicken\", \"heat\", \"original\", \"cheese\", \"recipe\", \"version\", \"creamy\", \"texture\", \"flavor\", \"good\", \"easy\", \"stuff\", \"taste\", \"perfect\", \"nice\", \"product\", \"wonderful\", \"cereal\", \"candy\", \"ginger\", \"lunch\", \"pepper\", \"veggie\", \"seasoning\", \"banana\", \"beautiful\", \"spoon\", \"dessert\", \"handy\", \"tree\", \"digestive\", \"way\", \"muffin\", \"sleep\", \"pick\", \"liver\", \"messy\", \"frozen\", \"spot\", \"period\", \"flower\", \"microwave\", \"impossible\", \"additive\", \"toobr\", \"mixture\", \"pink\", \"fiber\", \"guest\", \"breakfast\", \"time\", \"minute\", \"long\", \"kid\", \"able\", \"easy\", \"gift\", \"night\", \"year\", \"find\", \"friend\", \"hard\", \"great\", \"little\", \"nice\", \"thing\", \"fresh\", \"first\", \"fruit\", \"one\", \"family\", \"butter\", \"peanut\", \"popcorn\", \"cracker\", \"delivery\", \"pill\", \"seed\", \"date\", \"pocket\", \"supply\", \"subscription\", \"share\", \"fabulous\", \"empty\", \"bit\", \"expiration\", \"gold\", \"stale\", \"superior\", \"middle\", \"mail\", \"mean\", \"kernel\", \"flavour\", \"garden\", \"jasmine\", \"duck\", \"buttery\", \"inch\", \"reward\", \"bag\", \"size\", \"box\", \"large\", \"package\", \"small\", \"ounce\", \"afternoon\", \"packaging\", \"pound\", \"time\", \"fresh\", \"home\", \"purchase\", \"pack\", \"great\", \"amount\", \"one\", \"first\", \"weight\", \"pasta\", \"hair\", \"benefit\", \"coconut\", \"plant\", \"careful\", \"table\", \"alot\", \"purse\", \"gluten\", \"litter\", \"bonus\", \"dairy\", \"science\", \"cranberry\", \"earth\", \"trap\", \"baking\", \"enjoyable\", \"prime\", \"ordering\", \"season\", \"indian\", \"book\", \"mineral\", \"conditioner\", \"flax\", \"wait\", \"temperature\", \"thank\", \"scent\", \"area\", \"color\", \"line\", \"product\", \"clean\", \"home\", \"instruction\", \"result\", \"mother\", \"cook\", \"day\", \"time\", \"week\", \"nice\", \"work\", \"several\", \"great\", \"water\", \"health\", \"light\"], \"Freq\": [28457.0, 21851.0, 12848.0, 29922.0, 26616.0, 14017.0, 9540.0, 9282.0, 22907.0, 6758.0, 7602.0, 5855.0, 7546.0, 9161.0, 8320.0, 5497.0, 6047.0, 5344.0, 16424.0, 6858.0, 4765.0, 6795.0, 3998.0, 7465.0, 3937.0, 5221.0, 5073.0, 4325.0, 5357.0, 3402.0, 7545.8291040552685, 5356.850306190791, 2663.946277192748, 2477.259695971557, 2134.416805775871, 1975.6629020647374, 1677.2843829707133, 1661.3899015215236, 1418.259473304366, 1175.9093349560455, 1124.490065848929, 1106.1059476726787, 999.0246667059732, 869.0574115396719, 859.923545822357, 845.1020419621807, 832.9963458055392, 802.5893437649654, 740.1544242726067, 728.6591790341449, 719.4755837977792, 657.0276700101882, 621.7706350734786, 614.2832519212371, 612.4098959853526, 606.3523067452579, 601.1068960768941, 581.3539166972212, 546.6846804613272, 533.5158753561055, 2716.779536339432, 1824.3917457032219, 15016.180598416142, 9642.062629847567, 3855.691724628589, 2345.349196632852, 4404.953138714749, 867.355931498021, 12402.438658846015, 5233.544699394299, 7052.461140762697, 2915.0786626533427, 4290.69128044215, 2978.502342653723, 2683.6751293269494, 2158.0918497735147, 1750.4092525943042, 1643.4352974822737, 2379.299567384669, 2760.245664609524, 1882.6316150185828, 1905.2383172298364, 1893.813873340532, 1801.8093463360242, 1665.4519884505505, 9281.174540757518, 5220.480487649817, 3837.5730795135332, 2219.996738764387, 1523.6011013978382, 1439.669732737225, 1269.535660042807, 1230.0035582276196, 1147.380135804842, 1045.61877823398, 848.4165986419183, 763.8272692214186, 758.6167932265049, 743.7776596567942, 739.6338153142007, 666.4548712989641, 599.3508490724546, 592.5217646854635, 575.6093693463179, 529.6124292239024, 524.464945494921, 503.55998694244374, 488.9447531824539, 471.37181134748073, 439.63436379579616, 434.2886506958319, 425.2266431334202, 411.94633449469677, 411.73919523842375, 402.16882575935335, 18424.334833757097, 2059.9801835048106, 1243.983604396069, 669.7765139192597, 1198.0433635436816, 3378.514106568115, 765.0511011575641, 2701.484198340005, 1435.121952825849, 3288.3513012107414, 4089.9832760250843, 5450.729867931213, 1926.4568917744386, 1948.1906565795687, 2265.4129786706903, 4490.370841255647, 1095.313881513812, 3277.611337943393, 1714.2466023266043, 1477.2890130250903, 3860.7597163829664, 1758.3066704621033, 3596.9929676192337, 3984.4062445020004, 2145.0776879212985, 1686.381091848939, 1798.9702654022474, 1807.1023114758627, 1798.2928648926368, 1532.596347127464, 1582.4873432698985, 1515.5574064944424, 9540.050383185606, 6047.057290307231, 3149.442061513155, 2257.7407266930118, 2187.74065491837, 2017.3800229911185, 1695.2442584001478, 1464.0085821801842, 1259.0902996613988, 1199.471963119625, 1192.3680600455978, 1109.3715758924357, 1049.1589615892087, 1005.6903467638977, 965.5035517277904, 817.5226493549919, 775.9051408793556, 760.257135564998, 742.4118855016809, 676.2013313638939, 665.669214131407, 628.1863345749979, 594.5235444882304, 580.9143058252018, 546.0174045595567, 544.3836240646957, 538.7988873218983, 525.6148146417231, 523.2364952230733, 497.80360022958075, 1293.679851295841, 8009.119334010457, 5051.950658295978, 7053.197333022582, 1237.3729396777883, 1087.0931684004017, 5045.205037768253, 1789.3948697038693, 1738.0234361030573, 9073.375826667927, 3305.880184119272, 2395.893026499281, 6973.787903637361, 1964.2078721879532, 6938.729140830141, 3075.0698551380874, 3607.0441547673327, 3491.576396563761, 2789.581863635571, 1902.5699821229655, 2003.4097829429047, 1629.2882480005676, 1650.1394463343008, 1488.3192311102252, 1460.436148723576, 12847.66180390144, 5496.885306556261, 4324.303511662867, 3638.966832239938, 3298.401044649104, 2064.875823420208, 1365.6322305184042, 1315.8062441235209, 1196.8217811440697, 1104.4781507834182, 1076.615245308645, 1067.219643340291, 985.2212664703401, 783.5733771511175, 635.77248957402, 632.0799535404482, 533.2613819813452, 530.2661698771587, 480.84521461326045, 468.4895645868851, 463.97234053762867, 461.01002526550553, 426.19846421056906, 392.5946169889624, 337.4608378786093, 319.7555405862402, 313.02831625000596, 304.5971249232488, 300.66533111918403, 294.89756067214773, 6536.488148289755, 10265.099025722944, 993.3576310535244, 2302.2892374690246, 10635.627603598474, 2397.0980852962157, 1702.10627457306, 1260.7225437717075, 1285.6825260927853, 5805.141070439503, 2040.867359738972, 2242.653860304645, 1511.613523185794, 2662.9885975654634, 4711.719722733279, 1550.3163793772148, 1540.4240352447048, 1544.2194405612422, 1429.2583490534917, 1610.204617596697, 1356.699495868217, 1236.0956196476814, 1272.0402098361283, 28456.73258455565, 3569.046190214085, 3490.0097157702653, 2485.4154290203105, 2333.3976520385368, 2310.4926817224655, 2241.296402343272, 2193.6142811132872, 1856.834080857932, 1441.3460759411598, 1420.6624600165017, 1389.5587402218875, 1340.8768537890999, 1161.4681403008992, 1158.7842777081892, 1142.0530045946123, 1109.139567898628, 1070.5972177905653, 1044.6914811142285, 978.617694440086, 936.264799302821, 664.2717373920749, 529.2186937523102, 518.4163241720231, 516.6998702412848, 480.75248875346057, 467.3083027805814, 449.6347535588071, 448.473551711107, 448.1503323620526, 5177.0482633299125, 3006.2043354804673, 2170.4987337373664, 2031.4344739548735, 1875.5726707104702, 919.0512060952992, 1828.8903146832886, 882.5122795595203, 4951.113439570524, 5334.7703081276795, 2613.0676925782145, 2674.7550050993177, 1221.5916975398404, 1331.6653618854955, 1253.448442284714, 1322.7375520604642, 5855.069576007731, 4764.9542160713845, 3220.063628785035, 3022.662597809068, 2663.9357304180044, 2161.6368949428493, 2056.97790636611, 2003.239015771317, 1561.787158192157, 1483.643118876754, 1314.1879856384535, 1296.0593077319352, 1168.6457693781697, 1148.7258666838068, 1105.8452235294355, 1051.179837354723, 1029.8896790762972, 1009.2922455233567, 952.0960896041364, 757.5495237981036, 736.0667997716944, 718.2230068696967, 573.1853673688692, 569.1759618755351, 549.5086985061957, 541.2526897875028, 505.99994584837907, 471.8961142311102, 451.71097946877023, 412.85538983914086, 3260.5034267658903, 5707.47238924817, 4835.022384823852, 3117.0171719092464, 2178.338257689037, 2309.044488667517, 1827.0590274944184, 1911.6155392478106, 1999.8339380767036, 1428.6249707486174, 5362.540562105001, 4113.810149790778, 4312.058734299036, 3426.0505157697116, 1538.094800010394, 1350.923535382267, 1257.7954531580726, 1266.6754426120297, 3936.644044647761, 2795.6341210652186, 1983.9520639610746, 1503.934722715391, 1465.7727160698953, 1380.1729739921657, 1222.6517096720709, 1147.491516325465, 938.8138892881179, 894.633362013109, 887.7823269849083, 883.9006444758668, 880.2169660295965, 815.2779502071406, 810.1473189944662, 799.6712274741786, 775.7319223190673, 708.2140718293396, 697.4652376823369, 658.0491462707571, 624.4349753377343, 612.4059038307871, 579.2153694971814, 549.5118673566886, 493.89589703424195, 471.43436102024157, 466.4166641462913, 447.08830333308106, 435.11897544912864, 434.7295202308517, 2319.7915130642937, 1023.2253708484186, 989.3523305608188, 1495.7059241758748, 1543.4155757420156, 1121.6181589639007, 707.4386444696204, 1255.9384713826344, 2981.108552863582, 3170.3994923095383, 1474.9086495016418, 1332.36437942984, 1578.1710151727996, 1105.2017684548784, 879.2450104871209, 893.264571852283, 811.7515415352359, 3401.8115528471117, 3317.8145281316397, 1472.8831784688086, 1426.4280615432488, 1421.5291146523004, 969.8072317299034, 916.80434992734, 707.2719668457811, 629.6107654666755, 616.1388596986121, 600.4771555866937, 588.892282622067, 572.0723460191716, 515.801442304277, 477.54364434651217, 435.79979591584373, 419.69529649327075, 418.91380806871837, 417.3220381997328, 416.2391715090731, 411.6942626846041, 406.4619735949571, 401.8484088479601, 397.23957215830836, 396.81036647355614, 367.07966240548575, 356.560725722582, 355.2506008504246, 347.1234666380715, 344.24725062754, 864.929520321562, 446.23790263634857, 1106.119220060069, 3248.917163250137, 975.0922372433637, 1221.2863167204455, 1080.9906428038612, 968.4317350948111, 1244.6934281154615, 807.6210486690157, 724.6759742452751, 1364.185989453703, 628.2158469912309, 769.6873632890242, 698.9139505516896, 1285.7245856027087, 1050.1223738008737, 812.7540768661337, 815.2373545060401, 749.4032611732723, 720.0865877076963, 692.7859352447477, 678.4044305162809, 672.3956075531918, 3997.967157089667, 3029.594208510562, 2441.004729962785, 2219.401730965684, 1731.3655843985596, 1680.6394752397373, 1446.9086327218508, 1174.2401491121657, 1070.0581435596023, 1014.6930039533291, 811.672132941376, 678.267041217502, 586.86373548123, 558.7729979026228, 544.8705822555677, 540.1074019004685, 486.3347910530575, 474.22356559900624, 442.0165382857897, 412.5022312859127, 402.3209676730492, 378.4398345901453, 367.9615500117873, 356.21492386279135, 349.70422969462794, 340.1954312595012, 325.70318215290274, 313.26963094992067, 302.9139855458713, 299.3060036252354, 3684.7891143484526, 3045.310367441189, 1571.468272833536, 2335.5348242383134, 2434.077801782213, 2955.2307338841138, 999.7970653165163, 639.7049252700886, 974.8766556055733, 809.9141249270787, 2253.606676142984, 1264.963786709957, 833.503848339749, 891.6155551119617, 1012.8376075933973, 1090.8691427681067, 738.4750523625319, 711.5129404980416, 697.669767179799, 2325.0628089457855, 1720.3883459836527, 1483.0522631683739, 1345.8767754540204, 1018.3575651778649, 717.3128185220974, 658.0517207808358, 610.1747349580598, 584.1572519714055, 583.1229114950947, 564.1946766764269, 560.2239258649536, 506.6662461563488, 500.09426617542636, 477.3640954895012, 471.08752941734326, 450.6433883125369, 434.1807234247111, 418.5082613581577, 387.564364544666, 381.46697151382347, 372.9417188820044, 371.83592467676675, 369.25844811768746, 365.8452469819982, 352.64790486488914, 349.1575199891115, 345.064039194985, 340.9989880716208, 339.13742008653344, 1566.1910030614679, 459.8291838976818, 730.4370417788309, 889.6221390319524, 787.8045422418467, 3503.8792969349556, 776.1940703952594, 922.0238339414717, 461.9796521891023, 634.4962815643088, 512.5720266344656, 537.3564308089727, 706.8525117364077, 1058.5917445749014, 606.2120159571033, 666.0540976505654, 618.754422695912, 601.7115084727013, 693.4666179699711, 624.29896759859, 545.6565233868222, 548.4819576083808], \"Total\": [28457.0, 21851.0, 12848.0, 29922.0, 26616.0, 14017.0, 9540.0, 9282.0, 22907.0, 6758.0, 7602.0, 5855.0, 7546.0, 9161.0, 8320.0, 5497.0, 6047.0, 5344.0, 16424.0, 6858.0, 4765.0, 6795.0, 3998.0, 7465.0, 3937.0, 5221.0, 5073.0, 4325.0, 5357.0, 3402.0, 7546.735774535941, 5357.7570144009, 2664.8529948029964, 2478.1664056224995, 2135.323535708298, 1976.5697417408405, 1678.1912380194117, 1662.2966537640104, 1419.166173608682, 1176.8162003481614, 1125.3967324948273, 1107.0127218599803, 999.9314597066459, 869.9643222753475, 860.8302442621426, 846.008768137098, 833.9030721674235, 803.496064764386, 741.0611640534214, 729.5658817148164, 720.3823576616694, 657.9344314652018, 622.6775633837057, 615.1899777286438, 613.31678710069, 607.2590306497724, 602.0136278152735, 582.2606461543534, 547.5914244225745, 534.4226643444529, 3356.538873540492, 2180.616221529843, 29922.788991984497, 22907.275679610982, 7356.407690752753, 3830.129165865304, 9424.60655377994, 987.7174725163909, 42625.54253727834, 16544.816659955868, 30003.147245095384, 7277.043200121574, 14211.00107633352, 8577.064342533267, 7529.410200626111, 5522.111059274091, 3756.829743328959, 3488.5077438938806, 8319.70013667666, 16424.54708540988, 6765.05540764177, 7472.632784203146, 7602.103375136249, 14017.345823182703, 4456.950731341201, 9282.084597099669, 5221.390481274158, 3838.483074644524, 2220.9067827321323, 1524.5111976194846, 1440.579751036018, 1270.4456687694271, 1230.913553094784, 1148.2902031396652, 1046.528813903349, 849.3266102424499, 764.7374516739006, 759.5268779041835, 744.6876648850579, 740.5439395096191, 667.365036313634, 600.2610803971032, 593.432025835353, 576.5195559683597, 530.5227344986885, 525.3751803478073, 504.47008015234627, 489.8548269941812, 472.2819990385927, 440.5446041465429, 435.19888651489066, 426.1368523000646, 412.85642561652975, 412.6493517290881, 403.07903536901574, 21851.205810998777, 2316.3485689301565, 1398.9369570367405, 717.0297465639419, 1449.7969324704484, 5701.869223742994, 881.7247163273113, 4624.443545157001, 2103.417471635955, 7465.427807574532, 10606.165791591546, 16424.54708540988, 3536.9220931684918, 3638.903388750241, 4748.831749713069, 16544.816659955868, 1622.7431086647885, 14211.00107633352, 4056.66212435922, 3091.1204671488113, 26616.599958081486, 5073.100516948263, 30003.147245095384, 42625.54253727834, 9424.60655377994, 4617.720292011733, 6115.82041832984, 6493.934093487775, 7472.632784203146, 4024.7325256421586, 5994.275767807389, 6795.533441716528, 9540.953887107175, 6047.9608152906885, 3150.3456302800237, 2258.6442722410593, 2188.6441781186722, 2018.2835429672243, 1696.1477273025398, 1464.9120607595135, 1259.9937714969053, 1200.375535965877, 1193.2715224204248, 1110.2750949020578, 1050.0625656038628, 1006.5939106361636, 966.4071019804902, 818.4263166613019, 776.8087938168218, 761.1608793763211, 743.3153666772287, 677.1048293572973, 666.5727390335354, 629.0898941891097, 595.42708074364, 581.8179246857662, 546.9209223417583, 545.2872314801518, 539.7026505550868, 526.5184840611943, 524.1400413996787, 498.70732967542796, 1321.713448067162, 9161.606994306505, 5810.51282408469, 8320.686680454928, 1435.2016653641595, 1248.646383489263, 8577.064342533267, 2360.27370450714, 2400.2848154321928, 22907.275679610982, 5994.275767807389, 3835.355185774859, 29922.788991984497, 3671.213774167491, 42625.54253727834, 14211.00107633352, 26616.599958081486, 30003.147245095384, 16544.816659955868, 6115.82041832984, 7277.043200121574, 4024.713066594147, 6765.05540764177, 7472.632784203146, 8319.70013667666, 12848.567381426183, 5497.790875031243, 4325.209049191559, 3639.872360707929, 3299.306620693314, 2065.781387266462, 1366.5378281179003, 1316.7118151112318, 1197.7273055953412, 1105.3836946393055, 1077.520850549434, 1068.1251875361868, 986.1267973135502, 784.4790307012298, 636.6781289729425, 632.9854746901183, 534.1670295922381, 531.1717798793143, 481.7508888588454, 469.39517526211387, 464.87810345936924, 461.9156934976559, 427.1040321831012, 393.5002284955308, 338.36658123072385, 320.66107680032945, 313.9340006745108, 305.5026973625669, 301.57095604003393, 295.8032448415425, 6758.977014832364, 14017.345823182703, 1281.2431743728314, 3684.630830040945, 26616.599958081486, 4408.674326893574, 2928.5583810729227, 2227.0076918833897, 2384.824610677957, 30003.147245095384, 5347.022487227894, 6442.800705605325, 3393.5109278951977, 10606.165791591546, 42625.54253727834, 4748.831749713069, 4756.0880321956765, 5701.869223742994, 4924.525653551508, 8319.70013667666, 5382.764405344298, 4056.66212435922, 16544.816659955868, 28457.63384029117, 3569.947548225211, 3490.911034507079, 2486.316681575044, 2334.2989108093984, 2311.3940320866004, 2242.1977647561143, 2194.5156329913707, 1857.7353302107365, 1442.247402114283, 1421.5637934540066, 1390.4603627359952, 1341.7782166550955, 1162.3694190317844, 1159.6856373640826, 1142.9542525265472, 1110.0409859569775, 1071.498769597611, 1045.5927463466448, 979.5189402126338, 937.1660742983124, 665.1730006537122, 530.1201779176657, 519.3178741419002, 517.6011375962465, 481.65400046240376, 468.2095753467036, 450.5360050380894, 449.3748583294113, 449.05163341058613, 6858.816278373817, 3993.916237084588, 3027.958018188923, 2882.834354925164, 2620.5769059628324, 1110.6357792289657, 2885.2701722110883, 1216.1451254802025, 29922.788991984497, 42625.54253727834, 22907.275679610982, 30003.147245095384, 3500.0018689864314, 9424.60655377994, 7356.407690752753, 16424.54708540988, 5855.9856989916, 4765.87036764926, 3220.9797516503036, 3023.578727496237, 2664.851920895584, 2162.553053020067, 2057.894063519308, 2004.1551683848902, 1562.7032993013447, 1484.5593693258852, 1315.1041396155213, 1296.9755569328681, 1169.5619011401527, 1149.6420022639284, 1106.7614694681777, 1052.09602762399, 1030.8057862000603, 1010.2084126900743, 953.0122698159631, 758.4658244270529, 736.9830532584467, 719.1391676305752, 574.1017362725527, 570.092178368997, 550.4249676333446, 542.1688871183032, 506.91617592724526, 472.812359239686, 452.6271501366459, 413.77154225007956, 3880.470713908844, 7602.103375136249, 6795.533441716528, 6442.800705605325, 4540.549132200382, 5140.742537973609, 4024.713066594147, 4483.400343091769, 4978.42168152237, 2787.4553241920944, 42625.54253727834, 26616.599958081486, 30003.147245095384, 21851.205810998777, 3349.381610063158, 3207.009545704082, 3616.2407595402738, 8320.686680454928, 3937.548200954273, 2796.5383201299996, 1984.8562533705926, 1504.8390209516422, 1466.676877744736, 1381.0771182446479, 1223.555891016542, 1148.3957568395897, 939.7181502335953, 895.5376099159574, 888.6866456199391, 884.8049119864188, 881.1212030719867, 816.182163474429, 811.0514957617735, 800.5753951570435, 776.6361028347192, 709.1183313875658, 698.3693871003697, 658.9533428440452, 625.3392073738104, 613.3100780291076, 580.1196937069243, 550.4161328298729, 494.800231235784, 472.33858665130447, 467.3210203802214, 447.992515422674, 436.0231367161956, 435.6337365963128, 3165.7838642180673, 1268.2249088682627, 1230.8209039254325, 2187.251599540538, 2479.8005050805923, 1995.2773302858745, 929.2546570795696, 3616.2407595402738, 29922.788991984497, 42625.54253727834, 6493.934093487775, 6115.82041832984, 22907.275679610982, 5994.275767807389, 7277.043200121574, 26616.599958081486, 4976.093335788449, 3402.7198280526113, 3318.7228334364345, 1473.7914586742359, 1427.336426239951, 1422.4374514029807, 970.7155818565207, 917.7127173554474, 708.180308600304, 630.5191927142105, 617.0472256516226, 601.3854902208675, 589.8006549932157, 572.9806699985104, 516.7098688305648, 478.45207352638846, 436.70819989129194, 420.60359993631334, 419.82219224800247, 418.23046365644694, 417.1475054583954, 412.6026994497822, 407.37034961776254, 402.75676787882236, 398.1478797094508, 397.7186851428123, 367.98802533129583, 357.46912371131623, 356.1590113428978, 348.03184182697254, 345.1556311455714, 1357.156427711286, 523.4575986592205, 2490.562768201181, 16424.54708540988, 2502.218688575802, 4024.7325256421586, 3207.009545704082, 3318.4454773001817, 6493.934093487775, 2227.0076918833897, 1842.95462554449, 10606.165791591546, 1556.2876104884717, 3734.3608582724155, 2629.7193986955945, 30003.147245095384, 14211.00107633352, 7277.043200121574, 7472.632784203146, 5382.764405344298, 5374.450550983937, 3671.213774167491, 3171.6354192709255, 3756.829743328959, 3998.861389404146, 3030.4884130630917, 2441.8989121569266, 2220.2959384934143, 1732.259875791076, 1681.5336900730906, 1447.8028682671736, 1175.134370626806, 1070.952363817028, 1015.5873549503464, 812.5664142070949, 679.1613851733099, 587.7581379025753, 559.6672903339386, 545.7648292881076, 541.0016011721732, 487.2291012119566, 475.1177777174188, 442.9108666679724, 413.3965109768177, 403.21530497866615, 379.33410766410657, 368.85572786773713, 357.1092027774871, 350.5985551153707, 341.0896896041661, 326.5975551021159, 314.1639253093685, 303.80822680639716, 300.2003066572354, 5344.597483269334, 5073.100516948263, 2360.1853175125057, 4617.720292011733, 4924.525653551508, 7465.427807574532, 1662.7452686145098, 879.8384053669743, 1962.4523600726106, 1708.47148332407, 16424.54708540988, 5382.764405344298, 2362.403152513767, 3041.381615790592, 4756.0880321956765, 30003.147245095384, 3677.3189506002436, 3171.6354192709255, 5374.450550983937, 2325.964631009185, 1721.2901419620177, 1483.953979148358, 1346.7785850661992, 1019.2593704062516, 718.2145693275421, 658.9535482495744, 611.076570567771, 585.0591198062253, 584.0248194845414, 565.0965738064488, 561.1256830278764, 507.56813441831014, 500.996128787978, 478.2659717117496, 471.9893865986826, 451.54521720170777, 435.0824541945758, 419.41014334376683, 388.46621254377874, 382.36883815914643, 373.84358872375844, 372.7377890333499, 370.16029766131305, 366.7470941397128, 353.5497373394527, 350.05920922680326, 345.96590846987635, 341.90084797435844, 340.03921534024175, 2324.9118572044963, 506.28170680316873, 1171.0543647364711, 1720.435061178544, 1465.7618933871508, 26616.599958081486, 1588.122271352693, 2362.403152513767, 583.7563750027357, 1154.8106365929823, 759.4986311450318, 1043.1534769965037, 3091.1204671488113, 16424.54708540988, 3638.903388750241, 7277.043200121574, 4265.93824997051, 3734.368066566598, 30003.147245095384, 9161.606994306505, 2384.8162597209634, 3488.5077438938806], \"Category\": [\"Default\", \"Default\", \"Default\", \"Default\", \"Default\", \"Default\", \"Default\", \"Default\", \"Default\", \"Default\", \"Default\", \"Default\", \"Default\", \"Default\", \"Default\", \"Default\", \"Default\", \"Default\", \"Default\", \"Default\", \"Default\", \"Default\", \"Default\", \"Default\", \"Default\", \"Default\", \"Default\", \"Default\", \"Default\", \"Default\", \"Topic1\", \"Topic1\", \"Topic1\", \"Topic1\", \"Topic1\", \"Topic1\", \"Topic1\", \"Topic1\", \"Topic1\", \"Topic1\", \"Topic1\", \"Topic1\", \"Topic1\", \"Topic1\", \"Topic1\", \"Topic1\", \"Topic1\", \"Topic1\", \"Topic1\", \"Topic1\", \"Topic1\", \"Topic1\", \"Topic1\", \"Topic1\", \"Topic1\", \"Topic1\", \"Topic1\", \"Topic1\", \"Topic1\", \"Topic1\", \"Topic1\", \"Topic1\", \"Topic1\", \"Topic1\", \"Topic1\", \"Topic1\", \"Topic1\", \"Topic1\", \"Topic1\", \"Topic1\", \"Topic1\", \"Topic1\", \"Topic1\", \"Topic1\", \"Topic1\", \"Topic1\", \"Topic1\", \"Topic1\", \"Topic1\", \"Topic1\", \"Topic1\", \"Topic1\", \"Topic1\", \"Topic1\", \"Topic1\", \"Topic2\", \"Topic2\", \"Topic2\", \"Topic2\", \"Topic2\", \"Topic2\", \"Topic2\", \"Topic2\", \"Topic2\", \"Topic2\", \"Topic2\", \"Topic2\", \"Topic2\", \"Topic2\", \"Topic2\", \"Topic2\", \"Topic2\", \"Topic2\", \"Topic2\", \"Topic2\", \"Topic2\", \"Topic2\", \"Topic2\", \"Topic2\", \"Topic2\", \"Topic2\", \"Topic2\", \"Topic2\", \"Topic2\", \"Topic2\", \"Topic2\", \"Topic2\", \"Topic2\", \"Topic2\", \"Topic2\", \"Topic2\", \"Topic2\", \"Topic2\", \"Topic2\", \"Topic2\", \"Topic2\", \"Topic2\", \"Topic2\", \"Topic2\", \"Topic2\", \"Topic2\", \"Topic2\", \"Topic2\", \"Topic2\", \"Topic2\", \"Topic2\", \"Topic2\", \"Topic2\", \"Topic2\", \"Topic2\", \"Topic2\", \"Topic2\", \"Topic2\", \"Topic2\", \"Topic2\", \"Topic2\", \"Topic2\", \"Topic3\", \"Topic3\", \"Topic3\", \"Topic3\", \"Topic3\", \"Topic3\", \"Topic3\", \"Topic3\", \"Topic3\", \"Topic3\", \"Topic3\", \"Topic3\", \"Topic3\", \"Topic3\", \"Topic3\", \"Topic3\", \"Topic3\", \"Topic3\", \"Topic3\", \"Topic3\", \"Topic3\", \"Topic3\", \"Topic3\", \"Topic3\", \"Topic3\", \"Topic3\", \"Topic3\", \"Topic3\", \"Topic3\", \"Topic3\", \"Topic3\", \"Topic3\", \"Topic3\", \"Topic3\", \"Topic3\", \"Topic3\", \"Topic3\", \"Topic3\", \"Topic3\", \"Topic3\", \"Topic3\", \"Topic3\", \"Topic3\", \"Topic3\", \"Topic3\", \"Topic3\", \"Topic3\", \"Topic3\", \"Topic3\", \"Topic3\", \"Topic3\", \"Topic3\", \"Topic3\", \"Topic3\", \"Topic3\", \"Topic4\", \"Topic4\", \"Topic4\", \"Topic4\", \"Topic4\", \"Topic4\", \"Topic4\", \"Topic4\", \"Topic4\", \"Topic4\", \"Topic4\", \"Topic4\", \"Topic4\", \"Topic4\", \"Topic4\", \"Topic4\", \"Topic4\", \"Topic4\", \"Topic4\", \"Topic4\", \"Topic4\", \"Topic4\", \"Topic4\", \"Topic4\", \"Topic4\", \"Topic4\", \"Topic4\", \"Topic4\", \"Topic4\", \"Topic4\", \"Topic4\", \"Topic4\", \"Topic4\", \"Topic4\", \"Topic4\", \"Topic4\", \"Topic4\", \"Topic4\", \"Topic4\", \"Topic4\", \"Topic4\", \"Topic4\", \"Topic4\", \"Topic4\", \"Topic4\", \"Topic4\", \"Topic4\", \"Topic4\", \"Topic4\", \"Topic4\", \"Topic4\", \"Topic4\", \"Topic4\", \"Topic5\", \"Topic5\", \"Topic5\", \"Topic5\", \"Topic5\", \"Topic5\", \"Topic5\", \"Topic5\", \"Topic5\", \"Topic5\", \"Topic5\", \"Topic5\", \"Topic5\", \"Topic5\", \"Topic5\", \"Topic5\", \"Topic5\", \"Topic5\", \"Topic5\", \"Topic5\", \"Topic5\", \"Topic5\", \"Topic5\", \"Topic5\", \"Topic5\", \"Topic5\", \"Topic5\", \"Topic5\", \"Topic5\", \"Topic5\", \"Topic5\", \"Topic5\", \"Topic5\", \"Topic5\", \"Topic5\", \"Topic5\", \"Topic5\", \"Topic5\", \"Topic5\", \"Topic5\", \"Topic5\", \"Topic5\", \"Topic5\", \"Topic5\", \"Topic5\", \"Topic5\", \"Topic6\", \"Topic6\", \"Topic6\", \"Topic6\", \"Topic6\", \"Topic6\", \"Topic6\", \"Topic6\", \"Topic6\", \"Topic6\", \"Topic6\", \"Topic6\", \"Topic6\", \"Topic6\", \"Topic6\", \"Topic6\", \"Topic6\", \"Topic6\", \"Topic6\", \"Topic6\", \"Topic6\", \"Topic6\", \"Topic6\", \"Topic6\", \"Topic6\", \"Topic6\", \"Topic6\", \"Topic6\", \"Topic6\", \"Topic6\", \"Topic6\", \"Topic6\", \"Topic6\", \"Topic6\", \"Topic6\", \"Topic6\", \"Topic6\", \"Topic6\", \"Topic6\", \"Topic6\", \"Topic6\", \"Topic6\", \"Topic6\", \"Topic6\", \"Topic6\", \"Topic6\", \"Topic6\", \"Topic6\", \"Topic7\", \"Topic7\", \"Topic7\", \"Topic7\", \"Topic7\", \"Topic7\", \"Topic7\", \"Topic7\", \"Topic7\", \"Topic7\", \"Topic7\", \"Topic7\", \"Topic7\", \"Topic7\", \"Topic7\", \"Topic7\", \"Topic7\", \"Topic7\", \"Topic7\", \"Topic7\", \"Topic7\", \"Topic7\", \"Topic7\", \"Topic7\", \"Topic7\", \"Topic7\", \"Topic7\", \"Topic7\", \"Topic7\", \"Topic7\", \"Topic7\", \"Topic7\", \"Topic7\", \"Topic7\", \"Topic7\", \"Topic7\", \"Topic7\", \"Topic7\", \"Topic7\", \"Topic7\", \"Topic7\", \"Topic7\", \"Topic7\", \"Topic7\", \"Topic7\", \"Topic7\", \"Topic7\", \"Topic8\", \"Topic8\", \"Topic8\", \"Topic8\", \"Topic8\", \"Topic8\", \"Topic8\", \"Topic8\", \"Topic8\", \"Topic8\", \"Topic8\", \"Topic8\", \"Topic8\", \"Topic8\", \"Topic8\", \"Topic8\", \"Topic8\", \"Topic8\", \"Topic8\", \"Topic8\", \"Topic8\", \"Topic8\", \"Topic8\", \"Topic8\", \"Topic8\", \"Topic8\", \"Topic8\", \"Topic8\", \"Topic8\", \"Topic8\", \"Topic8\", \"Topic8\", \"Topic8\", \"Topic8\", \"Topic8\", \"Topic8\", \"Topic8\", \"Topic8\", \"Topic8\", \"Topic8\", \"Topic8\", \"Topic8\", \"Topic8\", \"Topic8\", \"Topic8\", \"Topic8\", \"Topic8\", \"Topic8\", \"Topic8\", \"Topic8\", \"Topic8\", \"Topic8\", \"Topic8\", \"Topic8\", \"Topic9\", \"Topic9\", \"Topic9\", \"Topic9\", \"Topic9\", \"Topic9\", \"Topic9\", \"Topic9\", \"Topic9\", \"Topic9\", \"Topic9\", \"Topic9\", \"Topic9\", \"Topic9\", \"Topic9\", \"Topic9\", \"Topic9\", \"Topic9\", \"Topic9\", \"Topic9\", \"Topic9\", \"Topic9\", \"Topic9\", \"Topic9\", \"Topic9\", \"Topic9\", \"Topic9\", \"Topic9\", \"Topic9\", \"Topic9\", \"Topic9\", \"Topic9\", \"Topic9\", \"Topic9\", \"Topic9\", \"Topic9\", \"Topic9\", \"Topic9\", \"Topic9\", \"Topic9\", \"Topic9\", \"Topic9\", \"Topic9\", \"Topic9\", \"Topic9\", \"Topic9\", \"Topic9\", \"Topic9\", \"Topic9\", \"Topic10\", \"Topic10\", \"Topic10\", \"Topic10\", \"Topic10\", \"Topic10\", \"Topic10\", \"Topic10\", \"Topic10\", \"Topic10\", \"Topic10\", \"Topic10\", \"Topic10\", \"Topic10\", \"Topic10\", \"Topic10\", \"Topic10\", \"Topic10\", \"Topic10\", \"Topic10\", \"Topic10\", \"Topic10\", \"Topic10\", \"Topic10\", \"Topic10\", \"Topic10\", \"Topic10\", \"Topic10\", \"Topic10\", \"Topic10\", \"Topic10\", \"Topic10\", \"Topic10\", \"Topic10\", \"Topic10\", \"Topic10\", \"Topic10\", \"Topic10\", \"Topic10\", \"Topic10\", \"Topic10\", \"Topic10\", \"Topic10\", \"Topic10\", \"Topic10\", \"Topic10\", \"Topic10\", \"Topic10\", \"Topic10\", \"Topic10\", \"Topic10\", \"Topic10\"], \"logprob\": [30.0, 29.0, 28.0, 27.0, 26.0, 25.0, 24.0, 23.0, 22.0, 21.0, 20.0, 19.0, 18.0, 17.0, 16.0, 15.0, 14.0, 13.0, 12.0, 11.0, 10.0, 9.0, 8.0, 7.0, 6.0, 5.0, 4.0, 3.0, 2.0, 1.0, -3.6884, -4.031, -4.7295, -4.8022, -4.9512, -5.0284, -5.1922, -5.2017, -5.3599, -5.5473, -5.592, -5.6085, -5.7103, -5.8497, -5.8603, -5.8777, -5.8921, -5.9293, -6.0103, -6.0259, -6.0386, -6.1294, -6.1845, -6.1967, -6.1997, -6.2096, -6.2183, -6.2517, -6.3132, -6.3376, -4.7099, -5.1081, -3.0002, -3.4432, -4.3598, -4.8569, -4.2266, -5.8517, -3.1915, -4.0543, -3.756, -4.6395, -4.2529, -4.6179, -4.7222, -4.9401, -5.1495, -5.2126, -4.8425, -4.694, -5.0767, -5.0647, -5.0708, -5.1206, -5.1993, -3.3615, -3.9369, -4.2447, -4.792, -5.1684, -5.2251, -5.3509, -5.3825, -5.452, -5.5449, -5.7539, -5.8589, -5.8658, -5.8855, -5.8911, -5.9953, -6.1014, -6.1129, -6.1418, -6.2251, -6.2349, -6.2756, -6.305, -6.3416, -6.4113, -6.4236, -6.4446, -6.4764, -6.4769, -6.5004, -2.6758, -4.8668, -5.3712, -5.9903, -5.4088, -4.3721, -5.8573, -4.5957, -5.2283, -4.3991, -4.181, -3.8938, -4.9338, -4.9226, -4.7718, -4.0876, -5.4985, -4.4024, -5.0505, -5.1993, -4.2387, -5.0252, -4.3094, -4.2071, -4.8263, -5.0669, -5.0023, -4.9978, -5.0027, -5.1626, -5.1305, -5.1737, -3.3032, -3.7592, -4.4115, -4.7444, -4.7759, -4.8569, -5.0309, -5.1776, -5.3284, -5.3769, -5.3828, -5.4549, -5.5108, -5.5531, -5.5938, -5.7602, -5.8125, -5.8328, -5.8566, -5.95, -5.9657, -6.0237, -6.0787, -6.1019, -6.1638, -6.1668, -6.1772, -6.2019, -6.2065, -6.2563, -5.3013, -3.4782, -3.939, -3.6053, -5.3458, -5.4752, -3.9403, -4.9769, -5.006, -3.3534, -4.363, -4.685, -3.6166, -4.8837, -3.6216, -4.4354, -4.2759, -4.3084, -4.5328, -4.9155, -4.8639, -5.0706, -5.0579, -5.1611, -5.18, -2.6988, -3.5477, -3.7877, -3.9602, -4.0585, -4.5269, -4.9403, -4.9775, -5.0723, -5.1526, -5.1781, -5.1869, -5.2668, -5.4958, -5.7048, -5.7107, -5.8807, -5.8863, -5.9841, -6.0102, -6.0199, -6.0263, -6.1048, -6.1869, -6.3382, -6.3921, -6.4134, -6.4407, -6.4537, -6.4731, -3.3745, -2.9232, -5.2586, -4.418, -2.8877, -4.3777, -4.7201, -5.0202, -5.0006, -3.4932, -4.5386, -4.4443, -4.8387, -4.2725, -3.7019, -4.8135, -4.8199, -4.8174, -4.8948, -4.7756, -4.9469, -5.04, -5.0113, -1.8762, -3.9523, -3.9747, -4.3142, -4.3773, -4.3872, -4.4176, -4.4391, -4.6057, -4.859, -4.8735, -4.8956, -4.9313, -5.0749, -5.0772, -5.0918, -5.121, -5.1564, -5.1809, -5.2462, -5.2905, -5.6337, -5.861, -5.8816, -5.8849, -5.957, -5.9854, -6.0239, -6.0265, -6.0272, -3.5804, -4.1239, -4.4497, -4.5159, -4.5957, -5.309, -4.6209, -5.3496, -3.625, -3.5504, -4.2641, -4.2408, -5.0245, -4.9382, -4.9987, -4.9449, -3.4107, -3.6167, -4.0086, -4.0719, -4.1982, -4.4071, -4.4568, -4.4832, -4.7322, -4.7835, -4.9048, -4.9187, -5.0222, -5.0394, -5.0774, -5.1281, -5.1486, -5.1688, -5.2271, -5.4557, -5.4844, -5.509, -5.7346, -5.7416, -5.7767, -5.7919, -5.8592, -5.929, -5.9727, -6.0627, -3.9961, -3.4362, -3.6021, -4.0411, -4.3994, -4.3412, -4.5753, -4.5301, -4.4849, -4.8213, -3.4986, -3.7637, -3.7166, -3.9466, -4.7475, -4.8772, -4.9486, -4.9416, -3.4721, -3.8144, -4.1573, -4.4343, -4.46, -4.5202, -4.6414, -4.7049, -4.9056, -4.9538, -4.9615, -4.9658, -4.97, -5.0467, -5.053, -5.066, -5.0964, -5.1874, -5.2027, -5.2609, -5.3133, -5.3328, -5.3885, -5.4412, -5.5479, -5.5944, -5.6051, -5.6474, -5.6746, -5.6755, -4.001, -4.8195, -4.8531, -4.4398, -4.4084, -4.7277, -5.1885, -4.6145, -3.7501, -3.6886, -4.4538, -4.5555, -4.3862, -4.7424, -4.9711, -4.9553, -5.051, -3.5764, -3.6014, -4.4135, -4.4455, -4.449, -4.8314, -4.8876, -5.1471, -5.2634, -5.285, -5.3108, -5.3302, -5.3592, -5.4628, -5.5398, -5.6313, -5.6689, -5.6708, -5.6746, -5.6772, -5.6882, -5.701, -5.7124, -5.7239, -5.725, -5.8029, -5.832, -5.8357, -5.8588, -5.8671, -4.9458, -5.6076, -4.6999, -3.6224, -4.8259, -4.6008, -4.7228, -4.8328, -4.5818, -5.0144, -5.1228, -4.4902, -5.2656, -5.0625, -5.1589, -4.5494, -4.7518, -5.008, -5.005, -5.0892, -5.1291, -5.1678, -5.1887, -5.1976, -3.3667, -3.644, -3.86, -3.9552, -4.2035, -4.2333, -4.383, -4.5918, -4.6847, -4.7379, -4.9611, -5.1407, -5.2854, -5.3345, -5.3596, -5.3684, -5.4733, -5.4985, -5.5689, -5.638, -5.6629, -5.7241, -5.7522, -5.7847, -5.8031, -5.8307, -5.8742, -5.9131, -5.9467, -5.9587, -3.4482, -3.6388, -4.3004, -3.9042, -3.8629, -3.6689, -4.7526, -5.1992, -4.7779, -4.9633, -3.9399, -4.5174, -4.9346, -4.8672, -4.7397, -4.6655, -5.0556, -5.0928, -5.1125, -3.8118, -4.113, -4.2615, -4.3585, -4.6374, -4.9878, -5.0741, -5.1496, -5.1932, -5.195, -5.228, -5.235, -5.3355, -5.3486, -5.3951, -5.4083, -5.4527, -5.4899, -5.5267, -5.6035, -5.6193, -5.6419, -5.6449, -5.6519, -5.6611, -5.6979, -5.7078, -5.7196, -5.7315, -5.7369, -4.2069, -5.4325, -4.9697, -4.7726, -4.8941, -3.4017, -4.9089, -4.7368, -5.4278, -5.1105, -5.3239, -5.2767, -5.0025, -4.5987, -5.1561, -5.062, -5.1356, -5.1636, -5.0216, -5.1267, -5.2614, -5.2562], \"loglift\": [30.0, 29.0, 28.0, 27.0, 26.0, 25.0, 24.0, 23.0, 22.0, 21.0, 20.0, 19.0, 18.0, 17.0, 16.0, 15.0, 14.0, 13.0, 12.0, 11.0, 10.0, 9.0, 8.0, 7.0, 6.0, 5.0, 4.0, 3.0, 2.0, 1.0, 1.8147, 1.8146, 1.8145, 1.8144, 1.8144, 1.8143, 1.8143, 1.8143, 1.8142, 1.814, 1.814, 1.814, 1.8139, 1.8138, 1.8137, 1.8137, 1.8137, 1.8137, 1.8136, 1.8136, 1.8135, 1.8134, 1.8133, 1.8133, 1.8133, 1.8133, 1.8133, 1.8132, 1.8131, 1.8131, 1.6033, 1.6364, 1.1253, 0.9495, 1.1688, 1.3243, 1.0542, 1.6849, 0.5802, 0.6638, 0.3669, 0.9, 0.6172, 0.7571, 0.7832, 0.8753, 1.0511, 1.0621, 0.563, 0.0313, 0.5357, 0.4482, 0.425, -0.2367, 0.8304, 1.9345, 1.9345, 1.9344, 1.9342, 1.934, 1.934, 1.9339, 1.9339, 1.9338, 1.9338, 1.9336, 1.9334, 1.9334, 1.9334, 1.9334, 1.9333, 1.9331, 1.9331, 1.9331, 1.9329, 1.9329, 1.9328, 1.9328, 1.9327, 1.9326, 1.9325, 1.9325, 1.9324, 1.9324, 1.9324, 1.7641, 1.8173, 1.8172, 1.8665, 1.7439, 1.4113, 1.7927, 1.3971, 1.5523, 1.1147, 0.9817, 0.8316, 1.3271, 1.3099, 1.1945, 0.6305, 1.5416, 0.4677, 1.0733, 1.1963, 0.004, 0.875, -0.1866, -0.4354, 0.4545, 0.9273, 0.711, 0.6555, 0.5102, 0.9691, 0.6028, 0.4342, 1.9653, 1.9653, 1.9651, 1.965, 1.965, 1.965, 1.9649, 1.9648, 1.9647, 1.9647, 1.9647, 1.9646, 1.9646, 1.9645, 1.9645, 1.9643, 1.9642, 1.9642, 1.9642, 1.9641, 1.9641, 1.964, 1.9639, 1.9639, 1.9638, 1.9638, 1.9637, 1.9637, 1.9637, 1.9636, 1.944, 1.831, 1.8255, 1.8001, 1.8171, 1.8269, 1.4348, 1.6885, 1.6426, 1.0393, 1.3703, 1.4949, 0.5089, 1.34, 0.1501, 0.4347, -0.0332, -0.1855, 0.1852, 0.7977, 0.6755, 1.0611, 0.5545, 0.3518, 0.2255, 2.2722, 2.2721, 2.272, 2.272, 2.272, 2.2718, 2.2716, 2.2715, 2.2715, 2.2714, 2.2714, 2.2714, 2.2713, 2.2711, 2.2708, 2.2708, 2.2705, 2.2705, 2.2703, 2.2703, 2.2703, 2.2703, 2.2701, 2.2699, 2.2695, 2.2694, 2.2693, 2.2693, 2.2692, 2.2692, 2.2388, 1.9607, 2.0177, 1.802, 1.3549, 1.6629, 1.7296, 1.7033, 1.6544, 0.6297, 1.3091, 1.2169, 1.4635, 0.8902, 0.0698, 1.1528, 1.1449, 0.966, 1.0352, 0.63, 0.8941, 1.0838, -0.2932, 2.2995, 2.2993, 2.2993, 2.2992, 2.2992, 2.2992, 2.2991, 2.2991, 2.2991, 2.2989, 2.2989, 2.2989, 2.2989, 2.2988, 2.2988, 2.2988, 2.2987, 2.2987, 2.2987, 2.2986, 2.2986, 2.2982, 2.2978, 2.2978, 2.2978, 2.2977, 2.2976, 2.2975, 2.2975, 2.2975, 2.0182, 2.0154, 1.9666, 1.9495, 1.9651, 2.1102, 1.8436, 1.9789, 0.5005, 0.2213, 0.1286, -0.1179, 1.2469, 0.3426, 0.5299, -0.2195, 2.346, 2.346, 2.3459, 2.3458, 2.3458, 2.3457, 2.3457, 2.3457, 2.3456, 2.3455, 2.3454, 2.3454, 2.3454, 2.3453, 2.3453, 2.3453, 2.3453, 2.3452, 2.3452, 2.3449, 2.3449, 2.3449, 2.3445, 2.3445, 2.3445, 2.3445, 2.3443, 2.3442, 2.3441, 2.3439, 2.1721, 2.0595, 2.0058, 1.6201, 1.6117, 1.5458, 1.5564, 1.4937, 1.4341, 1.6777, 0.2731, 0.479, 0.4063, 0.4933, 1.5679, 1.4816, 1.2901, 0.4638, 2.6815, 2.6814, 2.6813, 2.6811, 2.6811, 2.6811, 2.681, 2.6809, 2.6808, 2.6807, 2.6807, 2.6807, 2.6807, 2.6806, 2.6806, 2.6806, 2.6806, 2.6804, 2.6804, 2.6803, 2.6803, 2.6802, 2.6802, 2.6801, 2.6799, 2.6798, 2.6798, 2.6797, 2.6796, 2.6796, 2.3708, 2.4671, 2.4633, 2.3017, 2.2075, 2.1057, 2.409, 1.6242, 0.3754, 0.0831, 1.1995, 1.1578, 0.0065, 0.9909, 0.5683, -0.7127, 0.8685, 2.7232, 2.7232, 2.7228, 2.7228, 2.7228, 2.7225, 2.7224, 2.7221, 2.722, 2.722, 2.7219, 2.7219, 2.7218, 2.7217, 2.7215, 2.7214, 2.7213, 2.7213, 2.7213, 2.7213, 2.7212, 2.7212, 2.7212, 2.7211, 2.7211, 2.721, 2.7209, 2.7209, 2.7208, 2.7208, 2.2729, 2.5638, 1.9118, 1.103, 1.781, 1.5309, 1.636, 1.4919, 1.0715, 1.7091, 1.79, 0.6726, 1.8163, 1.1441, 1.3983, -0.4265, 0.1183, 0.5314, 0.5079, 0.7518, 0.7134, 1.0559, 1.1812, 1.0029, 2.7715, 2.7714, 2.7713, 2.7713, 2.7712, 2.7712, 2.7711, 2.7709, 2.7709, 2.7708, 2.7706, 2.7704, 2.7702, 2.7701, 2.7701, 2.7701, 2.7699, 2.7698, 2.7697, 2.7695, 2.7695, 2.7694, 2.7693, 2.7692, 2.7692, 2.7691, 2.769, 2.7689, 2.7688, 2.7687, 2.3998, 2.2614, 2.365, 2.0901, 2.0671, 1.845, 2.263, 2.453, 2.0721, 2.0253, 0.7855, 1.3236, 1.7299, 1.5447, 1.225, -0.5426, 1.1664, 1.2771, 0.73, 2.8682, 2.868, 2.8679, 2.8679, 2.8677, 2.8673, 2.8672, 2.8671, 2.867, 2.867, 2.867, 2.8669, 2.8668, 2.8668, 2.8667, 2.8666, 2.8666, 2.8665, 2.8664, 2.8662, 2.8662, 2.8661, 2.8661, 2.8661, 2.8661, 2.866, 2.866, 2.8659, 2.8659, 2.8659, 2.4735, 2.7723, 2.3965, 2.209, 2.2477, 0.8409, 2.1527, 1.9277, 2.6346, 2.2697, 2.4753, 2.2052, 1.3931, 0.1267, 1.0763, 0.4774, 0.9378, 1.043, -0.8988, 0.1824, 1.3937, 1.0185]}, \"token.table\": {\"Topic\": [1, 3, 4, 5, 8, 10, 8, 2, 4, 2, 9, 2, 10, 10, 3, 8, 4, 1, 2, 3, 6, 9, 3, 8, 2, 10, 1, 5, 3, 6, 4, 1, 2, 3, 4, 5, 7, 5, 2, 1, 9, 10, 7, 8, 6, 7, 5, 8, 7, 10, 3, 3, 2, 2, 9, 1, 3, 5, 3, 1, 5, 8, 5, 3, 1, 3, 5, 2, 10, 10, 2, 2, 3, 4, 10, 5, 8, 9, 1, 2, 3, 4, 5, 7, 3, 3, 5, 8, 3, 5, 5, 5, 4, 4, 2, 9, 9, 6, 1, 3, 6, 2, 8, 5, 7, 10, 1, 2, 4, 9, 2, 8, 2, 1, 2, 3, 4, 7, 1, 7, 5, 2, 7, 2, 6, 7, 1, 3, 3, 2, 10, 2, 3, 10, 5, 1, 1, 3, 8, 10, 1, 8, 1, 2, 4, 5, 6, 10, 10, 7, 2, 7, 10, 6, 3, 6, 9, 10, 2, 5, 7, 3, 6, 7, 1, 6, 4, 5, 4, 10, 3, 9, 2, 4, 10, 3, 3, 5, 6, 7, 8, 4, 9, 8, 4, 2, 3, 6, 7, 1, 2, 3, 4, 5, 7, 10, 8, 2, 6, 2, 4, 4, 3, 5, 3, 6, 9, 2, 10, 2, 3, 5, 7, 8, 9, 2, 6, 9, 2, 3, 1, 10, 5, 4, 5, 6, 1, 2, 3, 5, 9, 9, 1, 3, 6, 8, 1, 2, 3, 5, 7, 9, 2, 1, 8, 2, 5, 2, 3, 6, 8, 1, 2, 3, 4, 5, 6, 7, 8, 9, 7, 1, 3, 5, 7, 7, 9, 10, 6, 8, 2, 6, 2, 3, 4, 6, 5, 1, 3, 4, 5, 8, 9, 10, 1, 2, 3, 7, 8, 9, 8, 3, 6, 8, 3, 1, 2, 3, 4, 5, 6, 8, 10, 9, 1, 2, 4, 8, 9, 8, 2, 10, 9, 1, 2, 3, 4, 5, 6, 7, 9, 10, 6, 3, 5, 1, 2, 3, 4, 5, 6, 8, 9, 10, 1, 5, 2, 5, 4, 5, 8, 9, 10, 8, 2, 3, 4, 5, 8, 10, 1, 2, 6, 7, 8, 9, 2, 3, 6, 10, 1, 2, 6, 7, 10, 2, 1, 1, 2, 3, 4, 5, 6, 1, 7, 9, 10, 6, 3, 2, 3, 8, 10, 8, 9, 10, 6, 5, 3, 10, 2, 4, 5, 6, 8, 4, 9, 3, 5, 9, 1, 1, 3, 6, 8, 2, 4, 5, 9, 1, 2, 4, 5, 8, 7, 1, 3, 5, 10, 6, 7, 10, 6, 10, 1, 2, 3, 5, 6, 8, 9, 10, 8, 4, 1, 2, 5, 8, 10, 1, 2, 3, 4, 5, 6, 7, 8, 4, 5, 8, 5, 9, 5, 1, 2, 3, 5, 6, 9, 10, 6, 9, 7, 2, 5, 8, 8, 9, 3, 10, 1, 2, 7, 8, 10, 8, 2, 4, 8, 10, 2, 5, 10, 2, 10, 5, 2, 1, 2, 3, 4, 5, 6, 7, 8, 10, 8, 2, 3, 6, 1, 3, 7, 8, 10, 2, 5, 8, 10, 7, 6, 6, 2, 8, 4, 2, 4, 5, 7, 8, 9, 1, 4, 5, 10, 5, 6, 7, 8, 3, 9, 3, 1, 3, 4, 5, 9, 4, 6, 7, 9, 2, 3, 8, 9, 10, 3, 7, 6, 10, 6, 9, 8, 7, 2, 3, 7, 8, 1, 8, 2, 9, 8, 4, 6, 10, 7, 1, 9, 5, 9, 7, 1, 2, 9, 1, 3, 1, 1, 2, 4, 5, 3, 10, 2, 4, 5, 6, 8, 9, 10, 2, 3, 4, 6, 7, 9, 10, 5, 6, 1, 1, 2, 3, 8, 9, 10, 3, 10, 1, 2, 4, 5, 6, 6, 3, 6, 7, 7, 2, 3, 9, 10, 9, 6, 1, 5, 1, 2, 3, 4, 5, 6, 8, 10, 5, 1, 7, 1, 1, 4, 6, 7, 4, 7, 10, 7, 10, 10, 8, 9, 4, 4, 1, 4, 5, 6, 7, 8, 9, 10, 7, 9, 4, 4, 4, 2, 3, 9, 3, 6, 8, 2, 2, 3, 8, 9, 5, 7, 1, 6, 3, 6, 6, 7, 1, 7, 1, 8, 8, 9, 5, 1, 7, 1, 4, 2, 5, 8, 4, 7, 1, 3, 5, 1, 2, 3, 5, 7, 1, 1, 9, 1, 3, 6, 3, 1, 9, 4, 6, 9, 1, 3, 6, 3, 1, 3, 10, 1, 3, 5, 7, 4, 1, 3, 6, 7, 9, 1, 10, 1, 6, 7, 2, 5, 10, 1, 2, 3, 6, 7, 8, 10, 1, 2, 3, 5, 8, 9, 10, 1, 8, 1, 2, 7, 7, 5, 10, 2, 2, 8, 7, 3, 5, 1, 3, 4, 7, 6, 7, 8, 4, 3, 7, 1, 4, 10, 3, 3, 5, 10, 8, 5, 2, 4, 8, 10, 10, 1, 2, 3, 4, 5, 6, 7, 8, 10, 7, 6, 1, 2, 3, 5, 6, 8, 9, 1, 3, 4, 5, 6, 7, 8, 9, 10, 1, 2, 3, 5, 8, 9, 10, 2, 1, 2, 3, 4, 5, 7, 8, 4, 6], \"Freq\": [0.17960216736328397, 0.08196608980337793, 0.3384114663573287, 0.014464604082949044, 0.2917028490061391, 0.09371858062077403, 0.9986876524986391, 0.9990988059936892, 0.9984413337344865, 0.2716407905612109, 0.7274063010844141, 0.8892466481370744, 0.11008358827420375, 0.9981897217385892, 0.7579629415790868, 0.24149741570714336, 0.999621747358516, 0.2771040569743536, 0.07994955127621192, 0.3372021890561319, 0.10469584095694419, 0.20068968993824626, 0.97903218121319, 0.020428028510630702, 0.3757297809986948, 0.6233698639296528, 0.2738160051979922, 0.7260646624319133, 0.8705427047827966, 0.12893962784731394, 0.9983545239799625, 0.13624450944147481, 0.04063432737728196, 0.11643954315674915, 0.5811733209759151, 0.08229304956239455, 0.04302458192888678, 0.9996689134416681, 0.9995917060818659, 0.3104069118756491, 0.6894812961192085, 0.9990220948389638, 0.9985532468202823, 0.9983333219153794, 0.9996958218536451, 0.9971732057352212, 0.9997390267187924, 0.9991765631875923, 0.9995384956598097, 0.9994218908179618, 0.998368303829193, 0.9982304056444997, 0.9972451985700344, 0.9992654865152508, 0.9985986101575924, 0.09997798553587496, 0.18392896575683865, 0.715872904066036, 0.9976393515090062, 0.324406362015904, 0.6339094403067184, 0.04159055923280821, 0.9997345764293702, 0.9982675064419616, 0.9990684764464565, 0.9992827320801287, 0.9994435542066256, 0.9992578251393145, 0.9988806735888548, 0.9979629173573542, 0.9972855221219474, 0.17051875727850535, 0.624713979264983, 0.188509268367522, 0.016165386775638124, 0.07287563341902226, 0.2609964545704518, 0.6656256982632788, 0.46739351662731005, 0.2275957078695982, 0.0661035552460418, 0.09751070187979523, 0.14133215985189035, 0.9998075048261901, 0.9986980783689609, 0.23006848384465797, 0.3252276996756945, 0.4440763405448372, 0.9984748567513451, 0.9987557442268858, 0.9982365480069706, 0.9969405090117358, 0.9972845299855558, 0.999459399465348, 0.9982549381019137, 0.9997845913323157, 0.9962951656265998, 0.9989582437389625, 0.14122009823511297, 0.3991781635102453, 0.4591892411957796, 0.9996646809677208, 0.9997821952983985, 0.9988102947775637, 0.997858430499769, 0.9985529355565239, 0.35007990993470856, 0.1479293895515351, 0.4455562490078109, 0.05657857130257916, 0.999874149596304, 0.9997884550921069, 0.9973230178840041, 0.09661754906285794, 0.17722263915181527, 0.10123130842821913, 0.6247572975918511, 0.0002713976097271291, 0.3159215886024059, 0.6839633814026037, 0.9990622094407802, 0.9995975571393385, 0.9987846029286708, 0.23785578305295557, 0.029060733122007854, 0.7328358787288937, 0.9999025042670204, 0.9999000218302634, 0.9988515504779738, 0.5106659698873348, 0.48862736452844857, 0.99949469723497, 0.9992112885639707, 0.9987644259716252, 0.9999777268800798, 0.9997117522702038, 0.1825119744914415, 0.17495574624816526, 0.1249683901772609, 0.5173110105012195, 0.8777813738488993, 0.12149223167458813, 0.07841247493116053, 0.11531246313405961, 0.5392430094196388, 0.059543162781950786, 0.17066244543840822, 0.03689998820289908, 0.996974199795678, 0.9987275268509286, 0.9979545882098136, 0.48410901285017005, 0.5147852275258243, 0.9998316766737033, 0.9985941913250473, 0.9997442592128342, 0.9994163217294837, 0.9979037948166325, 0.8676177335557631, 0.053304618924341005, 0.0782557171442453, 0.9983161691130498, 0.23782501203120293, 0.7608248122446175, 0.9989170537949017, 0.9988037986271997, 0.9977939718868715, 0.9994658077111032, 0.9989465770966582, 0.9980117036225652, 0.9995728626512945, 0.9990346885810165, 0.4778202647541446, 0.293097603159956, 0.2287196527970076, 0.9995787469073272, 0.27579021783067303, 0.10043343693760853, 0.40173374775043413, 0.11730625434312678, 0.1046516412889881, 0.9959612405405012, 0.9992726981622774, 0.9976961695228818, 0.9978152346970404, 0.25507135265246755, 0.20377008200647198, 0.5126539563155783, 0.02834126140582973, 0.3907925749475383, 0.13799070533365346, 0.12169259053046604, 0.09996177079288282, 0.13292018072821737, 0.06682227069306841, 0.04979979523196155, 0.9986261752031728, 0.9973321896617754, 0.9996232085173264, 0.999733695214111, 0.9993893645559887, 0.9970248502153191, 0.8694585405713865, 0.13045320145548514, 0.998854078640673, 0.998080938964397, 0.9981703625983083, 0.9987637934015832, 0.998792552371418, 0.27825967648980143, 0.09978542908986791, 0.09901547979133499, 0.22713504306721477, 0.19171737533469993, 0.10394315530194574, 0.9993063077561688, 0.9980842074134018, 0.9988077017444768, 0.27538398599625397, 0.7240807377632215, 0.9992901655112814, 0.9987998633375967, 0.9994702091084414, 0.5437008547848365, 0.19189441933582466, 0.26425177130760724, 0.2162897513285874, 0.5445412562860907, 0.1523923868838021, 0.08651590053143497, 0.9981486169911455, 0.998710119258781, 0.4658182881743558, 0.11126402540393183, 0.24382260112440565, 0.17887422265895261, 0.5241688827071288, 0.07422100880655921, 0.1408296064534713, 0.17032769969710382, 0.06239458432639318, 0.02800279819441611, 0.9984380446503717, 0.361785856054946, 0.6373620478361065, 0.9979256090897681, 0.9974165941698054, 0.17477489261424334, 0.24545591536265057, 0.17606000211875983, 0.40352438441817945, 0.2085794611683181, 0.21174257520922926, 0.10531309100915973, 0.030886878281838365, 0.09842866633188249, 0.05284261103639817, 0.028281960836382115, 0.13396718290917844, 0.12987374120917577, 0.9995456758284411, 0.5018248801614843, 0.23306651000573994, 0.1654591756579321, 0.09962306657974059, 0.9994424513586101, 0.9968939395320533, 0.9972080819345804, 0.9995195627186514, 0.9971169513440873, 0.8431571309774722, 0.15678768620977096, 0.9996492028109641, 0.16793938683508325, 0.34814052187716427, 0.48379581216724077, 0.9991350983801709, 0.21011508489524125, 0.026194718806568536, 0.25210094624477664, 0.06576546423776782, 0.1391478325256726, 0.23500935666885958, 0.07171036495982593, 0.3732901165435014, 0.1877161920351467, 0.10095435720007176, 0.07792498128705805, 0.20619324945372747, 0.05409225505149734, 0.9985392740993069, 0.534972932881134, 0.27620292970543275, 0.18876590757974843, 0.997824929771375, 0.1445713513708874, 0.08914280954094243, 0.09771423353526382, 0.05199997223221642, 0.34914267070202454, 0.13685706977599815, 0.09257137913867099, 0.03799997970815815, 0.9982927621730394, 0.997834910941209, 0.9973824794180478, 0.566230644193944, 0.3628186839878721, 0.07094721790851954, 0.9994629778388404, 0.9990681704012965, 0.9980594930897169, 0.9974773649420791, 0.29095230844636827, 0.09346508602244245, 0.16278971684481128, 0.11054404752453534, 0.12515969727151868, 0.12581658040621457, 0.07436855489235505, 0.011448534633271062, 0.00544274597319444, 0.9991604165919179, 0.9991407703915918, 0.9974622977418641, 0.23504200883968235, 0.11988742282988335, 0.11638778996996181, 0.193479702398519, 0.08915731333609618, 0.14371825611411093, 0.04286217007484848, 0.03636285190642278, 0.023097576875482112, 0.8094647797521547, 0.19037467584159987, 0.9990765727465568, 0.9976581013577461, 0.9997204645653406, 0.9994087730829874, 0.852026985838739, 0.14518845498597346, 0.9993571369720606, 0.9986424989758192, 0.4769594122042446, 0.0871793362704447, 0.32639606574683405, 0.0315867160400162, 0.04822238648775806, 0.02969151307761523, 0.16313527603469577, 0.3836911270839348, 0.06464568047994937, 0.04829412600560924, 0.2658078273852036, 0.07453266690629458, 0.2842986319119317, 0.12831177192485416, 0.3585181862606219, 0.22894845578748485, 0.06533703406922639, 0.22308771092105226, 0.7114967561367332, 0.8066392584205776, 0.1923948964365796, 0.9990356799287305, 0.9983162709805226, 0.14511522304208999, 0.09726221383518095, 0.09920745811188458, 0.20152730706649494, 0.007780977106814477, 0.4491569034908657, 0.9980656743904747, 0.2565184521342906, 0.35303034501649894, 0.390280549286825, 0.9986661114470674, 0.9997056725231481, 0.682223105660482, 0.09223085888371674, 0.060377933392948585, 0.16496962903427684, 0.9973150611887267, 0.9973396809727861, 0.9968654183913189, 0.999817374879693, 0.9994200109634843, 0.20727825027937888, 0.7914260465212648, 0.6747833308631201, 0.13865410908146303, 0.018487214544195073, 0.08134374399445832, 0.08565742738810384, 0.9996039711237753, 0.9968052695892664, 0.9993233329361204, 0.9994704288537332, 0.9976800472296204, 0.9985797498648599, 0.09167418924394061, 0.1499839626746103, 0.4212647267638223, 0.33707414480510134, 0.3651152285937799, 0.0690817069522039, 0.0599863097986222, 0.505877327399211, 0.1067379995489261, 0.42251485271791994, 0.3046839894745327, 0.03352509916548256, 0.1323748400872363, 0.9992812729937439, 0.47097501872421804, 0.16884010105207817, 0.2026654523664164, 0.15708722474794368, 0.2421948623453769, 0.21968097373298975, 0.5376043705018507, 0.9984159288189954, 0.9979938843258748, 0.30194917141664807, 0.23066636772402058, 0.21638165977771914, 0.07184574784814675, 0.0650904179819155, 0.07388642041190409, 0.036521002089312596, 0.00365913701087525, 0.9970579291482274, 0.9998561467598132, 0.15504135890382897, 0.38089487692238755, 0.028573327362083865, 0.30337419747047306, 0.13193423329796986, 0.31635285585654604, 0.271384089185306, 0.16863287501715005, 0.0768820849540555, 0.0647937068166254, 0.06642563786517847, 0.027803269716089256, 0.007676120117268121, 0.9981111103043252, 0.9978869358980715, 0.9990636921924066, 0.999765035626259, 0.9969859651564306, 0.9996033991182086, 0.3564688240490352, 0.19271097753172506, 0.06972657698425615, 0.11156252317480983, 0.16083597091035085, 0.08367189238110737, 0.02523438024192127, 0.9996803121070615, 0.9964830273968196, 0.9995686068605025, 0.171973570068666, 0.8274539837335291, 0.9972491614036276, 0.9981929811958564, 0.9990408458555183, 0.99984113400863, 0.9984450919307999, 0.9988076150329751, 0.35168788564235093, 0.18743365723438932, 0.3896541914787411, 0.07113686777765735, 0.9970352085557576, 0.5926126797032806, 0.27078839226453544, 0.0733092927244662, 0.06313718990623883, 0.1612452444596325, 0.752644728021204, 0.08588061933176079, 0.3238978846204457, 0.67544558865971, 0.9988386084330528, 0.9978991135052951, 0.2783421400914135, 0.19792890365502, 0.24390044139714936, 0.04153698426218119, 0.06784866824320701, 0.04360644255282368, 0.07686559365243495, 0.03621552008624339, 0.013894934237170933, 0.9983783224325345, 0.14112807313259265, 0.404749350586256, 0.45394540424867386, 0.4005747828941431, 0.27524915613618134, 0.1207908178950092, 0.11172120016910407, 0.09152068796140628, 0.29137993554309377, 0.06728326258350768, 0.39339004333099253, 0.24797137903760494, 0.9992200882699317, 0.9978440534931541, 0.999441563319134, 0.9344103270620057, 0.06415354484306307, 0.9996064301281429, 0.1734121130878373, 0.14314381698523299, 0.08134604577574914, 0.16395327055577344, 0.21376984122464307, 0.2244898627609821, 0.9980810778512726, 0.9670102421796896, 0.032845207124218345, 0.9977434714698777, 0.15951673022071952, 0.8403619664778132, 0.8035287642952781, 0.19580427926710012, 0.3981367516093518, 0.6014150326425254, 0.9985816737927468, 0.2899441706429846, 0.06202576529345936, 0.32379552051500815, 0.11122586386522033, 0.21299017031279432, 0.29018023268280113, 0.138896626420599, 0.07655559672597342, 0.4942608022042953, 0.21350836765509917, 0.09681763688417384, 0.1360542581477601, 0.49682734716878685, 0.05605231609083749, 0.9997147526731068, 0.9985515935935225, 0.9982818570119607, 0.9992504796660561, 0.99861442218732, 0.9998388335487487, 0.9996924635227024, 0.9971660442548331, 0.26391845508613804, 0.5515261773165439, 0.1843425365803935, 0.9981210300132063, 0.9992091197236717, 0.9980415703048, 0.9988764137008768, 0.9996826170797283, 0.9966518548698282, 0.9989348951344749, 0.9993858333334863, 0.9983089046373992, 0.9990902943965221, 0.9988915381347762, 0.9991107318596004, 0.9991650999815279, 0.9996318798651118, 0.998039165052673, 0.9995293271590426, 0.5256160309171889, 0.4741080011613842, 0.13726293994371475, 0.8618997802557113, 0.9990355307940484, 0.12855500768339093, 0.07241028457194328, 0.7323069666315248, 0.06670307002440096, 0.9989588251018017, 0.9964201105776912, 0.5840702721581825, 0.14704471864774682, 0.05579049619282159, 0.07957714185642768, 0.03503124179549262, 0.0430322044277965, 0.055574253959516075, 0.14505985009658234, 0.13551693325521172, 0.3996002500977078, 0.15456519639920738, 0.03355049109977934, 7.514107749110714e-05, 0.1316471677644197, 0.9986421778667345, 0.9998085951951659, 0.9985680479494876, 0.2847390131852584, 0.19859395376893313, 0.10883211704886898, 0.049977286378936815, 0.2932877595395503, 0.0644443955938922, 0.998988093054006, 0.9982452466909782, 0.20403879029983604, 0.24911060373912156, 0.3817077644380984, 0.07929646845749815, 0.08565514753192018, 0.9981353424020319, 0.10081456128741095, 0.276231897927506, 0.6222274722659004, 0.9993996791312786, 0.17925016746529845, 0.18444582449327812, 0.0865942837996611, 0.5490077592898513, 0.9960016474646514, 0.9995655444392608, 0.2951955940673849, 0.7045149841960736, 0.37357379526135404, 0.18420665820394694, 0.07718281415609957, 0.09625414904932185, 0.12272964925403042, 0.06977864884461327, 0.05182915718040407, 0.024231813746682422, 0.9996041792397559, 0.9992199624771702, 0.9991809512429343, 0.9998587068433927, 0.999178268457656, 0.9981067273601834, 0.9992279281312912, 0.999860776065131, 0.9987287720328821, 0.0908585069969431, 0.908585069969431, 0.9980698919221833, 0.9973529964776323, 0.9980206218552102, 0.9992233763987698, 0.999445457468851, 0.9987482223177201, 0.9993927619484473, 0.18905474431423708, 0.20378280513191843, 0.12639354010810183, 0.06239342128217739, 0.08033487718735287, 0.09827633309252834, 0.07819261379569012, 0.1612053202226214, 0.9992273478809169, 0.9982899717229748, 0.9984431322210028, 0.9988573504780319, 0.9997603320607211, 0.3465336423212701, 0.053024772346087407, 0.6002246535086846, 0.9990152595267026, 0.9993119841183633, 0.9985649197096631, 0.999014680305487, 0.44043021843489627, 0.09738222895443113, 0.0663056441986842, 0.39582460324669055, 0.9993968868711918, 0.9992439668733301, 0.2491415739221061, 0.7507132853080567, 0.9989344232251134, 0.9992182948419113, 0.9994236132994527, 0.9987035400744981, 0.8364608049739014, 0.1627980185119161, 0.9993801708798854, 0.9983028435943185, 0.9966361085949227, 0.9976473670953993, 0.9994331001733553, 0.9993826170579547, 0.9976534806755872, 0.22400119332576077, 0.7750285190678761, 0.8263226202021359, 0.08966773007201809, 0.08345996414395529, 0.9999558408802056, 0.9985452536314926, 0.18574633701984178, 0.059339685374470645, 0.7547949660531561, 0.15108357289737648, 0.2941551381411042, 0.311160215610073, 0.02567112656373172, 0.21779579989102324, 0.9978530065891155, 0.9993064334533125, 0.9993029318007838, 0.9989199530960549, 0.8476463867540295, 0.15227108634869635, 0.9994791019635817, 0.998911855150162, 0.997943453781514, 0.9995166213728779, 0.9981926480732847, 0.9994216598429634, 0.34732163372347297, 0.5881965901762072, 0.06447427440385382, 0.9993773955557165, 0.9990851759514753, 0.9993640422963875, 0.9982382394946501, 0.4209143040340685, 0.3960750342772354, 0.11406856216978023, 0.0688864106788799, 0.9980176176939947, 0.29533872687115753, 0.13478545924321284, 0.4796776637773163, 0.03964278213035672, 0.050214190698451844, 0.9996799092465288, 0.9969438367889365, 0.30473634729455773, 0.3478750679642047, 0.347322007442799, 0.21377154512756416, 0.11226232047946529, 0.6735739228767917, 0.25493023075175, 0.24061131490375143, 0.1991266054375874, 0.09822508628440131, 0.08430763536672047, 0.10906463940297965, 0.013515985987363123, 0.1680411633664919, 0.3318812976488215, 0.020030993749121682, 0.08055016635285102, 0.19781367383251167, 0.13723361674930173, 0.06447666376996918, 0.9979266991741148, 0.9967458036832263, 0.11051877227538245, 0.8893307456534681, 0.9983827185492913, 0.9984229269812028, 0.9995345122068611, 0.9975120711392979, 0.999271987664055, 0.9998831515605872, 0.9982884762962196, 0.9978639222213378, 0.2830290231410102, 0.7166545860163269, 0.6122508924500505, 0.08746441320715008, 0.16474640219018416, 0.13524348072030967, 0.9989378207941031, 0.9977845267755476, 0.9992628305655173, 0.9979383939986546, 0.43753316230727707, 0.5623278443399369, 0.9987588976807041, 0.9970277170801025, 0.9973651777124987, 0.9994099799036255, 0.8741916134338884, 0.05752265954297155, 0.06811032173589042, 0.9990551331023472, 0.9988218727976127, 0.5353261111636791, 0.2561211168401175, 0.041770825922422594, 0.1665336875591322, 0.9995852770088055, 0.28594780592059915, 0.10060458745504057, 0.17548709400759765, 0.19351658996728233, 0.09591691850552254, 0.07896919230341894, 0.0388235146331877, 0.021274805232427935, 0.00937533789903604, 0.9992357812463059, 0.9995499470042335, 0.2237141283948619, 0.16036935026511037, 0.03524110895950965, 0.06512913807706848, 0.4264620274087497, 0.049069898551215976, 0.03992505382121663, 0.9992243583081403, 0.16860616218065022, 0.22427232061216407, 0.15674947139559856, 0.09083430906514173, 0.16318021894003337, 0.09063334820437813, 0.04059409387424475, 0.06491035802663889, 0.1303347510958096, 0.29231552988574566, 0.16995088946845677, 0.09751664830190071, 0.11861400009798499, 0.04617975893142894, 0.1451028973530686, 0.998426383741142, 0.12209878908612404, 0.3856247469978744, 0.04553954836185167, 0.25108036705509523, 0.048556661296798365, 0.01838553194733142, 0.12860443885210285, 0.9974150743146628, 0.9992478216511843], \"Term\": [\"able\", \"able\", \"able\", \"able\", \"able\", \"able\", \"additive\", \"adult\", \"affordable\", \"afternoon\", \"afternoon\", \"allergy\", \"allergy\", \"alot\", \"amazing\", \"amazing\", \"amazon\", \"amount\", \"amount\", \"amount\", \"amount\", \"amount\", \"apple\", \"apple\", \"area\", \"area\", \"aroma\", \"aroma\", \"artificial\", \"artificial\", \"auto\", \"available\", \"available\", \"available\", \"available\", \"available\", \"available\", \"awesome\", \"baby\", \"bag\", \"bag\", \"baking\", \"ball\", \"banana\", \"bar\", \"bargain\", \"bean\", \"beautiful\", \"beef\", \"benefit\", \"berry\", \"beverage\", \"bill\", \"biscuit\", \"bit\", \"bitter\", \"bitter\", \"bitter\", \"bitterness\", \"black\", \"black\", \"black\", \"blend\", \"blood\", \"blue\", \"blueberry\", \"bold\", \"bone\", \"bonus\", \"book\", \"boost\", \"bottle\", \"bottle\", \"bottle\", \"bottle\", \"box\", \"box\", \"box\", \"brand\", \"brand\", \"brand\", \"brand\", \"brand\", \"bread\", \"break\", \"breakfast\", \"breakfast\", \"breakfast\", \"breath\", \"brew\", \"brewer\", \"brewing\", \"broth\", \"bulk\", \"busy\", \"butter\", \"buttery\", \"cake\", \"calorie\", \"calorie\", \"calorie\", \"can\", \"candy\", \"cappuccino\", \"carb\", \"careful\", \"case\", \"case\", \"case\", \"case\", \"cat\", \"cereal\", \"charge\", \"cheap\", \"cheap\", \"cheap\", \"cheap\", \"cheap\", \"cheese\", \"cheese\", \"cherry\", \"chew\", \"chewy\", \"chicken\", \"chicken\", \"chicken\", \"chip\", \"chocolate\", \"cinnamon\", \"clean\", \"clean\", \"coat\", \"cocoa\", \"coconut\", \"coffee\", \"cold\", \"color\", \"color\", \"color\", \"color\", \"combination\", \"combination\", \"company\", \"company\", \"company\", \"company\", \"company\", \"company\", \"conditioner\", \"consistency\", \"control\", \"cook\", \"cook\", \"cookie\", \"cool\", \"corn\", \"cracker\", \"cranberry\", \"crazy\", \"crazy\", \"crazy\", \"creamer\", \"creamy\", \"creamy\", \"crunch\", \"crunchy\", \"crust\", \"cup\", \"customer\", \"dairy\", \"dark\", \"date\", \"day\", \"day\", \"day\", \"decaf\", \"delicious\", \"delicious\", \"delicious\", \"delicious\", \"delicious\", \"delightful\", \"delivery\", \"dessert\", \"diamond\", \"diet\", \"diet\", \"diet\", \"diet\", \"different\", \"different\", \"different\", \"different\", \"different\", \"different\", \"different\", \"digestive\", \"discount\", \"dish\", \"dog\", \"door\", \"dozen\", \"drink\", \"drink\", \"drinker\", \"drop\", \"duck\", \"early\", \"earth\", \"easy\", \"easy\", \"easy\", \"easy\", \"easy\", \"easy\", \"eater\", \"egg\", \"empty\", \"energy\", \"energy\", \"enjoy\", \"enjoyable\", \"espresso\", \"excellent\", \"excellent\", \"excellent\", \"expensive\", \"expensive\", \"expensive\", \"expensive\", \"expiration\", \"fabulous\", \"family\", \"family\", \"family\", \"family\", \"favorite\", \"favorite\", \"favorite\", \"favorite\", \"favorite\", \"favorite\", \"feed\", \"fiber\", \"fiber\", \"filler\", \"filter\", \"find\", \"find\", \"find\", \"find\", \"first\", \"first\", \"first\", \"first\", \"first\", \"first\", \"first\", \"first\", \"first\", \"fish\", \"flavor\", \"flavor\", \"flavor\", \"flavor\", \"flavorful\", \"flavour\", \"flax\", \"flour\", \"flower\", \"food\", \"food\", \"formula\", \"free\", \"free\", \"free\", \"french\", \"fresh\", \"fresh\", \"fresh\", \"fresh\", \"fresh\", \"fresh\", \"fresh\", \"friend\", \"friend\", \"friend\", \"friend\", \"friend\", \"friend\", \"frozen\", \"fruit\", \"fruit\", \"fruit\", \"fruity\", \"full\", \"full\", \"full\", \"full\", \"full\", \"full\", \"full\", \"full\", \"garden\", \"garlic\", \"german\", \"gift\", \"gift\", \"gift\", \"ginger\", \"girl\", \"gluten\", \"gold\", \"good\", \"good\", \"good\", \"good\", \"good\", \"good\", \"good\", \"good\", \"good\", \"grain\", \"granola\", \"gravy\", \"great\", \"great\", \"great\", \"great\", \"great\", \"great\", \"great\", \"great\", \"great\", \"green\", \"green\", \"greenie\", \"grind\", \"grocery\", \"ground\", \"guest\", \"guest\", \"hair\", \"handy\", \"happy\", \"happy\", \"happy\", \"happy\", \"happy\", \"happy\", \"hard\", \"hard\", \"hard\", \"hard\", \"hard\", \"hard\", \"health\", \"health\", \"health\", \"health\", \"healthy\", \"healthy\", \"healthy\", \"heat\", \"heat\", \"heavy\", \"herbal\", \"high\", \"high\", \"high\", \"high\", \"high\", \"high\", \"hint\", \"home\", \"home\", \"home\", \"homemade\", \"honey\", \"hour\", \"hour\", \"hour\", \"hour\", \"impossible\", \"inch\", \"indian\", \"ingredient\", \"instant\", \"instruction\", \"instruction\", \"issue\", \"issue\", \"issue\", \"issue\", \"issue\", \"item\", \"jasmine\", \"juice\", \"kcup\", \"kernel\", \"kick\", \"kid\", \"kid\", \"kid\", \"kid\", \"large\", \"large\", \"large\", \"large\", \"last\", \"last\", \"last\", \"last\", \"last\", \"licorice\", \"light\", \"light\", \"light\", \"light\", \"line\", \"line\", \"line\", \"list\", \"litter\", \"little\", \"little\", \"little\", \"little\", \"little\", \"little\", \"little\", \"little\", \"liver\", \"local\", \"long\", \"long\", \"long\", \"long\", \"long\", \"love\", \"love\", \"love\", \"love\", \"love\", \"love\", \"love\", \"love\", \"lovely\", \"lover\", \"lunch\", \"machine\", \"mail\", \"maker\", \"many\", \"many\", \"many\", \"many\", \"many\", \"many\", \"many\", \"meal\", \"mean\", \"meat\", \"medium\", \"medium\", \"messy\", \"microwave\", \"middle\", \"milk\", \"mineral\", \"mint\", \"minute\", \"minute\", \"minute\", \"minute\", \"mixture\", \"month\", \"month\", \"month\", \"month\", \"morning\", \"morning\", \"morning\", \"mother\", \"mother\", \"mountain\", \"movie\", \"much\", \"much\", \"much\", \"much\", \"much\", \"much\", \"much\", \"much\", \"much\", \"muffin\", \"natural\", \"natural\", \"natural\", \"nice\", \"nice\", \"nice\", \"nice\", \"nice\", \"night\", \"night\", \"night\", \"night\", \"noodle\", \"nutritious\", \"oatmeal\", \"old\", \"old\", \"olive\", \"one\", \"one\", \"one\", \"one\", \"one\", \"one\", \"onion\", \"order\", \"order\", \"ordering\", \"organic\", \"organic\", \"original\", \"original\", \"ounce\", \"ounce\", \"outstanding\", \"pack\", \"pack\", \"pack\", \"pack\", \"pack\", \"package\", \"package\", \"package\", \"package\", \"packaging\", \"packaging\", \"packaging\", \"packaging\", \"packaging\", \"packet\", \"pancake\", \"pantry\", \"pasta\", \"peach\", \"peanut\", \"pepper\", \"peppermint\", \"perfect\", \"perfect\", \"perfect\", \"period\", \"personal\", \"pick\", \"picky\", \"pill\", \"pink\", \"pizza\", \"plan\", \"plant\", \"pleasant\", \"pleased\", \"pocket\", \"pod\", \"popcorn\", \"pork\", \"potato\", \"pound\", \"pound\", \"powder\", \"powder\", \"pretzel\", \"price\", \"price\", \"price\", \"price\", \"pricey\", \"prime\", \"problem\", \"problem\", \"problem\", \"problem\", \"problem\", \"problem\", \"problem\", \"product\", \"product\", \"product\", \"product\", \"product\", \"product\", \"product\", \"program\", \"protein\", \"pumpkin\", \"purchase\", \"purchase\", \"purchase\", \"purchase\", \"purchase\", \"purchase\", \"pure\", \"purse\", \"quality\", \"quality\", \"quality\", \"quality\", \"quality\", \"raisin\", \"recipe\", \"recipe\", \"recipe\", \"restaurant\", \"result\", \"result\", \"result\", \"result\", \"reward\", \"rice\", \"rich\", \"rich\", \"right\", \"right\", \"right\", \"right\", \"right\", \"right\", \"right\", \"right\", \"roast\", \"salad\", \"salmon\", \"salt\", \"salty\", \"sampler\", \"sandwich\", \"sauce\", \"sausage\", \"scent\", \"scent\", \"school\", \"science\", \"season\", \"seasoning\", \"seed\", \"seller\", \"service\", \"several\", \"several\", \"several\", \"several\", \"several\", \"several\", \"several\", \"several\", \"shape\", \"share\", \"ship\", \"shipment\", \"shipping\", \"size\", \"size\", \"size\", \"sized\", \"skin\", \"sleep\", \"slice\", \"small\", \"small\", \"small\", \"small\", \"smooth\", \"smoothie\", \"snack\", \"snack\", \"soda\", \"sodium\", \"soup\", \"sour\", \"spice\", \"spice\", \"spicy\", \"spoon\", \"spot\", \"stale\", \"starbuck\", \"stash\", \"steak\", \"stock\", \"stock\", \"stomach\", \"stomach\", \"stomach\", \"store\", \"strawberry\", \"strong\", \"strong\", \"strong\", \"stuff\", \"stuff\", \"stuff\", \"stuff\", \"stuff\", \"style\", \"subscribe\", \"subscription\", \"subtle\", \"sugar\", \"sugar\", \"summer\", \"super\", \"superior\", \"supermarket\", \"supplement\", \"supply\", \"sweet\", \"sweet\", \"sweet\", \"sweetener\", \"sweetness\", \"syrup\", \"table\", \"taste\", \"taste\", \"taste\", \"taste\", \"tasting\", \"tasty\", \"tasty\", \"tasty\", \"tasty\", \"tasty\", \"tea\", \"temperature\", \"texture\", \"texture\", \"texture\", \"thank\", \"thank\", \"thank\", \"thing\", \"thing\", \"thing\", \"thing\", \"thing\", \"thing\", \"thing\", \"time\", \"time\", \"time\", \"time\", \"time\", \"time\", \"time\", \"tomato\", \"toobr\", \"tooth\", \"tooth\", \"town\", \"traditional\", \"training\", \"trap\", \"travel\", \"treat\", \"tree\", \"tuna\", \"vanilla\", \"vanilla\", \"variety\", \"variety\", \"variety\", \"variety\", \"vegetable\", \"vegetarian\", \"veggie\", \"vendor\", \"version\", \"version\", \"vinegar\", \"waffle\", \"wait\", \"warm\", \"water\", \"water\", \"water\", \"way\", \"weak\", \"week\", \"week\", \"week\", \"week\", \"weight\", \"well\", \"well\", \"well\", \"well\", \"well\", \"well\", \"well\", \"well\", \"well\", \"wellness\", \"wheat\", \"whole\", \"whole\", \"whole\", \"whole\", \"whole\", \"whole\", \"whole\", \"wine\", \"wonderful\", \"wonderful\", \"wonderful\", \"wonderful\", \"wonderful\", \"wonderful\", \"wonderful\", \"wonderful\", \"work\", \"work\", \"work\", \"work\", \"work\", \"work\", \"work\", \"worry\", \"year\", \"year\", \"year\", \"year\", \"year\", \"year\", \"year\", \"yeast\", \"yummy\"]}, \"R\": 30, \"lambda.step\": 0.01, \"plot.opts\": {\"xlab\": \"PC1\", \"ylab\": \"PC2\"}, \"topic.order\": [10, 3, 7, 6, 4, 9, 1, 5, 8, 2]};\n",
              "\n",
              "function LDAvis_load_lib(url, callback){\n",
              "  var s = document.createElement('script');\n",
              "  s.src = url;\n",
              "  s.async = true;\n",
              "  s.onreadystatechange = s.onload = callback;\n",
              "  s.onerror = function(){console.warn(\"failed to load library \" + url);};\n",
              "  document.getElementsByTagName(\"head\")[0].appendChild(s);\n",
              "}\n",
              "\n",
              "if(typeof(LDAvis) !== \"undefined\"){\n",
              "   // already loaded: just create the visualization\n",
              "   !function(LDAvis){\n",
              "       new LDAvis(\"#\" + \"ldavis_el1471399217097827367129921597\", ldavis_el1471399217097827367129921597_data);\n",
              "   }(LDAvis);\n",
              "}else if(typeof define === \"function\" && define.amd){\n",
              "   // require.js is available: use it to load d3/LDAvis\n",
              "   require.config({paths: {d3: \"https://d3js.org/d3.v5\"}});\n",
              "   require([\"d3\"], function(d3){\n",
              "      window.d3 = d3;\n",
              "      LDAvis_load_lib(\"https://cdn.jsdelivr.net/gh/bmabey/pyLDAvis@3.3.1/pyLDAvis/js/ldavis.v3.0.0.js\", function(){\n",
              "        new LDAvis(\"#\" + \"ldavis_el1471399217097827367129921597\", ldavis_el1471399217097827367129921597_data);\n",
              "      });\n",
              "    });\n",
              "}else{\n",
              "    // require.js not available: dynamically load d3 & LDAvis\n",
              "    LDAvis_load_lib(\"https://d3js.org/d3.v5.js\", function(){\n",
              "         LDAvis_load_lib(\"https://cdn.jsdelivr.net/gh/bmabey/pyLDAvis@3.3.1/pyLDAvis/js/ldavis.v3.0.0.js\", function(){\n",
              "                 new LDAvis(\"#\" + \"ldavis_el1471399217097827367129921597\", ldavis_el1471399217097827367129921597_data);\n",
              "            })\n",
              "         });\n",
              "}\n",
              "</script>"
            ],
            "text/plain": [
              "PreparedData(topic_coordinates=              x         y  topics  cluster       Freq\n",
              "topic                                                \n",
              "9     -0.137113  0.026504       1        1  16.287059\n",
              "2      0.045314 -0.111506       2        1  14.447668\n",
              "6     -0.170405  0.049673       3        1  14.009822\n",
              "5     -0.016075 -0.235050       4        1  10.308228\n",
              "3     -0.140673  0.040757       5        1  10.030490\n",
              "8     -0.105303 -0.138884       6        1   9.573752\n",
              "0     -0.101653  0.268976       7        1   6.844516\n",
              "4      0.188631  0.002548       8        1   6.564897\n",
              "7      0.274943  0.138532       9        1   6.255492\n",
              "1      0.162334 -0.041551      10        1   5.678077, topic_info=        Term          Freq         Total Category  logprob  loglift\n",
              "3     coffee  28457.000000  28457.000000  Default  30.0000  30.0000\n",
              "30      food  21851.000000  21851.000000  Default  29.0000  29.0000\n",
              "136    store  12848.000000  12848.000000  Default  28.0000  28.0000\n",
              "84    flavor  29922.000000  29922.000000  Default  27.0000  27.0000\n",
              "90   product  26616.000000  26616.000000  Default  26.0000  26.0000\n",
              "..       ...           ...           ...      ...      ...      ...\n",
              "213  several    601.711508   3734.368067  Topic10  -5.1636   1.0430\n",
              "219    great    693.466618  30003.147245  Topic10  -5.0216  -0.8988\n",
              "21     water    624.298968   9161.606994  Topic10  -5.1267   0.1824\n",
              "352   health    545.656523   2384.816260  Topic10  -5.2614   1.3937\n",
              "667    light    548.481958   3488.507744  Topic10  -5.2562   1.0185\n",
              "\n",
              "[551 rows x 6 columns], token_table=      Topic      Freq   Term\n",
              "term                        \n",
              "490       1  0.179602   able\n",
              "490       3  0.081966   able\n",
              "490       4  0.338411   able\n",
              "490       5  0.014465   able\n",
              "490       8  0.291703   able\n",
              "...     ...       ...    ...\n",
              "340       5  0.048557   year\n",
              "340       7  0.018386   year\n",
              "340       8  0.128604   year\n",
              "1527      4  0.997415  yeast\n",
              "980       6  0.999248  yummy\n",
              "\n",
              "[842 rows x 3 columns], R=30, lambda_step=0.01, plot_opts={'xlab': 'PC1', 'ylab': 'PC2'}, topic_order=[10, 3, 7, 6, 4, 9, 1, 5, 8, 2])"
            ]
          },
          "metadata": {},
          "execution_count": 79
        }
      ]
    }
  ]
}