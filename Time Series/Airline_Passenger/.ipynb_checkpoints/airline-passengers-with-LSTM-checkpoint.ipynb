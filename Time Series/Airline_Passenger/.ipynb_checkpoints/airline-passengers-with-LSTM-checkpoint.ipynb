{
 "cells": [
  {
   "cell_type": "code",
   "execution_count": 9,
   "metadata": {},
   "outputs": [
    {
     "name": "stdout",
     "output_type": "stream",
     "text": [
      "Collecting scikit-learn\n",
      "  Downloading scikit_learn-0.24.2-cp37-cp37m-win_amd64.whl (6.8 MB)\n",
      "Requirement already satisfied: scipy>=0.19.1 in c:\\users\\atharv\\.conda\\envs\\tf\\lib\\site-packages (from scikit-learn) (1.5.0)\n",
      "Collecting threadpoolctl>=2.0.0\n",
      "  Downloading threadpoolctl-2.2.0-py3-none-any.whl (12 kB)\n",
      "Collecting joblib>=0.11\n",
      "  Using cached joblib-1.0.1-py3-none-any.whl (303 kB)\n",
      "Requirement already satisfied: numpy>=1.13.3 in c:\\users\\atharv\\.conda\\envs\\tf\\lib\\site-packages (from scikit-learn) (1.18.5)\n",
      "Installing collected packages: threadpoolctl, joblib, scikit-learn\n",
      "Successfully installed joblib-1.0.1 scikit-learn-0.24.2 threadpoolctl-2.2.0\n"
     ]
    }
   ],
   "source": [
    "!pip install scikit-learn"
   ]
  },
  {
   "cell_type": "code",
   "execution_count": 3,
   "metadata": {},
   "outputs": [],
   "source": [
    "import numpy as np\n",
    "import pandas as pd \n",
    "import matplotlib.pyplot as plt\n",
    "import math"
   ]
  },
  {
   "cell_type": "markdown",
   "metadata": {},
   "source": [
    "## Loading and Visualizing Dataset"
   ]
  },
  {
   "cell_type": "code",
   "execution_count": 4,
   "metadata": {
    "scrolled": true
   },
   "outputs": [
    {
     "data": {
      "text/html": [
       "<div>\n",
       "<style scoped>\n",
       "    .dataframe tbody tr th:only-of-type {\n",
       "        vertical-align: middle;\n",
       "    }\n",
       "\n",
       "    .dataframe tbody tr th {\n",
       "        vertical-align: top;\n",
       "    }\n",
       "\n",
       "    .dataframe thead th {\n",
       "        text-align: right;\n",
       "    }\n",
       "</style>\n",
       "<table border=\"1\" class=\"dataframe\">\n",
       "  <thead>\n",
       "    <tr style=\"text-align: right;\">\n",
       "      <th></th>\n",
       "      <th>Month</th>\n",
       "      <th>International airline passengers: monthly totals in thousands. Jan 49 ? Dec 60</th>\n",
       "    </tr>\n",
       "  </thead>\n",
       "  <tbody>\n",
       "    <tr>\n",
       "      <th>0</th>\n",
       "      <td>1949-01</td>\n",
       "      <td>112</td>\n",
       "    </tr>\n",
       "    <tr>\n",
       "      <th>1</th>\n",
       "      <td>1949-02</td>\n",
       "      <td>118</td>\n",
       "    </tr>\n",
       "    <tr>\n",
       "      <th>2</th>\n",
       "      <td>1949-03</td>\n",
       "      <td>132</td>\n",
       "    </tr>\n",
       "    <tr>\n",
       "      <th>3</th>\n",
       "      <td>1949-04</td>\n",
       "      <td>129</td>\n",
       "    </tr>\n",
       "    <tr>\n",
       "      <th>4</th>\n",
       "      <td>1949-05</td>\n",
       "      <td>121</td>\n",
       "    </tr>\n",
       "  </tbody>\n",
       "</table>\n",
       "</div>"
      ],
      "text/plain": [
       "     Month  \\\n",
       "0  1949-01   \n",
       "1  1949-02   \n",
       "2  1949-03   \n",
       "3  1949-04   \n",
       "4  1949-05   \n",
       "\n",
       "   International airline passengers: monthly totals in thousands. Jan 49 ? Dec 60  \n",
       "0                                                112                               \n",
       "1                                                118                               \n",
       "2                                                132                               \n",
       "3                                                129                               \n",
       "4                                                121                               "
      ]
     },
     "execution_count": 4,
     "metadata": {},
     "output_type": "execute_result"
    }
   ],
   "source": [
    "data = pd.read_csv('international-airline-passengers.csv', skipfooter = 5,engine='python')\n",
    "data.head()"
   ]
  },
  {
   "cell_type": "markdown",
   "metadata": {},
   "source": [
    "### Now lets checkout the data"
   ]
  },
  {
   "cell_type": "code",
   "execution_count": 5,
   "metadata": {},
   "outputs": [
    {
     "data": {
      "image/png": "[encoded data removed]",
      "text/plain": [
       "<Figure size 432x288 with 1 Axes>"
      ]
     },
     "metadata": {
      "needs_background": "light"
     },
     "output_type": "display_data"
    }
   ],
   "source": [
    "dataset = data.iloc[:,1].values\n",
    "plt.plot(dataset)\n",
    "plt.xlabel('time')\n",
    "plt.ylabel('# of Passenger')\n",
    "plt.title('International Airline Passenger')\n",
    "plt.show()"
   ]
  },
  {
   "cell_type": "markdown",
   "metadata": {},
   "source": [
    "### We can see an upward trend in the plot."
   ]
  },
  {
   "cell_type": "markdown",
   "metadata": {},
   "source": [
    "# Preprocessing Data"
   ]
  },
  {
   "cell_type": "markdown",
   "metadata": {},
   "source": [
    "### We need to preprocess our data \n",
    "1. It's best to normalize data before moving forward for that we will use MinMax scaler"
   ]
  },
  {
   "cell_type": "code",
   "execution_count": 10,
   "metadata": {},
   "outputs": [],
   "source": [
    "from sklearn.preprocessing import MinMaxScaler\n",
    "from sklearn.metrics import mean_squared_error"
   ]
  },
  {
   "cell_type": "markdown",
   "metadata": {},
   "source": [
    "2. Reshape our data"
   ]
  },
  {
   "cell_type": "code",
   "execution_count": 11,
   "metadata": {},
   "outputs": [
    {
     "data": {
      "text/plain": [
       "(142, 1)"
      ]
     },
     "execution_count": 11,
     "metadata": {},
     "output_type": "execute_result"
    }
   ],
   "source": [
    "dataset = dataset.reshape(-1,1)\n",
    "dataset = dataset.astype(\"float32\")\n",
    "dataset.shape"
   ]
  },
  {
   "cell_type": "markdown",
   "metadata": {},
   "source": [
    "3. Scalling and Spliting Test-Train Dataset"
   ]
  },
  {
   "cell_type": "code",
   "execution_count": 12,
   "metadata": {},
   "outputs": [],
   "source": [
    "scaler = MinMaxScaler(feature_range = (0,1))\n",
    "dataset = scaler.fit_transform(dataset)"
   ]
  },
  {
   "cell_type": "code",
   "execution_count": 13,
   "metadata": {},
   "outputs": [
    {
     "name": "stdout",
     "output_type": "stream",
     "text": [
      "Train size : 71\n",
      "Test size : 71\n"
     ]
    }
   ],
   "source": [
    "train_size = int(len(dataset) * 0.50)\n",
    "test_size = len(dataset) - train_size\n",
    "train = dataset[0:train_size,:]\n",
    "test = dataset[train_size:len(dataset),:]\n",
    "print(\"Train size : {}\".format(len(train)))\n",
    "print(\"Test size : {}\".format(len(test)))"
   ]
  },
  {
   "cell_type": "markdown",
   "metadata": {},
   "source": [
    "Creating Dataset"
   ]
  },
  {
   "cell_type": "code",
   "execution_count": 14,
   "metadata": {},
   "outputs": [],
   "source": [
    "time_stemp = 10\n",
    "dataX = []\n",
    "dataY = []\n",
    "for i in range(len(train) - time_stemp - 1):\n",
    "    a = train[i:(i+time_stemp),0]\n",
    "    dataX.append(a)\n",
    "    dataY.append(train[i+time_stemp,0])\n",
    "trainX = np.array(dataX)\n",
    "trainY = np.array(dataY)"
   ]
  },
  {
   "cell_type": "code",
   "execution_count": 15,
   "metadata": {},
   "outputs": [],
   "source": [
    "dataX = []\n",
    "dataY = []\n",
    "for i in range(len(train) - time_stemp - 1):\n",
    "    a = test[i:(i+time_stemp),0]\n",
    "    dataX.append(a)\n",
    "    dataY.append(test[i+time_stemp,0])\n",
    "testX = np.array(dataX)\n",
    "testY = np.array(dataY)"
   ]
  },
  {
   "cell_type": "code",
   "execution_count": 16,
   "metadata": {},
   "outputs": [],
   "source": [
    "trainX = np.reshape(trainX, (trainX.shape[0],1,trainX.shape[1]))\n",
    "testX = np.reshape(testX,(testX.shape[0],1,testX.shape[1]))"
   ]
  },
  {
   "cell_type": "code",
   "execution_count": 17,
   "metadata": {},
   "outputs": [
    {
     "name": "stdout",
     "output_type": "stream",
     "text": [
      "TrainX shape (60, 1, 10)\n"
     ]
    }
   ],
   "source": [
    "print(\"TrainX shape\",trainX.shape)"
   ]
  },
  {
   "cell_type": "markdown",
   "metadata": {},
   "source": [
    "# Implementing LSTM Model"
   ]
  },
  {
   "cell_type": "code",
   "execution_count": 18,
   "metadata": {},
   "outputs": [
    {
     "name": "stderr",
     "output_type": "stream",
     "text": [
      "Using TensorFlow backend.\n"
     ]
    }
   ],
   "source": [
    "from keras.models import Sequential\n",
    "from keras.layers import Dense\n",
    "from keras.layers import LSTM"
   ]
  },
  {
   "cell_type": "code",
   "execution_count": 19,
   "metadata": {},
   "outputs": [
    {
     "name": "stdout",
     "output_type": "stream",
     "text": [
      "Epoch 1/50\n",
      "60/60 [==============================] - 1s 9ms/step - loss: 0.0239\n",
      "Epoch 2/50\n",
      "60/60 [==============================] - 0s 1ms/step - loss: 0.0050\n",
      "Epoch 3/50\n",
      "60/60 [==============================] - 0s 1ms/step - loss: 0.0040\n",
      "Epoch 4/50\n",
      "60/60 [==============================] - 0s 1ms/step - loss: 0.0036\n",
      "Epoch 5/50\n",
      "60/60 [==============================] - 0s 1ms/step - loss: 0.0033\n",
      "Epoch 6/50\n",
      "60/60 [==============================] - 0s 1ms/step - loss: 0.0030\n",
      "Epoch 7/50\n",
      "60/60 [==============================] - 0s 1ms/step - loss: 0.0028\n",
      "Epoch 8/50\n",
      "60/60 [==============================] - 0s 1ms/step - loss: 0.0027\n",
      "Epoch 9/50\n",
      "60/60 [==============================] - 0s 1ms/step - loss: 0.0025\n",
      "Epoch 10/50\n",
      "60/60 [==============================] - 0s 1ms/step - loss: 0.0025\n",
      "Epoch 11/50\n",
      "60/60 [==============================] - 0s 1ms/step - loss: 0.0023\n",
      "Epoch 12/50\n",
      "60/60 [==============================] - 0s 1ms/step - loss: 0.0022\n",
      "Epoch 13/50\n",
      "60/60 [==============================] - 0s 1ms/step - loss: 0.0021\n",
      "Epoch 14/50\n",
      "60/60 [==============================] - 0s 1ms/step - loss: 0.0021\n",
      "Epoch 15/50\n",
      "60/60 [==============================] - 0s 1ms/step - loss: 0.0019\n",
      "Epoch 16/50\n",
      "60/60 [==============================] - 0s 1ms/step - loss: 0.0018\n",
      "Epoch 17/50\n",
      "60/60 [==============================] - 0s 1ms/step - loss: 0.0019\n",
      "Epoch 18/50\n",
      "60/60 [==============================] - 0s 1ms/step - loss: 0.0017\n",
      "Epoch 19/50\n",
      "60/60 [==============================] - 0s 1ms/step - loss: 0.0017\n",
      "Epoch 20/50\n",
      "60/60 [==============================] - 0s 1ms/step - loss: 0.0017\n",
      "Epoch 21/50\n",
      "60/60 [==============================] - 0s 1ms/step - loss: 0.0015\n",
      "Epoch 22/50\n",
      "60/60 [==============================] - 0s 1ms/step - loss: 0.0015\n",
      "Epoch 23/50\n",
      "60/60 [==============================] - 0s 1ms/step - loss: 0.0016\n",
      "Epoch 24/50\n",
      "60/60 [==============================] - 0s 1ms/step - loss: 0.0019\n",
      "Epoch 25/50\n",
      "60/60 [==============================] - 0s 1ms/step - loss: 0.0015\n",
      "Epoch 26/50\n",
      "60/60 [==============================] - 0s 1ms/step - loss: 0.0015\n",
      "Epoch 27/50\n",
      "60/60 [==============================] - 0s 1ms/step - loss: 0.0015\n",
      "Epoch 28/50\n",
      "60/60 [==============================] - 0s 1ms/step - loss: 0.0013\n",
      "Epoch 29/50\n",
      "60/60 [==============================] - 0s 1ms/step - loss: 0.0014\n",
      "Epoch 30/50\n",
      "60/60 [==============================] - 0s 1ms/step - loss: 0.0014\n",
      "Epoch 31/50\n",
      "60/60 [==============================] - 0s 1ms/step - loss: 0.0013\n",
      "Epoch 32/50\n",
      "60/60 [==============================] - 0s 1ms/step - loss: 0.0014\n",
      "Epoch 33/50\n",
      "60/60 [==============================] - 0s 1ms/step - loss: 0.0013\n",
      "Epoch 34/50\n",
      "60/60 [==============================] - 0s 1ms/step - loss: 0.0013\n",
      "Epoch 35/50\n",
      "60/60 [==============================] - 0s 1ms/step - loss: 0.0014\n",
      "Epoch 36/50\n",
      "60/60 [==============================] - 0s 1ms/step - loss: 0.0015\n",
      "Epoch 37/50\n",
      "60/60 [==============================] - 0s 1ms/step - loss: 0.0013\n",
      "Epoch 38/50\n",
      "60/60 [==============================] - 0s 1ms/step - loss: 0.0012\n",
      "Epoch 39/50\n",
      "60/60 [==============================] - 0s 1ms/step - loss: 0.0013\n",
      "Epoch 40/50\n",
      "60/60 [==============================] - 0s 1ms/step - loss: 0.0013\n",
      "Epoch 41/50\n",
      "60/60 [==============================] - 0s 1ms/step - loss: 0.0013\n",
      "Epoch 42/50\n",
      "60/60 [==============================] - 0s 1ms/step - loss: 0.0012\n",
      "Epoch 43/50\n",
      "60/60 [==============================] - 0s 1ms/step - loss: 0.0011\n",
      "Epoch 44/50\n",
      "60/60 [==============================] - 0s 1ms/step - loss: 0.0013\n",
      "Epoch 45/50\n",
      "60/60 [==============================] - 0s 1ms/step - loss: 0.0012\n",
      "Epoch 46/50\n",
      "60/60 [==============================] - 0s 1ms/step - loss: 0.0012\n",
      "Epoch 47/50\n",
      "60/60 [==============================] - 0s 1ms/step - loss: 0.0013\n",
      "Epoch 48/50\n",
      "60/60 [==============================] - 0s 1ms/step - loss: 0.0011\n",
      "Epoch 49/50\n",
      "60/60 [==============================] - 0s 1ms/step - loss: 0.0012\n",
      "Epoch 50/50\n",
      "60/60 [==============================] - 0s 1ms/step - loss: 0.0011\n"
     ]
    },
    {
     "data": {
      "text/plain": [
       "<keras.callbacks.callbacks.History at 0x1f40b3edf48>"
      ]
     },
     "execution_count": 19,
     "metadata": {},
     "output_type": "execute_result"
    }
   ],
   "source": [
    "# We will use simple LSTM for this data\n",
    "model = Sequential()\n",
    "model.add(LSTM(10,input_shape=(1,time_stemp))) #10LSTM neuron(block)\n",
    "model.add(Dense(1))\n",
    "model.compile(loss='mean_squared_error',optimizer='adam')\n",
    "model.fit(trainX,trainY,epochs = 50, batch_size = 1)"
   ]
  },
  {
   "cell_type": "markdown",
   "metadata": {},
   "source": [
    "## Predictions and Visualising RNN Model"
   ]
  },
  {
   "cell_type": "code",
   "execution_count": 20,
   "metadata": {
    "_cell_guid": "79c7e3d0-c299-4dcb-8224-4455121ee9b0",
    "_uuid": "d629ff2d2480ee46fbb7e2d37f6b5fab8052498a"
   },
   "outputs": [
    {
     "name": "stdout",
     "output_type": "stream",
     "text": [
      "Train Score 19.43 RMSE\n",
      "Test Score 57.45 RMSE\n"
     ]
    }
   ],
   "source": [
    "train_predict = model.predict(trainX)\n",
    "test_predict = model.predict(testX)\n",
    "train_predict = scaler.inverse_transform(train_predict)\n",
    "trainY = scaler.inverse_transform([trainY])\n",
    "test_predict = scaler.inverse_transform(test_predict)\n",
    "testY= scaler.inverse_transform([testY])\n",
    "train_score = math.sqrt(mean_squared_error(trainY[0],train_predict[:,0]))\n",
    "print('Train Score %.2f RMSE' %(train_score))\n",
    "test_score = math.sqrt(mean_squared_error(testY[0],test_predict[:,0]))\n",
    "print('Test Score %.2f RMSE' %(test_score))"
   ]
  },
  {
   "cell_type": "markdown",
   "metadata": {},
   "source": [
    "## Now lets plot our prediction and compare with its true value"
   ]
  },
  {
   "cell_type": "code",
   "execution_count": 21,
   "metadata": {},
   "outputs": [
    {
     "data": {
      "image/png": "[encoded data removed]",
      "text/plain": [
       "<Figure size 432x288 with 1 Axes>"
      ]
     },
     "metadata": {
      "needs_background": "light"
     },
     "output_type": "display_data"
    }
   ],
   "source": [
    "train_predict_plot = np.empty_like(dataset)\n",
    "train_predict_plot[:,:] = np.nan\n",
    "train_predict_plot[time_stemp:len(train_predict) +time_stemp,:]=train_predict\n",
    "test_predict_plot = np.empty_like(dataset)\n",
    "test_predict_plot[:,:] = np.nan\n",
    "test_predict_plot[len(train_predict)+(time_stemp*2)+1:len(dataset) -1,:] = test_predict\n",
    "plt.plot(scaler.inverse_transform(dataset))\n",
    "plt.plot(train_predict_plot)\n",
    "plt.plot(test_predict_plot)\n",
    "plt.show()\n"
   ]
  },
  {
   "cell_type": "code",
   "execution_count": null,
   "metadata": {},
   "outputs": [],
   "source": []
  }
 ],
 "metadata": {
  "kernelspec": {
   "display_name": "Python 3",
   "language": "python",
   "name": "python3"
  },
  "language_info": {
   "codemirror_mode": {
    "name": "ipython",
    "version": 3
   },
   "file_extension": ".py",
   "mimetype": "text/x-python",
   "name": "python",
   "nbconvert_exporter": "python",
   "pygments_lexer": "ipython3",
   "version": "3.7.7"
  }
 },
 "nbformat": 4,
 "nbformat_minor": 4
}
