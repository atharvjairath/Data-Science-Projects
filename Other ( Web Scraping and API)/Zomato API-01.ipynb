{
 "cells": [
  {
   "cell_type": "markdown",
   "metadata": {},
   "source": [
    "## ee702b336b4ec48d28640eda425763b6\n",
    "cusines  https://developers.zomato.com/api/v2.1/cuisines"
   ]
  },
  {
   "cell_type": "code",
   "execution_count": 61,
   "metadata": {},
   "outputs": [
    {
     "name": "stdout",
     "output_type": "stream",
     "text": [
      "193\n"
     ]
    }
   ],
   "source": [
    "import json\n",
    "import requests\n",
    "\n",
    "response=requests.get(\"https://developers.zomato.com/api/v2.1/cuisines\",headers={\"user-key\":\"ee702b336b4ec48d28640eda425763b6\"},\n",
    "                                                                                 params={\"city_id\":\"1\",\"query\":'USA'})\n",
    "\n",
    "for i in response.json().get(\"cuisines\"):\n",
    "    if i.get(\"cuisine\").get('cuisine_name') == \"BBQ\":\n",
    "        print(i.get(\"cuisine\").get('cuisine_id'))\n",
    "        \n"
   ]
  },
  {
   "cell_type": "code",
   "execution_count": 48,
   "metadata": {},
   "outputs": [
    {
     "name": "stdout",
     "output_type": "stream",
     "text": [
      "Xero Degrees 4.4 18729557\n",
      "The Art House Bar n Cafe 4.2 18863766\n",
      "Chaayos - Meri Wali Chai 4.1 18237315\n",
      "Cafe Delhi Heights 4.0 18579363\n",
      "Cafe Coffee Day - The Square 3.8 303034\n"
     ]
    }
   ],
   "source": [
    "import json\n",
    "import requests\n",
    "\n",
    "response=requests.get(\"https://developers.zomato.com/api/v2.1/search\",headers={\"user-key\":\"ee702b336b4ec48d28640eda425763b6\"},\n",
    "                                                                                 params={\"entity_id\":'104',\"entity_type\":'subzone',\n",
    "                                                                                        \"count\":\"10\",\"cuisines\":\"73\",\"sort\":\"rating\",\n",
    "                                                                                       \"order\":\"desc\",\"category\":\"6\"})\n",
    "\n",
    "\n",
    "for  i in response.json().get(\"restaurants\"):\n",
    "\n",
    "    print(i.get(\"restaurant\").get(\"name\"),i.get(\"restaurant\").get(\"user_rating\").get(\"aggregate_rating\"),i.get(\"restaurant\").get(\"R\").get(\"res_id\"))"
   ]
  },
  {
   "cell_type": "code",
   "execution_count": null,
   "metadata": {},
   "outputs": [],
   "source": []
  },
  {
   "cell_type": "code",
   "execution_count": 17,
   "metadata": {},
   "outputs": [
    {
     "name": "stdout",
     "output_type": "stream",
     "text": [
      "6\n"
     ]
    }
   ],
   "source": [
    "import json\n",
    "import requests\n",
    "\n",
    "response=requests.get(\"https://developers.zomato.com/api/v2.1/categories\",headers={\"user-key\":\"ee702b336b4ec48d28640eda425763b6\"})\n",
    "py_data=response.json()\n",
    "for i in response.json().get(\"categories\"):\n",
    "    x=i.get(\"categories\")\n",
    "    if x.get(\"name\")==\"Cafes\":\n",
    "        print(x.get(\"id\"))\n",
    "    "
   ]
  },
  {
   "cell_type": "code",
   "execution_count": 56,
   "metadata": {},
   "outputs": [
    {
     "name": "stdout",
     "output_type": "stream",
     "text": [
      "Sj (crispy Bites) 5 I love its food and presentation is so good. Even in delivery. Food looks so temptinga nd nice. Warm and fresh. Perfectly made. Red velvet shake was so good in flavours. Sweetened to good amount and was too heavy.  Cheesy fries are good and a bit on spicer side. Overall for taste and presentation i can give it 10/10. Flavours are different and food is lip smacking. Loved it\n",
      "Crispy Bites 5 Peri peri cheesy fries are my fav at this place. Its so awesome and full of cheese.  Food was packed very nicely and properly. Moreover fries were crisp and fresh when reached home.  Sugo rosa pasta  is good too . and nice in  taste .veggie affaire pizza is just awesome and so delicious. Loved it . Toppings are good and base is crisp. Full of cheese. Delivery time was very less and its 5/5.\n",
      "Madhur 5 So i was doing some shopping yesterday and was really tired wanted to have some good food, so we came here and tried pizza in a jar which was really delicious and scrumptious, then we had cheesy garlic bread another delicious dish we tried and we loved it alot then we had chicken sandwhich which was another scrumptious dish from the shakes we had popcorn freak shake and nutella oreo shake which was so soothing and amazing. Staff was courteous and polite and the interiors were good. Would surely recommend this if you are around cp!\n",
      "Sukant 5 I visited here with my cousin yesterday and had a really good experience. From the menu we had garlic bread was quite delicious and Nutella oreo freak shake was superb and pizza in a jar was speechless .... Overall scrumptious experience ever, the ambiance was also pretty and this place is pocket friendly which is the absolute advantage. Surely going to visit here soon!\n",
      "Aanchal Gursahani 5 Xero Degrees is love ♥️. Tried their Oreo mango shake , Red velvet freak shake, Chicken pink sauce pasta and Peri Peri fries. The taste was amazing. Everything tasted good and was presented beautifully.\n"
     ]
    }
   ],
   "source": [
    "import json\n",
    "import requests\n",
    "\n",
    "response=requests.get(\"https://developers.zomato.com/api/v2.1/reviews?res_id=18729557&count=5\",headers={\"user-key\":\"ee702b336b4ec48d28640eda425763b6\"})\n",
    "for i in response.json().get(\"user_reviews\"):\n",
    "    #print(i.get(\"review\").get(\"rating\"))\n",
    "    #print(i.get(\"review\").get(\"review_text\"))\n",
    "    print(i.get(\"review\").get(\"user\").get(\"name\"),i.get(\"review\").get(\"rating\"),i.get(\"review\").get(\"review_text\"))\n",
    "\n",
    "\n",
    "\n",
    "\n",
    "   "
   ]
  },
  {
   "cell_type": "code",
   "execution_count": 71,
   "metadata": {},
   "outputs": [
    {
     "name": "stdout",
     "output_type": "stream",
     "text": [
      "4.2 1400 North Indian, Continental, Italian, Chinese G-15/B, Vijay Nagar, New Delhi\n"
     ]
    }
   ],
   "source": [
    "\n",
    "import json\n",
    "import requests\n",
    "\n",
    "response=requests.get(\"https://developers.zomato.com/api/v2.1/restaurant?res_id=18241524\",headers={\"user-key\":\"ee702b336b4ec48d28640eda425763b6\"})\n",
    "\n",
    "\n",
    "print(response.json().get(\"user_rating\").get('aggregate_rating'),response.json().get(\"average_cost_for_two\"),response.json().get(\"cuisines\"),response.json().get(\"location\").get('address'))\n",
    "\n"
   ]
  },
  {
   "cell_type": "code",
   "execution_count": null,
   "metadata": {},
   "outputs": [],
   "source": [
    "## 77.141548 long\n",
    "## 28.697281 lat"
   ]
  },
  {
   "cell_type": "code",
   "execution_count": 81,
   "metadata": {},
   "outputs": [
    {
     "name": "stdout",
     "output_type": "stream",
     "text": [
      "Themis Barbecue House 4.5 18204820 Netaji Subhash Place\n",
      "Barbeque Nation 4.1 9561 Netaji Subhash Place\n",
      "New Bombay Bar-Be-Que 3.6 5303 Prashant Vihar\n",
      "UBQ by Barbeque Nation 3.7 19082741 Lawrence Road\n",
      "Moet's Barbeque 0 19238917 Alipur\n",
      "Kays Bar-Be-Que 3.8 3079 Ashok Vihar Phase 1\n",
      "7teen BBQ Bistro Bnq 3.8 18595610 Moti Nagar\n",
      "Pishori Chicken 0 19061375 Kirti Nagar\n",
      "Hunger On Wheels 0 19054336 Vijay Nagar\n",
      "Sanjay's 3.2 18560760 Kamla Nagar\n"
     ]
    }
   ],
   "source": [
    "import json\n",
    "import requests\n",
    "\n",
    "response=requests.get(\"https://developers.zomato.com/api/v2.1/search?count=10&lat=28.697281&lon=77.141548&cuisines=193&sort=real_distance&order=desc\",headers={\"user-key\":\"ee702b336b4ec48d28640eda425763b6\"})\n",
    "\n",
    "for  i in response.json().get(\"restaurants\"):\n",
    "    print(i.get(\"restaurant\").get(\"name\"),i.get(\"restaurant\").get(\"user_rating\").get(\"aggregate_rating\"),i.get(\"restaurant\").get(\"R\").get(\"res_id\"),i.get(\"restaurant\").get(\"location\").get(\"locality\"))\n",
    "\n",
    "\n",
    "\n",
    "\n",
    "   "
   ]
  },
  {
   "cell_type": "code",
   "execution_count": 88,
   "metadata": {},
   "outputs": [],
   "source": [
    "## Open and read data file as specified in the question\n",
    "## Print the required output in given format\n",
    "## Open and read data file as specified in the question\n",
    "## Print the required output in given format\n",
    "## Open and read data file as specified in the question\n",
    "## Print the required output in given format\n",
    "import json\n",
    "import requests\n",
    "\n",
    "response=requests.get(\"https://developers.zomato.com/api/v2.1/reviews?res_id=18204820%20&count=5\",headers={\"user-key\":\"ee702b336b4ec48d28640eda425763b6\"})\n",
    "for i in response.json().get(\"user_reviews\"):\n",
    "    #print(i.get(\"review\").get(\"rating\"))\n",
    "    #print(i.get(\"review\").get(\"review_text\"))\n",
    "    print(i.get(\"review\").get(\"user\").get(\"name\"),i.get(\"review\").get(\"rating\"),i.get(\"review\").get(\"review_text\"))\n",
    "\n",
    "\n"
   ]
  },
  {
   "cell_type": "code",
   "execution_count": 89,
   "metadata": {},
   "outputs": [
    {
     "name": "stdout",
     "output_type": "stream",
     "text": [
      "Themis Barbecue House 4.5 18204820 Netaji Subhash Place\n",
      "Barbeque Nation 4.1 9561 Netaji Subhash Place\n",
      "New Bombay Bar-Be-Que 3.6 5303 Prashant Vihar\n",
      "UBQ by Barbeque Nation 3.7 19082741 Lawrence Road\n",
      "Moet's Barbeque 0 19238917 Alipur\n",
      "Kays Bar-Be-Que 3.8 3079 Ashok Vihar Phase 1\n",
      "7teen BBQ Bistro Bnq 3.8 18595610 Moti Nagar\n",
      "Pishori Chicken 0 19061375 Kirti Nagar\n",
      "Hunger On Wheels 0 19054336 Vijay Nagar\n",
      "Sanjay's 3.2 18560760 Kamla Nagar\n"
     ]
    }
   ],
   "source": [
    "## Open and read data file as specified in the question\n",
    "## Print the required output in given format\n",
    "import json\n",
    "import requests\n",
    "\n",
    "response=requests.get(\"https://developers.zomato.com/api/v2.1/search?count=10&lat=28.697281&lon=77.141548&radius=4000&cuisines=193&sort=real_distance&order=desc\",headers={\"user-key\":\"ee702b336b4ec48d28640eda425763b6\"})\n",
    "\n",
    "for  i in response.json().get(\"restaurants\"):\n",
    "    print(i.get(\"restaurant\").get(\"name\"),i.get(\"restaurant\").get(\"user_rating\").get(\"aggregate_rating\"),i.get(\"restaurant\").get(\"R\").get(\"res_id\"),i.get(\"restaurant\").get(\"location\").get(\"locality\"))\n",
    "\n",
    "\n",
    "\n",
    "\n",
    "   "
   ]
  }
 ],
 "metadata": {
  "kernelspec": {
   "display_name": "Python 3",
   "language": "python",
   "name": "python3"
  },
  "language_info": {
   "codemirror_mode": {
    "name": "ipython",
    "version": 3
   },
   "file_extension": ".py",
   "mimetype": "text/x-python",
   "name": "python",
   "nbconvert_exporter": "python",
   "pygments_lexer": "ipython3",
   "version": "3.7.3"
  }
 },
 "nbformat": 4,
 "nbformat_minor": 2
}
